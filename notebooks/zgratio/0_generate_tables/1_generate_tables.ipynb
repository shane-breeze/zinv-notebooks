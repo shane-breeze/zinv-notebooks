{
 "cells": [
  {
   "cell_type": "markdown",
   "metadata": {},
   "source": [
    "# Generate tables\n",
    "\n",
    "This notebook will convert NanoAOD files to the dataframe format for the $Z+\\mathrm{jets}/\\gamma+\\mathrm{jets}$ analysis. No selection is applied here.\n",
    "\n",
    "The configuration desired is communicated to the `zinv-analysis` repository through yaml config files found under the `reprocessing` directory. These can be edited as needed.\n",
    "\n",
    "Import the relevant packages:"
   ]
  },
  {
   "cell_type": "code",
   "execution_count": 1,
   "metadata": {},
   "outputs": [
    {
     "name": "stdout",
     "output_type": "stream",
     "text": [
      "Welcome to JupyROOT 6.18/00\n"
     ]
    }
   ],
   "source": [
    "import glob\n",
    "import oyaml as yaml\n",
    "import numpy as np\n",
    "import pandas as pd\n",
    "import dftools"
   ]
  },
  {
   "cell_type": "code",
   "execution_count": 2,
   "metadata": {},
   "outputs": [
    {
     "name": "stdout",
     "output_type": "stream",
     "text": [
      "Help on function analyse in module zinv.modules.analyse:\n",
      "\n",
      "analyse(dataset_cfg, sequence_cfg, event_selection_cfg, physics_object_cfg, trigger_cfg, hdf_cfg, name='zinv', outdir='output', tempdir='_ccsp_temp', mode='multiprocessing', batch_opts='-q hep.q', ncores=0, nblocks_per_dataset=-1, nblocks_per_process=-1, nfiles_per_dataset=-1, nfiles_per_process=1, blocksize=1000000, cachesize=8, quiet=False, dryrun=False, sample=None)\n",
      "\n"
     ]
    }
   ],
   "source": [
    "import zinv\n",
    "help(zinv.modules.analyse)"
   ]
  },
  {
   "cell_type": "code",
   "execution_count": 3,
   "metadata": {},
   "outputs": [
    {
     "name": "stdout",
     "output_type": "stream",
     "text": [
      "Help on function resume in module zinv.modules.resume:\n",
      "\n",
      "resume(path, batch_opts='-q hep.q', sleep=5, request_resubmission_options=True)\n",
      "\n"
     ]
    }
   ],
   "source": [
    "help(zinv.modules.resume)"
   ]
  },
  {
   "cell_type": "code",
   "execution_count": 13,
   "metadata": {},
   "outputs": [
    {
     "name": "stdout",
     "output_type": "stream",
     "text": [
      "{'energy': 13000, 'lumi': 35860}\n",
      "{'name': 'SingleMuon_Run2016B_v1', 'parent': 'SingleMuon', 'isdata': True, 'nevents': 2789243, 'sumweights': 2789243.0, 'files': ['root://xrootd-cms.infn.it///store/data/Run2016B_ver1/SingleMuon/NANOAOD/Nano14Dec2018_ver1-v1/90000/4074F613-50E6-5545-8347-CCF58D02E64C.root', 'root://xrootd-cms.infn.it///store/data/Run2016B_ver1/SingleMuon/NANOAOD/Nano14Dec2018_ver1-v1/90000/87B8F064-C966-FD4F-BD32-E1FCB470AC7B.root', 'root://xrootd-cms.infn.it///store/data/Run2016B_ver1/SingleMuon/NANOAOD/Nano14Dec2018_ver1-v1/90000/BD130B6E-3ACD-0743-9F08-D0D6BDCD372D.root'], 'file_nevents': [1514174, 142544, 1132525], 'DAS': '/SingleMuon/Run2016B_ver1-Nano14Dec2018_ver1-v1/NANOAOD', 'tree': 'Events', 'xsection': None}\n"
     ]
    }
   ],
   "source": [
    "with open(\"configs/datasets.yaml\", \"r\") as f:\n",
    "    datasets = yaml.load(f)\n",
    "print(datasets[\"default\"])\n",
    "print(datasets[\"datasets\"][0])"
   ]
  },
  {
   "cell_type": "code",
   "execution_count": 22,
   "metadata": {},
   "outputs": [
    {
     "data": {
      "text/plain": [
       "{'name': 'jec_variations',\n",
       " 'module': 'zinv.modules.readers.JecVariations',\n",
       " 'args': {'jes_unc_file': 'http://www.hep.ph.ic.ac.uk/~sdb15/Analysis/ZinvWidth/data/jecs/legacy/Summer16_07Aug2017_V11_MC_UncertaintySources_AK4PFchs.csv',\n",
       "  'jer_sf_file': 'http://www.hep.ph.ic.ac.uk/~sdb15/Analysis/ZinvWidth/data//jecs/legacy/Summer16_25nsV1_MC_SF_AK4PFchs.csv',\n",
       "  'jer_file': 'http://www.hep.ph.ic.ac.uk/~sdb15/Analysis/ZinvWidth/data/jecs/legacy/Summer16_25nsV1_MC_PtResolution_AK4PFchs.csv',\n",
       "  'apply_jer_corrections': True,\n",
       "  'jes_regex': 'jes(?P<source>.*)',\n",
       "  'unclust_threshold': 15.0,\n",
       "  'maxdr_jets_with_genjets': 0.2,\n",
       "  'ndpt_jets_with_genjets': 3.0,\n",
       "  'data': False}}"
      ]
     },
     "execution_count": 22,
     "metadata": {},
     "output_type": "execute_result"
    }
   ],
   "source": [
    "with open(\"configs/module_sequence.yaml\", \"r\") as f:\n",
    "    sequence = yaml.load(f)\n",
    "sequence[\"sequence\"][5]"
   ]
  },
  {
   "cell_type": "code",
   "execution_count": 23,
   "metadata": {},
   "outputs": [
    {
     "data": {
      "text/plain": [
       "{'selections': {}, 'grouped_selections': {}, 'cutflows': {}}"
      ]
     },
     "execution_count": 23,
     "metadata": {},
     "output_type": "execute_result"
    }
   ],
   "source": [
    "with open(\"configs/event_selection.yaml\", \"r\") as f:\n",
    "    event_selection = yaml.load(f)\n",
    "event_selection"
   ]
  },
  {
   "cell_type": "code",
   "execution_count": 25,
   "metadata": {},
   "outputs": [
    {
     "data": {
      "text/plain": [
       "{'original': 'Muon',\n",
       " 'selections': ['ev, source, nsig: ev.Muon_ptShift(ev, source, nsig)>30.',\n",
       "  'ev, source, nsig: np.abs(ev.Muon.eta)<2.4',\n",
       "  'ev, source, nsig: np.abs(ev.Muon.pfRelIso04_all)<0.15',\n",
       "  'ev, source, nsig: ev.Muon.tightId>=1']}"
      ]
     },
     "execution_count": 25,
     "metadata": {},
     "output_type": "execute_result"
    }
   ],
   "source": [
    "with open(\"configs/object_selection.yaml\", \"r\") as f:\n",
    "    object_selection = yaml.load(f)\n",
    "object_selection[\"MuonSelection\"]"
   ]
  },
  {
   "cell_type": "code",
   "execution_count": 26,
   "metadata": {},
   "outputs": [
    {
     "data": {
      "text/plain": [
       "{'Data': {}, 'MC': {}}"
      ]
     },
     "execution_count": 26,
     "metadata": {},
     "output_type": "execute_result"
    }
   ],
   "source": [
    "with open(\"configs/trigger_selection.yaml\", \"r\") as f:\n",
    "    trigger = yaml.load(f)\n",
    "trigger"
   ]
  },
  {
   "cell_type": "code",
   "execution_count": 36,
   "metadata": {},
   "outputs": [
    {
     "name": "stdout",
     "output_type": "stream",
     "text": [
      "ev, source, nsig: ev.METnoX_pt(ev, source, nsig)\n",
      "float64\n"
     ]
    }
   ],
   "source": [
    "with open(\"configs/hdf_output.yaml\", \"r\") as f:\n",
    "    hdf_output = yaml.load(f)\n",
    "print(hdf_output[\"attributes\"][\"Both\"]['METnoX_pt'])\n",
    "print(hdf_output[\"dtypes\"][\"METnoX_pt\"])"
   ]
  },
  {
   "cell_type": "markdown",
   "metadata": {},
   "source": [
    "## Run the table generator\n",
    "\n",
    "Note that the following block is commented out. Although it can be run within this notebook, the results are typically lost if the connection is dropped or any issues happens with the browser. Therefore, for longer running blocks it is advised to run this in the terminal in an `ipython` session (where blocks of code run here are saved in the ipython session's history for easy access)"
   ]
  },
  {
   "cell_type": "code",
   "execution_count": 4,
   "metadata": {},
   "outputs": [],
   "source": [
    "#zinv.modules.analyse(\n",
    "#    \"configs/datasets.yaml\",\n",
    "#    \"configs/module_sequence.yaml\",\n",
    "#    \"configs/event_selection.yaml\",\n",
    "#    \"configs/object_selection.yaml\",\n",
    "#    \"configs/trigger_selection.yaml\",\n",
    "#    \"configs/hdf_output.yaml\",\n",
    "#    outdir=\"/vols/cms/sdb15/Analysis/ZinvWidth/databases/2019/08_Aug/28_Legacy/Data\",\n",
    "#    tempdir=\"/vols/cms/sdb15/_ccsp_temp/\",\n",
    "#    mode=\"sge\",\n",
    "#    batch_opts=\"-q hep.q -l h_rt=3:0:0 -l h_vmem=24G\",\n",
    "#    #mode=\"multiprocessing\",\n",
    "#    #ncores=0,\n",
    "#    nblocks_per_process=4,\n",
    "#    blocksize=1_000_000,\n",
    "#    sample=\"data\",\n",
    "#)"
   ]
  },
  {
   "cell_type": "markdown",
   "metadata": {},
   "source": [
    "The options provided are:\n",
    "\n",
    "* `datasets.yaml` - contains the information on where the relevant NanoAOD files are located with important information/naming conventions\n",
    "* `module_sequence.yaml` - the sequence of modules to run on the NanoAOD files. These modules are defined inside the `zinv-analysis` package, but can be defined outside\n",
    "* `event_selection.yaml` - can be used to define an event selection flag to each events. Currently this doesn't do anything with the modules defined. Event selection is applied elsewhere.\n",
    "* `object_selection.yaml` - the cuts defining the analysis-level physics objects\n",
    "* `trigger_selection.yaml` - the triggers to use. Currently this is not used with te modules defined. Trigger selection is applied elsewhere, along with the event selection.\n",
    "* `hdf_output.yaml` - the event attributes to save into the output dataframe. Each column can only have one value per event.\n",
    "\n",
    "other options are hopefully self-explanatory."
   ]
  },
  {
   "cell_type": "markdown",
   "metadata": {},
   "source": [
    "If the command above was running and stopped for some reason, then it can be resumed (after ensuring all jobs are killed) with the following"
   ]
  },
  {
   "cell_type": "code",
   "execution_count": 5,
   "metadata": {},
   "outputs": [],
   "source": [
    "#zinv.modules.resume(\n",
    "#    \"/vols/cms/sdb15/_ccsp_temp/tpd_20190828_211305_2ursnd44\",\n",
    "#    batch_opts=\"-q hep.q -pe hep.pe 2 -l h_rt=3:0:0 -l h_vmem=24G\",\n",
    "#    request_resubmission_options=False,\n",
    "#)"
   ]
  },
  {
   "cell_type": "markdown",
   "metadata": {},
   "source": [
    "The same is done for MC"
   ]
  },
  {
   "cell_type": "code",
   "execution_count": 6,
   "metadata": {},
   "outputs": [],
   "source": [
    "#zinv.modules.analyse(\n",
    "#    \"configs/datasets.yaml\",\n",
    "#    \"configs/module_sequence.yaml\",\n",
    "#    \"configs/event_selection.yaml\",\n",
    "#    \"configs/object_selection.yaml\",\n",
    "#    \"configs/trigger_selection.yaml\",\n",
    "#    \"configs/hdf_output.yaml\",\n",
    "#    outdir=\"/vols/cms/sdb15/Analysis/ZinvWidth/databases/2019/08_Aug/28_Legacy/MC\",\n",
    "#    tempdir=\"/vols/cms/sdb15/_ccsp_temp/\",\n",
    "#    mode=\"sge\",\n",
    "#    batch_opts=\"-q hep.q -l h_rt=3:0:0 -l h_vmem=24G\",\n",
    "#    #mode=\"multiprocessing\",\n",
    "#    #ncores=0,\n",
    "#    nblocks_per_process=4,\n",
    "#    blocksize=1_000_000,\n",
    "#    sample=\"MC\",\n",
    "#)"
   ]
  },
  {
   "cell_type": "code",
   "execution_count": 7,
   "metadata": {},
   "outputs": [],
   "source": [
    "#zinv.modules.resume(\n",
    "#    \"/vols/cms/sdb15/_ccsp_temp/tpd_20190815_142352_3g0w1x_t\",\n",
    "#    batch_opts=\"-q hep.q -l h_rt=3:0:0 -l h_vmem=24G\",\n",
    "#)"
   ]
  },
  {
   "cell_type": "markdown",
   "metadata": {},
   "source": [
    "## TODO\n",
    "\n",
    "All aspects of the $\\mathrm{Z}/\\gamma$ analysis are not implemented yet. The TODO list looks something like this:\n",
    "\n",
    "* Cross-check the object definitions in `configs/object_selection.yaml`\n",
    "    * Add a module to calculate the relevant high pt ID isolation variable and apply this to the high pt muons as needed\n",
    "* Cross-check variables saved in `configs/hdf_output.yaml`\n",
    "* Include necessary variables inside the JEC and lepton scale variation HDF output yaml configs\n",
    "* Add a module to find the relevant gen photon and store this in the output\n",
    "* Determine NNLO QCD+nNLO EW correction for $\\gamma+\\mathrm{jets}$\n",
    "    * Need to apply the dynamic photon isolation requirement on possible gen photons"
   ]
  },
  {
   "cell_type": "code",
   "execution_count": null,
   "metadata": {},
   "outputs": [],
   "source": []
  },
  {
   "cell_type": "code",
   "execution_count": null,
   "metadata": {},
   "outputs": [],
   "source": []
  },
  {
   "cell_type": "code",
   "execution_count": null,
   "metadata": {},
   "outputs": [],
   "source": []
  }
 ],
 "metadata": {
  "kernelspec": {
   "display_name": "Python 3",
   "language": "python",
   "name": "python3"
  },
  "language_info": {
   "codemirror_mode": {
    "name": "ipython",
    "version": 3
   },
   "file_extension": ".py",
   "mimetype": "text/x-python",
   "name": "python",
   "nbconvert_exporter": "python",
   "pygments_lexer": "ipython3",
   "version": "3.7.3"
  },
  "widgets": {
   "application/vnd.jupyter.widget-state+json": {
    "state": {},
    "version_major": 2,
    "version_minor": 0
   }
  }
 },
 "nbformat": 4,
 "nbformat_minor": 4
}
