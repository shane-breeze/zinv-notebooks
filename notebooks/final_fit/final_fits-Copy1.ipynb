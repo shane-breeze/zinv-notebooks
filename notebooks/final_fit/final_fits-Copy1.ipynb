{
 "cells": [
  {
   "cell_type": "code",
   "execution_count": 1,
   "metadata": {},
   "outputs": [
    {
     "name": "stdout",
     "output_type": "stream",
     "text": [
      "Welcome to JupyROOT 6.18/00\n"
     ]
    }
   ],
   "source": [
    "import copy\n",
    "import numpy as np\n",
    "import pandas as pd\n",
    "import scipy.stats\n",
    "import dftools\n",
    "import matplotlib.pyplot as plt"
   ]
  },
  {
   "cell_type": "code",
   "execution_count": 2,
   "metadata": {},
   "outputs": [],
   "source": [
    "plt.style.use(\"cms\")"
   ]
  },
  {
   "cell_type": "code",
   "execution_count": 3,
   "metadata": {},
   "outputs": [],
   "source": [
    "_df_data = pd.read_hdf(\"data/fitinputs_v2.h5\", \"Data\")\n",
    "_df_mc = pd.read_hdf(\"data/fitinputs_v2.h5\", \"MC\")\n",
    "_df_mc_smooth = pd.read_hdf(\"data/fitinputs_v2.h5\", \"MCSmoothv2\")\n",
    "_df_mc_p4 = pd.read_hdf(\"data/fitinputs_v2.h5\", \"MCPoly4\")\n",
    "_df_mc_flat = pd.read_hdf(\"data/fitinputs_v2.h5\", \"MCFlat\")\n",
    "\n",
    "_df_data = _df_data.loc[~_df_data.index.duplicated(keep=\"first\")]\n",
    "_df_mc = _df_mc.loc[~_df_mc.index.duplicated(keep=\"first\")]\n",
    "_df_mc_smooth = _df_mc_smooth.loc[~_df_mc_smooth.index.duplicated(keep=\"first\")]\n",
    "_df_mc_p4 = _df_mc_p4.loc[~_df_mc_p4.index.duplicated(keep=\"first\")]\n",
    "_df_mc_flat = _df_mc_flat.loc[~_df_mc_flat.index.duplicated(keep=\"first\")]"
   ]
  },
  {
   "cell_type": "markdown",
   "metadata": {},
   "source": [
    "## Modify dataframes\n",
    "\n",
    "Alter the dataframes, for example, to make or break correlations between systematic uncertainties, remove variations from particular sources, or switch to polyfit smoothing or a flat systematic\n",
    "\n",
    "### Rename nuisances"
   ]
  },
  {
   "cell_type": "code",
   "execution_count": 4,
   "metadata": {},
   "outputs": [],
   "source": [
    "region_mapping = {\n",
    "    \"Monojet\": {\n",
    "        \"metTrigMuonMultiplicitySyst\": \"metTrig0MuSyst\",\n",
    "        \"metTrigRegionSyst\": \"metTrig{region}Syst\",\n",
    "    },\n",
    "    \"SingleMuon\": {\n",
    "        \"metTrigMuonMultiplicitySyst\": \"metTrig1MuSyst\",\n",
    "        \"metTrigRegionSyst\": \"metTrig{region}Syst\",\n",
    "    },\n",
    "    \"DoubleMuon\": {\n",
    "        \"metTrigMuonMultiplicitySyst\": \"metTrig2MuSyst\",\n",
    "        \"metTrigRegionSyst\": \"metTrig{region}Syst\",\n",
    "    },\n",
    "}\n",
    "\n",
    "for region, mapping in region_mapping.items():\n",
    "    selection = (_df_mc.index.get_level_values(\"variation\")==\"\") & (_df_mc.index.get_level_values(\"region\")==region)\n",
    "    tdf = _df_mc.loc[selection,:]\n",
    "    \n",
    "    selection = (_df_mc.index.get_level_values(\"variation\").str.endswith(\"Up\")) & (_df_mc.index.get_level_values(\"region\")==region)\n",
    "    tdf_up = _df_mc.loc[selection,:].rename(\n",
    "        level=\"variation\",\n",
    "        index={k+\"Up\": v.format(region=region)+\"Up\" for k, v in mapping.items()},\n",
    "    )\n",
    "    \n",
    "    selection = (_df_mc.index.get_level_values(\"variation\").str.endswith(\"Down\")) & (_df_mc.index.get_level_values(\"region\")==region)\n",
    "    tdf_do = _df_mc.loc[selection,:].rename(\n",
    "        level=\"variation\",\n",
    "        index={k+\"Down\": v.format(region=region)+\"Down\" for k, v in mapping.items()},\n",
    "    )\n",
    "    _df_mc = pd.concat([tdf, tdf_up, tdf_do, _df_mc.loc[_df_mc.index.get_level_values(\"region\")!=region,:].copy()], axis=0, sort=False)"
   ]
  },
  {
   "cell_type": "markdown",
   "metadata": {},
   "source": [
    "## Remove nuisances"
   ]
  },
  {
   "cell_type": "code",
   "execution_count": 5,
   "metadata": {},
   "outputs": [
    {
     "name": "stderr",
     "output_type": "stream",
     "text": [
      "/home/hep/sdb15/miniconda2/envs/zinv37/lib/python3.7/site-packages/pandas/core/indexing.py:1404: PerformanceWarning: indexing past lexsort depth may impact performance.\n",
      "  return self._getitem_tuple(key)\n"
     ]
    },
    {
     "data": {
      "text/plain": [
       "Index(['', 'alphasUp', 'btagSFUp', 'd1kewUp', 'd1kqcdUp', 'd2kewwUp',\n",
       "       'd2kewzUp', 'd2kqcdUp', 'd3kewwUp', 'd3kewzUp', 'd3kqcdUp', 'dkmixUp',\n",
       "       'eleEnergyScaleUp', 'eleIdIsoTightUp', 'eleIdIsoVetoUp', 'eleRecoUp',\n",
       "       'eleTrigUp', 'jerSFUp', 'jesTotalUp', 'lhePdfWeightUp',\n",
       "       'lheScaleWeightUp', 'lumiUp', 'metTrig0MuSystUp',\n",
       "       'metTrigReferenceTriggerSystUp', 'metTrigMonojetSystUp',\n",
       "       'muonIdLooseStatUp', 'muonIdLooseSystUp', 'muonIdTightStatUp',\n",
       "       'muonIdTightSystUp', 'muonIsoLooseStatUp', 'muonIsoLooseSystUp',\n",
       "       'muonIsoTightStatUp', 'muonIsoTightSystUp', 'muonPtScaleUp',\n",
       "       'muonTrigUp', 'photonEnergyScaleUp', 'photonIdLooseUp',\n",
       "       'photonPixelSeedVetoUp', 'pileupUp', 'prefiringUp', 'tauIdTightUp',\n",
       "       'tauIdVLooseUp', 'tauPtScaleUp', 'unclustUp', 'alphasDown',\n",
       "       'btagSFDown', 'd1kewDown', 'd1kqcdDown', 'd2kewwDown', 'd2kewzDown',\n",
       "       'd2kqcdDown', 'd3kewwDown', 'd3kewzDown', 'd3kqcdDown', 'dkmixDown',\n",
       "       'eleEnergyScaleDown', 'eleIdIsoTightDown', 'eleIdIsoVetoDown',\n",
       "       'eleRecoDown', 'eleTrigDown', 'jerSFDown', 'jesTotalDown',\n",
       "       'lhePdfWeightDown', 'lheScaleWeightDown', 'lumiDown',\n",
       "       'metTrig0MuSystDown', 'metTrigReferenceTriggerSystDown',\n",
       "       'metTrigMonojetSystDown', 'muonIdLooseStatDown', 'muonIdLooseSystDown',\n",
       "       'muonIdTightStatDown', 'muonIdTightSystDown', 'muonIsoLooseStatDown',\n",
       "       'muonIsoLooseSystDown', 'muonIsoTightStatDown', 'muonIsoTightSystDown',\n",
       "       'muonPtScaleDown', 'muonTrigDown', 'photonEnergyScaleDown',\n",
       "       'photonIdLooseDown', 'photonPixelSeedVetoDown', 'pileupDown',\n",
       "       'prefiringDown', 'tauIdTightDown', 'tauIdVLooseDown', 'tauPtScaleDown',\n",
       "       'unclustDown'],\n",
       "      dtype='object', name='variation')"
      ]
     },
     "execution_count": 5,
     "metadata": {},
     "output_type": "execute_result"
    }
   ],
   "source": [
    "_df_mc.loc[(\"Monojet\", \"QCD\"),:].index.get_level_values(\"variation\").unique()"
   ]
  },
  {
   "cell_type": "code",
   "execution_count": 6,
   "metadata": {},
   "outputs": [
    {
     "name": "stderr",
     "output_type": "stream",
     "text": [
      "/home/hep/sdb15/miniconda2/envs/zinv37/lib/python3.7/site-packages/IPython/core/interactiveshell.py:3058: PerformanceWarning: indexing past lexsort depth may impact performance.\n",
      "  interactivity=interactivity, compiler=compiler, result=result)\n"
     ]
    }
   ],
   "source": [
    "region_process_variations = {\n",
    "    (\"Monojet\", \"ZJetsToNuNu\"): [\"lheScaleWeight\", \"eleTrig\", \"muonTrig\"],\n",
    "    (\"Monojet\", \"WJetsToLNu\"): [\"lheScaleWeight\", \"eleTrig\", \"muonTrig\"],\n",
    "    (\"Monojet\", \"QCD\"): [\n",
    "        \"alphas\", \"btagSF\", \"d1kew\", \"d1kqcd\", \"d2kqcd\", \"d3kqcd\", \"d1kew\", \"d2keww\", \"d2kewz\", \"d3keww\", \"d3kewz\", \"dkmix\", \"eleEnergyScale\", \"eleIdIsoTight\",\n",
    "        \"eleIdIsoVeto\", \"eleReco\", \"eleTrig\", \"jerSF\", \"jesTotal\", \"unclust\", \"lhePdfWeight\", \"lheScaleWeight\", \"lumi\", \"metTrig0MuSyst\",\n",
    "        \"metTrigReferenceTriggerSyst\", \"metTrigMonojetSyst\", \"muonIdLooseStat\", \"muonIdLooseSyst\", \"muonIsoLooseStat\", \"muonIsoLooseSyst\", \"muonIdTightSyst\",\n",
    "        \"muonIdTightStat\", \"muonIsoTightSyst\", \"muonIsoTightStat\", \"muonPtScale\", \"muonTrig\", \"photonEnergyScale\", \"photonIdLoose\", \"photonPixelSeedVeto\",\n",
    "        \"pileup\", \"prefiring\", \"tauIdTight\", \"tauIdVLoose\", \"tauPtScale\",\n",
    "    ],\n",
    "    (\"Monojet\", \"MinorBkgs\"): [\"eleTrig\", \"muonTrig\"],\n",
    "    (\"SingleMuon\", \"WJetsToLNu\"): [\"lheScaleWeight\", \"muonTrig\", \"eleTrig\"],\n",
    "    (\"SingleMuon\", \"QCD\"): [\"muonTrig\", \"eleTrig\"],\n",
    "    (\"SingleMuon\", \"MinorBkgs\"): [\"muonTrig\", \"eleTrig\"],\n",
    "    (\"SingleElectron\", \"WJetsToLNu\"): [\"lheScaleWeight\", \"muonTrig\"],\n",
    "    (\"SingleElectron\", \"MinorBkgs\"): [\"muonTrig\"],\n",
    "    (\"DoubleMuon\", \"DYJetsToLL\"): [\"lheScaleWeight\", \"muonTrig\", \"eleTrig\"],\n",
    "    (\"DoubleMuon\", \"MinorBkgs\"): [\"muonTrig\", \"eleTrig\"],\n",
    "    (\"DoubleElectron\", \"DYJetsToLL\"): [\"lheScaleWeight\", \"muonTrig\"],\n",
    "    (\"DoubleElectron\", \"MinorBkgs\"): [\"muonTrig\"],\n",
    "}\n",
    "\n",
    "drops = [\n",
    "    (r, p, v+\"Up\")\n",
    "    for (r, p), vs in region_process_variations.items()\n",
    "    for v in vs\n",
    "] + [\n",
    "    (r, p, v+\"Down\")\n",
    "    for (r, p), vs in region_process_variations.items()\n",
    "    for v in vs\n",
    "]\n",
    "_df_mc = _df_mc.drop(drops, errors='ignore')"
   ]
  },
  {
   "cell_type": "markdown",
   "metadata": {},
   "source": [
    "## Use gaussian filter smoothing"
   ]
  },
  {
   "cell_type": "code",
   "execution_count": 7,
   "metadata": {},
   "outputs": [
    {
     "name": "stderr",
     "output_type": "stream",
     "text": [
      "/home/hep/sdb15/miniconda2/envs/zinv37/lib/python3.7/site-packages/IPython/core/interactiveshell.py:2855: PerformanceWarning: indexing past lexsort depth may impact performance.\n",
      "  raw_cell, store_history, silent, shell_futures)\n",
      "/home/hep/sdb15/miniconda2/envs/zinv37/lib/python3.7/site-packages/IPython/core/async_helpers.py:68: PerformanceWarning: indexing past lexsort depth may impact performance.\n",
      "  coro.send(None)\n"
     ]
    }
   ],
   "source": [
    "vjets = [\n",
    "    \"lhePdfWeight\", \"jesTotal\", \"jerSF\", \"unclust\", \"eleIdIsoVeto\", \"eleIdIsoTight\", \"eleReco\", \"eleTrig\", \"muonIdLooseSyst\", \"muonIdLooseStat\", \"muonIdTightSyst\",\n",
    "    \"muonIdTightStat\", \"muonIsoLooseSyst\", \"muonIsoLooseStat\", \"photonIdLoose\", \"photonPixelSeedVeto\", \"pileup\", \"prefiring\", \"tauIdTight\", \"tauIdVLoose\", \"btagSF\",\n",
    "]\n",
    "minor_bkgs = [\n",
    "    \"lhePdfWeight\", \"lheScaleWeight\", \"eleIdIsoVeto\", \"eleIdIsoTight\", \"eleReco\", \"eleTrig\", \"muonIdLooseSyst\", \"muonIdLooseStat\", \"muonIdTightSyst\", \"muonIdTightStat\",\n",
    "    \"muonIsoLooseSyst\", \"muonIsoLooseStat\", \"photonIdLoose\", \"photonPixelSeedVeto\", \"pileup\", \"prefiring\", \"tauIdTight\", \"tauIdVLoose\",\n",
    "]\n",
    "qcd = [\n",
    "    \"eleIdIsoVeto\", \"eleIdIsoTight\", \"eleReco\", \"eleTrig\", \"muonIdLooseSyst\", \"muonIdLooseStat\", \"muonIdTightSyst\", \"muonIdTightStat\", \"muonIsoLooseSyst\",\n",
    "    \"muonIsoLooseStat\", \"photonIdLoose\", \"photonPixelSeedVeto\", \"pileup\", \"prefiring\", \"tauIdTight\", \"tauIdVLoose\",\n",
    "]\n",
    "\n",
    "region_process_variations = {\n",
    "    (\"Monojet\", \"ZJetsToNuNu\"): vjets,\n",
    "    (\"Monojet\", \"WJetsToLNu\"): vjets,\n",
    "    (\"Monojet\", \"QCD\"): qcd,\n",
    "    (\"Monojet\", \"MinorBkgs\"): minor_bkgs,\n",
    "    (\"SingleMuon\", \"WJetsToLNu\"): vjets,\n",
    "    (\"SingleMuon\", \"MinorBkgs\"): minor_bkgs,\n",
    "    (\"SingleMuon\", \"QCD\"): qcd,\n",
    "    (\"SingleElectron\", \"WJetsToLNu\"): vjets,\n",
    "    (\"SingleElectron\", \"MinorBkgs\"): minor_bkgs,\n",
    "    (\"DoubleMuon\", \"DYJetsToLL\"): vjets,\n",
    "    (\"DoubleMuon\", \"MinorBkgs\"): minor_bkgs,\n",
    "    (\"DoubleElectron\", \"DYJetsToLL\"): vjets,\n",
    "    (\"DoubleElectron\", \"MinorBkgs\"): minor_bkgs,\n",
    "}\n",
    "\n",
    "for (region, process), variations in region_process_variations.items():\n",
    "    for variation in variations:\n",
    "        for vtype in [\"Up\", \"Down\"]:\n",
    "            try:\n",
    "                _df_mc.loc[\n",
    "                    (region, process, variation+vtype, pd.IndexSlice[:]), :\n",
    "                ] = _df_mc_smooth.loc[\n",
    "                    (region, process, variation+vtype, pd.IndexSlice[:]), :\n",
    "                ]\n",
    "            except KeyError:\n",
    "                pass\n"
   ]
  },
  {
   "cell_type": "markdown",
   "metadata": {},
   "source": [
    "## Use polyfit smoothing"
   ]
  },
  {
   "cell_type": "code",
   "execution_count": 8,
   "metadata": {},
   "outputs": [],
   "source": [
    "vjets = [\n",
    "    \"d1kqcd\", \"d2kqcd\", \"d3kqcd\", \"d1kew\", \"d2keww\", \"d3keww\", \"dkmix\",\n",
    "]\n",
    "\n",
    "region_process_variations = {\n",
    "    (\"Monojet\", \"ZJetsToNuNu\"): vjets,\n",
    "    (\"Monojet\", \"WJetsToLNu\"): vjets,\n",
    "    (\"SingleMuon\", \"WJetsToLNu\"): vjets,\n",
    "    (\"SingleElectron\", \"WJetsToLNu\"): vjets,\n",
    "    (\"DoubleMuon\", \"DYJetsToLL\"): vjets,\n",
    "    (\"DoubleElectron\", \"DYJetsToLL\"): vjets,\n",
    "}\n",
    "\n",
    "for (region, process), variations in region_process_variations.items():\n",
    "    for variation in variations:\n",
    "        for vtype in [\"Up\", \"Down\"]:\n",
    "            try:\n",
    "                _df_mc.loc[\n",
    "                    (region, process, variation+vtype, pd.IndexSlice[:]), :\n",
    "                ] = _df_mc_p4.loc[\n",
    "                    (region, process, variation+vtype, pd.IndexSlice[:]), :\n",
    "                ]\n",
    "            except KeyError:\n",
    "                pass\n"
   ]
  },
  {
   "cell_type": "markdown",
   "metadata": {},
   "source": [
    "## Use flat systematic\n"
   ]
  },
  {
   "cell_type": "code",
   "execution_count": 9,
   "metadata": {},
   "outputs": [],
   "source": [
    "qcd = [\"jesTotal\", \"jerSF\", \"unclust\", \"pileup\", \"eleReco\", \"btagSF\"]\n",
    "minors = [\"lheScaleWeight\", \"jesTotal\", \"jerSF\", \"unclust\", \"pileup\", \"eleIdIsoTight\", \"btagSF\"]\n",
    "\n",
    "process_variations = {\n",
    "    (\"Monojet\", \"QCD\"): qcd,\n",
    "    (\"Monojet\", \"MinorBkgs\"): minors,\n",
    "    (\"SingleMuon\", \"WJetsToLNu\"): [\"jerSF\"],\n",
    "    (\"SingleMuon\", \"QCD\"): qcd,\n",
    "    (\"SingleMuon\", \"MinorBkgs\"): minors,\n",
    "    (\"SingleElectron\", \"MinorBkgs\"): minors,\n",
    "    (\"DoubleMuon\", \"MinorBkgs\"): minors,\n",
    "    (\"DoubleElectron\", \"MinorBkgs\"): minors,\n",
    "}\n",
    "\n",
    "for (region, process), variations in process_variations.items():\n",
    "    for variation in variations:\n",
    "        for vtype in [\"Up\", \"Down\"]:\n",
    "            try:\n",
    "                _df_mc.loc[\n",
    "                    (region, process, variation+vtype, pd.IndexSlice[:]), :\n",
    "                ] = _df_mc_flat.loc[\n",
    "                    (region, process, variation+vtype, pd.IndexSlice[:]), :\n",
    "                ]\n",
    "            except KeyError:\n",
    "                pass"
   ]
  },
  {
   "cell_type": "markdown",
   "metadata": {},
   "source": [
    "## Symmetrize"
   ]
  },
  {
   "cell_type": "code",
   "execution_count": 10,
   "metadata": {},
   "outputs": [],
   "source": [
    "tdf = (\n",
    "    _df_mc.loc[(pd.IndexSlice[:], pd.IndexSlice[:], \"tauIdTightUp\"),:].groupby([\"region\", \"process\", \"bin_min\", \"bin_max\"]).sum()\n",
    "    - _df_mc.loc[(pd.IndexSlice[:], pd.IndexSlice[:], \"tauIdTightDown\"),:].groupby([\"region\", \"process\", \"bin_min\", \"bin_max\"]).sum()\n",
    ")/2.\n",
    "tdf_nom = _df_mc.loc[(pd.IndexSlice[:], pd.IndexSlice[:], \"\"),:].groupby([\"region\", \"process\", \"bin_min\", \"bin_max\"]).sum()\n",
    "tdf_up = tdf_nom + tdf\n",
    "tdf_do = tdf_nom - tdf\n",
    "tdf_up[\"variation\"] = \"tauIdTightUp\"\n",
    "tdf_do[\"variation\"] = \"tauIdTightDown\"\n",
    "\n",
    "tdf_up = tdf_up.set_index(\"variation\", append=True).reorder_levels([\"region\", \"process\", \"variation\", \"bin_min\", \"bin_max\"]).sort_index()\n",
    "tdf_do = tdf_do.set_index(\"variation\", append=True).reorder_levels([\"region\", \"process\", \"variation\", \"bin_min\", \"bin_max\"]).sort_index()\n",
    "_df_mc.loc[(pd.IndexSlice[:], pd.IndexSlice[:], \"tauIdTightUp\"),:] = tdf_up\n",
    "_df_mc.loc[(pd.IndexSlice[:], pd.IndexSlice[:], \"tauIdTightDown\"),:] = tdf_do"
   ]
  },
  {
   "cell_type": "code",
   "execution_count": 11,
   "metadata": {},
   "outputs": [],
   "source": [
    "tdf = (\n",
    "    _df_mc.loc[(pd.IndexSlice[:], pd.IndexSlice[:], \"unclustUp\"),:].groupby([\"region\", \"process\", \"bin_min\", \"bin_max\"]).sum()\n",
    "    - _df_mc.loc[(pd.IndexSlice[:], pd.IndexSlice[:], \"unclustDown\"),:].groupby([\"region\", \"process\", \"bin_min\", \"bin_max\"]).sum()\n",
    ")/2.\n",
    "tdf_nom = _df_mc.loc[(pd.IndexSlice[:], pd.IndexSlice[:], \"\"),:].groupby([\"region\", \"process\", \"bin_min\", \"bin_max\"]).sum()\n",
    "tdf_up = tdf_nom + tdf\n",
    "tdf_do = tdf_nom - tdf\n",
    "tdf_up[\"variation\"] = \"unclustUp\"\n",
    "tdf_do[\"variation\"] = \"unclustDown\"\n",
    "\n",
    "tdf_up = tdf_up.set_index(\"variation\", append=True).reorder_levels([\"region\", \"process\", \"variation\", \"bin_min\", \"bin_max\"]).sort_index()\n",
    "tdf_do = tdf_do.set_index(\"variation\", append=True).reorder_levels([\"region\", \"process\", \"variation\", \"bin_min\", \"bin_max\"]).sort_index()\n",
    "_df_mc.loc[(pd.IndexSlice[:], pd.IndexSlice[:], \"unclustUp\"),:] = tdf_up\n",
    "_df_mc.loc[(pd.IndexSlice[:], pd.IndexSlice[:], \"unclustDown\"),:] = tdf_do"
   ]
  },
  {
   "cell_type": "code",
   "execution_count": 12,
   "metadata": {},
   "outputs": [],
   "source": [
    "tdf = (\n",
    "    _df_mc.loc[(pd.IndexSlice[:], pd.IndexSlice[:], \"jerSFUp\"),:].groupby([\"region\", \"process\", \"bin_min\", \"bin_max\"]).sum()\n",
    "    - _df_mc.loc[(pd.IndexSlice[:], pd.IndexSlice[:], \"jerSFDown\"),:].groupby([\"region\", \"process\", \"bin_min\", \"bin_max\"]).sum()\n",
    ")/2.\n",
    "tdf_nom = _df_mc.loc[(pd.IndexSlice[:], pd.IndexSlice[:], \"\"),:].groupby([\"region\", \"process\", \"bin_min\", \"bin_max\"]).sum()\n",
    "tdf_up = tdf_nom + tdf\n",
    "tdf_do = tdf_nom - tdf\n",
    "tdf_up[\"variation\"] = \"jerSFUp\"\n",
    "tdf_do[\"variation\"] = \"jerSFDown\"\n",
    "\n",
    "tdf_up = tdf_up.set_index(\"variation\", append=True).reorder_levels([\"region\", \"process\", \"variation\", \"bin_min\", \"bin_max\"]).sort_index()\n",
    "tdf_do = tdf_do.set_index(\"variation\", append=True).reorder_levels([\"region\", \"process\", \"variation\", \"bin_min\", \"bin_max\"]).sort_index()\n",
    "_df_mc.loc[(pd.IndexSlice[:], pd.IndexSlice[:], \"jerSFUp\"),:] = tdf_up\n",
    "_df_mc.loc[(pd.IndexSlice[:], pd.IndexSlice[:], \"jerSFDown\"),:] = tdf_do"
   ]
  },
  {
   "cell_type": "code",
   "execution_count": 13,
   "metadata": {},
   "outputs": [],
   "source": [
    "tdf = (\n",
    "    _df_mc.loc[(pd.IndexSlice[:], pd.IndexSlice[:], \"jesTotalUp\"),:].groupby([\"region\", \"process\", \"bin_min\", \"bin_max\"]).sum()\n",
    "    - _df_mc.loc[(pd.IndexSlice[:], pd.IndexSlice[:], \"jesTotalDown\"),:].groupby([\"region\", \"process\", \"bin_min\", \"bin_max\"]).sum()\n",
    ")/2.\n",
    "tdf_nom = _df_mc.loc[(pd.IndexSlice[:], pd.IndexSlice[:], \"\"),:].groupby([\"region\", \"process\", \"bin_min\", \"bin_max\"]).sum()\n",
    "tdf_up = tdf_nom + tdf\n",
    "tdf_do = tdf_nom - tdf\n",
    "tdf_up[\"variation\"] = \"jesTotalUp\"\n",
    "tdf_do[\"variation\"] = \"jesTotalDown\"\n",
    "\n",
    "tdf_up = tdf_up.set_index(\"variation\", append=True).reorder_levels([\"region\", \"process\", \"variation\", \"bin_min\", \"bin_max\"]).sort_index()\n",
    "tdf_do = tdf_do.set_index(\"variation\", append=True).reorder_levels([\"region\", \"process\", \"variation\", \"bin_min\", \"bin_max\"]).sort_index()\n",
    "_df_mc.loc[(pd.IndexSlice[:], pd.IndexSlice[:], \"jesTotalUp\"),:] = tdf_up\n",
    "_df_mc.loc[(pd.IndexSlice[:], pd.IndexSlice[:], \"jesTotalDown\"),:] = tdf_do"
   ]
  },
  {
   "cell_type": "code",
   "execution_count": 14,
   "metadata": {},
   "outputs": [],
   "source": [
    "tdf = (\n",
    "    _df_mc.loc[(pd.IndexSlice[:], pd.IndexSlice[:], \"eleTrigUp\"),:].groupby([\"region\", \"process\", \"bin_min\", \"bin_max\"]).sum()\n",
    "    - _df_mc.loc[(pd.IndexSlice[:], pd.IndexSlice[:], \"eleTrigDown\"),:].groupby([\"region\", \"process\", \"bin_min\", \"bin_max\"]).sum()\n",
    ")/2.\n",
    "tdf_nom = _df_mc.loc[(pd.IndexSlice[:], pd.IndexSlice[:], \"\"),:].groupby([\"region\", \"process\", \"bin_min\", \"bin_max\"]).sum()\n",
    "tdf_up = tdf_nom + tdf\n",
    "tdf_do = tdf_nom - tdf\n",
    "tdf_up[\"variation\"] = \"eleTrigUp\"\n",
    "tdf_do[\"variation\"] = \"eleTrigDown\"\n",
    "\n",
    "tdf_up = tdf_up.set_index(\"variation\", append=True).reorder_levels([\"region\", \"process\", \"variation\", \"bin_min\", \"bin_max\"]).sort_index()\n",
    "tdf_do = tdf_do.set_index(\"variation\", append=True).reorder_levels([\"region\", \"process\", \"variation\", \"bin_min\", \"bin_max\"]).sort_index()\n",
    "_df_mc.loc[(pd.IndexSlice[:], pd.IndexSlice[:], \"eleTrigUp\"),:] = tdf_up\n",
    "_df_mc.loc[(pd.IndexSlice[:], pd.IndexSlice[:], \"eleTrigDown\"),:] = tdf_do"
   ]
  },
  {
   "cell_type": "markdown",
   "metadata": {},
   "source": [
    "## Split JES uncertainties"
   ]
  },
  {
   "cell_type": "code",
   "execution_count": 15,
   "metadata": {},
   "outputs": [
    {
     "data": {
      "text/plain": [
       "array([ 200.,  220.,  250.,  280.,  310.,  340.,  370.,  400.,  430.,\n",
       "        470.,  510.,  550.,  590.,  640.,  690.,  740.,  790.,  840.,\n",
       "        900.,  960., 1020., 1090., 1160., 1250., 1400., 1550.])"
      ]
     },
     "execution_count": 15,
     "metadata": {},
     "output_type": "execute_result"
    }
   ],
   "source": [
    "bin_min = _df_data.index.get_level_values(\"bin_min\").unique().values\n",
    "bin_max = _df_data.index.get_level_values(\"bin_max\").unique().values\n",
    "bin_edge = np.array(list(bin_min) + [bin_max[-1]])\n",
    "bin_edge"
   ]
  },
  {
   "cell_type": "code",
   "execution_count": 16,
   "metadata": {},
   "outputs": [],
   "source": [
    "#for idx, bval in enumerate(bin_min):\n",
    "#    nom = _df_mc.loc[(pd.IndexSlice[:], pd.IndexSlice[:], \"\"), :].reset_index(\"variation\", drop=True)\n",
    "#    var_up = _df_mc.loc[(pd.IndexSlice[:], pd.IndexSlice[:], \"jesTotalUp\"), :].reset_index(\"variation\", drop=True)\n",
    "#    var_down = _df_mc.loc[(pd.IndexSlice[:], pd.IndexSlice[:], \"jesTotalDown\"), :].reset_index(\"variation\", drop=True)\n",
    "#    \n",
    "#    selection = nom.index.get_level_values(\"bin_min\")==bval\n",
    "#    var_up.loc[selection,:] = nom.loc[selection,:]\n",
    "#    var_down.loc[selection,:] = nom.loc[selection,:]\n",
    "#    \n",
    "#    var_up[\"variation\"] = \"jesTotalB{}Up\".format(idx)\n",
    "#    var_down[\"variation\"] = \"jesTotalB{}Down\".format(idx)\n",
    "#    \n",
    "#    order = [\"region\", \"process\", \"variation\", \"bin_min\", \"bin_max\"]\n",
    "#    var_up = var_up.set_index(\"variation\", append=True).reorder_levels(order).sort_index()\n",
    "#    var_down = var_down.set_index(\"variation\", append=True).reorder_levels(order).sort_index()\n",
    "#    \n",
    "#    _df_mc = pd.concat([_df_mc, var_down, var_up], axis=0, sort=True)\n",
    "#    _df_mc.tail(5)"
   ]
  },
  {
   "cell_type": "code",
   "execution_count": 17,
   "metadata": {},
   "outputs": [],
   "source": [
    "#nom = _df_mc.loc[(pd.IndexSlice[:], pd.IndexSlice[:], \"\"), :].reset_index(\"variation\", drop=True)\n",
    "#var_low_up = _df_mc.loc[(pd.IndexSlice[:], pd.IndexSlice[:], \"jesTotalUp\"), :].reset_index(\"variation\", drop=True)\n",
    "#var_low_down = _df_mc.loc[(pd.IndexSlice[:], pd.IndexSlice[:], \"jesTotalDown\"), :].reset_index(\"variation\", drop=True)\n",
    "#var_high_up = _df_mc.loc[(pd.IndexSlice[:], pd.IndexSlice[:], \"jesTotalUp\"), :].reset_index(\"variation\", drop=True)\n",
    "#var_high_down = _df_mc.loc[(pd.IndexSlice[:], pd.IndexSlice[:], \"jesTotalDown\"), :].reset_index(\"variation\", drop=True)\n",
    "#\n",
    "#selection = nom.index.get_level_values(\"bin_min\")>1000.\n",
    "#var_low_up.loc[selection,:] = nom.loc[selection,:]\n",
    "#var_low_down.loc[selection,:] = nom.loc[selection,:]\n",
    "#\n",
    "#var_high_up.loc[~selection,:] = nom.loc[~selection,:]\n",
    "#var_high_down.loc[~selection,:] = nom.loc[~selection,:]\n",
    "#\n",
    "#var_low_up[\"variation\"] = \"jesTotalLowUp\"\n",
    "#var_low_down[\"variation\"] = \"jesTotalLowDown\"\n",
    "#var_high_up[\"variation\"] = \"jesTotalHighUp\"\n",
    "#var_high_down[\"variation\"] = \"jesTotalHighDown\"\n",
    "#\n",
    "#order = [\"region\", \"process\", \"variation\", \"bin_min\", \"bin_max\"]\n",
    "#var_low_up = var_low_up.set_index(\"variation\", append=True).reorder_levels(order).sort_index()\n",
    "#var_low_down = var_low_down.set_index(\"variation\", append=True).reorder_levels(order).sort_index()\n",
    "#var_high_up = var_high_up.set_index(\"variation\", append=True).reorder_levels(order).sort_index()\n",
    "#var_high_down = var_high_down.set_index(\"variation\", append=True).reorder_levels(order).sort_index()\n",
    "#\n",
    "#_df_mc = pd.concat([_df_mc, var_low_down, var_low_up, var_high_down, var_high_up], axis=0, sort=True)\n",
    "#_df_mc.tail(5)"
   ]
  },
  {
   "cell_type": "code",
   "execution_count": 18,
   "metadata": {},
   "outputs": [
    {
     "data": {
      "text/html": [
       "<div>\n",
       "<style scoped>\n",
       "    .dataframe tbody tr th:only-of-type {\n",
       "        vertical-align: middle;\n",
       "    }\n",
       "\n",
       "    .dataframe tbody tr th {\n",
       "        vertical-align: top;\n",
       "    }\n",
       "\n",
       "    .dataframe thead th {\n",
       "        text-align: right;\n",
       "    }\n",
       "</style>\n",
       "<table border=\"1\" class=\"dataframe\">\n",
       "  <thead>\n",
       "    <tr style=\"text-align: right;\">\n",
       "      <th></th>\n",
       "      <th></th>\n",
       "      <th></th>\n",
       "      <th>count</th>\n",
       "      <th>sum_w</th>\n",
       "      <th>sum_ww</th>\n",
       "    </tr>\n",
       "    <tr>\n",
       "      <th>region</th>\n",
       "      <th>bin_min</th>\n",
       "      <th>bin_max</th>\n",
       "      <th></th>\n",
       "      <th></th>\n",
       "      <th></th>\n",
       "    </tr>\n",
       "  </thead>\n",
       "  <tbody>\n",
       "    <tr>\n",
       "      <th rowspan=\"5\" valign=\"top\">Monojet</th>\n",
       "      <th>200.0</th>\n",
       "      <th>220.0</th>\n",
       "      <td>100530.0</td>\n",
       "      <td>100530.0</td>\n",
       "      <td>100530.0</td>\n",
       "    </tr>\n",
       "    <tr>\n",
       "      <th>220.0</th>\n",
       "      <th>250.0</th>\n",
       "      <td>142330.0</td>\n",
       "      <td>142330.0</td>\n",
       "      <td>142330.0</td>\n",
       "    </tr>\n",
       "    <tr>\n",
       "      <th>250.0</th>\n",
       "      <th>280.0</th>\n",
       "      <td>102427.0</td>\n",
       "      <td>102427.0</td>\n",
       "      <td>102427.0</td>\n",
       "    </tr>\n",
       "    <tr>\n",
       "      <th>280.0</th>\n",
       "      <th>310.0</th>\n",
       "      <td>66110.0</td>\n",
       "      <td>66110.0</td>\n",
       "      <td>66110.0</td>\n",
       "    </tr>\n",
       "    <tr>\n",
       "      <th>310.0</th>\n",
       "      <th>340.0</th>\n",
       "      <td>41367.0</td>\n",
       "      <td>41367.0</td>\n",
       "      <td>41367.0</td>\n",
       "    </tr>\n",
       "  </tbody>\n",
       "</table>\n",
       "</div>"
      ],
      "text/plain": [
       "                            count     sum_w    sum_ww\n",
       "region  bin_min bin_max                              \n",
       "Monojet 200.0   220.0    100530.0  100530.0  100530.0\n",
       "        220.0   250.0    142330.0  142330.0  142330.0\n",
       "        250.0   280.0    102427.0  102427.0  102427.0\n",
       "        280.0   310.0     66110.0   66110.0   66110.0\n",
       "        310.0   340.0     41367.0   41367.0   41367.0"
      ]
     },
     "execution_count": 18,
     "metadata": {},
     "output_type": "execute_result"
    }
   ],
   "source": [
    "df_data = _df_data.unstack().unstack().loc[[\n",
    "    (\"MET\", \"Monojet\"),\n",
    "    (\"MET\", \"SingleMuon\"),\n",
    "    (\"MET\", \"DoubleMuon\"),\n",
    "    (\"SingleElectron\", \"SingleElectron\"),\n",
    "    (\"SingleElectron\", \"DoubleElectron\"),\n",
    "]].stack().stack().reset_index(\"trigger\").drop(\"trigger\", axis=1)\n",
    "df_data.head(5)"
   ]
  },
  {
   "cell_type": "code",
   "execution_count": 19,
   "metadata": {},
   "outputs": [
    {
     "data": {
      "text/html": [
       "<div>\n",
       "<style scoped>\n",
       "    .dataframe tbody tr th:only-of-type {\n",
       "        vertical-align: middle;\n",
       "    }\n",
       "\n",
       "    .dataframe tbody tr th {\n",
       "        vertical-align: top;\n",
       "    }\n",
       "\n",
       "    .dataframe thead th {\n",
       "        text-align: right;\n",
       "    }\n",
       "</style>\n",
       "<table border=\"1\" class=\"dataframe\">\n",
       "  <thead>\n",
       "    <tr style=\"text-align: right;\">\n",
       "      <th></th>\n",
       "      <th></th>\n",
       "      <th></th>\n",
       "      <th></th>\n",
       "      <th></th>\n",
       "      <th>sum_w</th>\n",
       "      <th>sum_ww</th>\n",
       "    </tr>\n",
       "    <tr>\n",
       "      <th>region</th>\n",
       "      <th>process</th>\n",
       "      <th>variation</th>\n",
       "      <th>bin_min</th>\n",
       "      <th>bin_max</th>\n",
       "      <th></th>\n",
       "      <th></th>\n",
       "    </tr>\n",
       "  </thead>\n",
       "  <tbody>\n",
       "    <tr>\n",
       "      <th rowspan=\"30\" valign=\"top\">DoubleMuon</th>\n",
       "      <th rowspan=\"25\" valign=\"top\">DYJetsToLL</th>\n",
       "      <th rowspan=\"25\" valign=\"top\"></th>\n",
       "      <th>200.0</th>\n",
       "      <th>220.0</th>\n",
       "      <td>3236.184095</td>\n",
       "      <td>768.120728</td>\n",
       "    </tr>\n",
       "    <tr>\n",
       "      <th>220.0</th>\n",
       "      <th>250.0</th>\n",
       "      <td>5233.734667</td>\n",
       "      <td>1111.948738</td>\n",
       "    </tr>\n",
       "    <tr>\n",
       "      <th>250.0</th>\n",
       "      <th>280.0</th>\n",
       "      <td>4321.105366</td>\n",
       "      <td>650.961742</td>\n",
       "    </tr>\n",
       "    <tr>\n",
       "      <th>280.0</th>\n",
       "      <th>310.0</th>\n",
       "      <td>3081.230471</td>\n",
       "      <td>244.541571</td>\n",
       "    </tr>\n",
       "    <tr>\n",
       "      <th>310.0</th>\n",
       "      <th>340.0</th>\n",
       "      <td>2132.301105</td>\n",
       "      <td>94.152928</td>\n",
       "    </tr>\n",
       "    <tr>\n",
       "      <th>340.0</th>\n",
       "      <th>370.0</th>\n",
       "      <td>1475.857454</td>\n",
       "      <td>53.926664</td>\n",
       "    </tr>\n",
       "    <tr>\n",
       "      <th>370.0</th>\n",
       "      <th>400.0</th>\n",
       "      <td>992.210351</td>\n",
       "      <td>37.620910</td>\n",
       "    </tr>\n",
       "    <tr>\n",
       "      <th>400.0</th>\n",
       "      <th>430.0</th>\n",
       "      <td>663.230560</td>\n",
       "      <td>28.511451</td>\n",
       "    </tr>\n",
       "    <tr>\n",
       "      <th>430.0</th>\n",
       "      <th>470.0</th>\n",
       "      <td>560.985071</td>\n",
       "      <td>27.581216</td>\n",
       "    </tr>\n",
       "    <tr>\n",
       "      <th>470.0</th>\n",
       "      <th>510.0</th>\n",
       "      <td>344.081583</td>\n",
       "      <td>17.901991</td>\n",
       "    </tr>\n",
       "    <tr>\n",
       "      <th>510.0</th>\n",
       "      <th>550.0</th>\n",
       "      <td>224.266128</td>\n",
       "      <td>11.301424</td>\n",
       "    </tr>\n",
       "    <tr>\n",
       "      <th>550.0</th>\n",
       "      <th>590.0</th>\n",
       "      <td>143.025033</td>\n",
       "      <td>7.196915</td>\n",
       "    </tr>\n",
       "    <tr>\n",
       "      <th>590.0</th>\n",
       "      <th>640.0</th>\n",
       "      <td>115.355197</td>\n",
       "      <td>5.262883</td>\n",
       "    </tr>\n",
       "    <tr>\n",
       "      <th>640.0</th>\n",
       "      <th>690.0</th>\n",
       "      <td>68.455105</td>\n",
       "      <td>2.213242</td>\n",
       "    </tr>\n",
       "    <tr>\n",
       "      <th>690.0</th>\n",
       "      <th>740.0</th>\n",
       "      <td>40.639383</td>\n",
       "      <td>0.601003</td>\n",
       "    </tr>\n",
       "    <tr>\n",
       "      <th>740.0</th>\n",
       "      <th>790.0</th>\n",
       "      <td>25.331025</td>\n",
       "      <td>0.164831</td>\n",
       "    </tr>\n",
       "    <tr>\n",
       "      <th>790.0</th>\n",
       "      <th>840.0</th>\n",
       "      <td>17.234054</td>\n",
       "      <td>0.077535</td>\n",
       "    </tr>\n",
       "    <tr>\n",
       "      <th>840.0</th>\n",
       "      <th>900.0</th>\n",
       "      <td>12.872755</td>\n",
       "      <td>0.056071</td>\n",
       "    </tr>\n",
       "    <tr>\n",
       "      <th>900.0</th>\n",
       "      <th>960.0</th>\n",
       "      <td>7.699648</td>\n",
       "      <td>0.031386</td>\n",
       "    </tr>\n",
       "    <tr>\n",
       "      <th>960.0</th>\n",
       "      <th>1020.0</th>\n",
       "      <td>4.818195</td>\n",
       "      <td>0.020460</td>\n",
       "    </tr>\n",
       "    <tr>\n",
       "      <th>1020.0</th>\n",
       "      <th>1090.0</th>\n",
       "      <td>3.480534</td>\n",
       "      <td>0.013794</td>\n",
       "    </tr>\n",
       "    <tr>\n",
       "      <th>1090.0</th>\n",
       "      <th>1160.0</th>\n",
       "      <td>2.135376</td>\n",
       "      <td>0.008295</td>\n",
       "    </tr>\n",
       "    <tr>\n",
       "      <th>1160.0</th>\n",
       "      <th>1250.0</th>\n",
       "      <td>1.498013</td>\n",
       "      <td>0.005933</td>\n",
       "    </tr>\n",
       "    <tr>\n",
       "      <th>1250.0</th>\n",
       "      <th>1400.0</th>\n",
       "      <td>1.120919</td>\n",
       "      <td>0.004172</td>\n",
       "    </tr>\n",
       "    <tr>\n",
       "      <th>1400.0</th>\n",
       "      <th>1550.0</th>\n",
       "      <td>0.683578</td>\n",
       "      <td>0.002718</td>\n",
       "    </tr>\n",
       "    <tr>\n",
       "      <th rowspan=\"5\" valign=\"top\">MinorBkgs</th>\n",
       "      <th rowspan=\"5\" valign=\"top\"></th>\n",
       "      <th>200.0</th>\n",
       "      <th>220.0</th>\n",
       "      <td>183.419165</td>\n",
       "      <td>171.793242</td>\n",
       "    </tr>\n",
       "    <tr>\n",
       "      <th>220.0</th>\n",
       "      <th>250.0</th>\n",
       "      <td>317.971478</td>\n",
       "      <td>352.310804</td>\n",
       "    </tr>\n",
       "    <tr>\n",
       "      <th>250.0</th>\n",
       "      <th>280.0</th>\n",
       "      <td>221.964530</td>\n",
       "      <td>325.758244</td>\n",
       "    </tr>\n",
       "    <tr>\n",
       "      <th>280.0</th>\n",
       "      <th>310.0</th>\n",
       "      <td>215.624429</td>\n",
       "      <td>236.232757</td>\n",
       "    </tr>\n",
       "    <tr>\n",
       "      <th>310.0</th>\n",
       "      <th>340.0</th>\n",
       "      <td>168.794255</td>\n",
       "      <td>147.271603</td>\n",
       "    </tr>\n",
       "  </tbody>\n",
       "</table>\n",
       "</div>"
      ],
      "text/plain": [
       "                                                       sum_w       sum_ww\n",
       "region     process    variation bin_min bin_max                          \n",
       "DoubleMuon DYJetsToLL           200.0   220.0    3236.184095   768.120728\n",
       "                                220.0   250.0    5233.734667  1111.948738\n",
       "                                250.0   280.0    4321.105366   650.961742\n",
       "                                280.0   310.0    3081.230471   244.541571\n",
       "                                310.0   340.0    2132.301105    94.152928\n",
       "                                340.0   370.0    1475.857454    53.926664\n",
       "                                370.0   400.0     992.210351    37.620910\n",
       "                                400.0   430.0     663.230560    28.511451\n",
       "                                430.0   470.0     560.985071    27.581216\n",
       "                                470.0   510.0     344.081583    17.901991\n",
       "                                510.0   550.0     224.266128    11.301424\n",
       "                                550.0   590.0     143.025033     7.196915\n",
       "                                590.0   640.0     115.355197     5.262883\n",
       "                                640.0   690.0      68.455105     2.213242\n",
       "                                690.0   740.0      40.639383     0.601003\n",
       "                                740.0   790.0      25.331025     0.164831\n",
       "                                790.0   840.0      17.234054     0.077535\n",
       "                                840.0   900.0      12.872755     0.056071\n",
       "                                900.0   960.0       7.699648     0.031386\n",
       "                                960.0   1020.0      4.818195     0.020460\n",
       "                                1020.0  1090.0      3.480534     0.013794\n",
       "                                1090.0  1160.0      2.135376     0.008295\n",
       "                                1160.0  1250.0      1.498013     0.005933\n",
       "                                1250.0  1400.0      1.120919     0.004172\n",
       "                                1400.0  1550.0      0.683578     0.002718\n",
       "           MinorBkgs            200.0   220.0     183.419165   171.793242\n",
       "                                220.0   250.0     317.971478   352.310804\n",
       "                                250.0   280.0     221.964530   325.758244\n",
       "                                280.0   310.0     215.624429   236.232757\n",
       "                                310.0   340.0     168.794255   147.271603"
      ]
     },
     "execution_count": 19,
     "metadata": {},
     "output_type": "execute_result"
    }
   ],
   "source": [
    "df_mc = _df_mc.copy(deep=True)\n",
    "df_mc.head(30)"
   ]
  },
  {
   "cell_type": "markdown",
   "metadata": {},
   "source": [
    "## QCD corrections"
   ]
  },
  {
   "cell_type": "code",
   "execution_count": 20,
   "metadata": {},
   "outputs": [
    {
     "data": {
      "text/html": [
       "<div>\n",
       "<style scoped>\n",
       "    .dataframe tbody tr th:only-of-type {\n",
       "        vertical-align: middle;\n",
       "    }\n",
       "\n",
       "    .dataframe tbody tr th {\n",
       "        vertical-align: top;\n",
       "    }\n",
       "\n",
       "    .dataframe thead th {\n",
       "        text-align: right;\n",
       "    }\n",
       "</style>\n",
       "<table border=\"1\" class=\"dataframe\">\n",
       "  <thead>\n",
       "    <tr style=\"text-align: right;\">\n",
       "      <th></th>\n",
       "      <th></th>\n",
       "      <th></th>\n",
       "      <th></th>\n",
       "      <th></th>\n",
       "      <th>sum_w</th>\n",
       "      <th>sum_ww</th>\n",
       "    </tr>\n",
       "    <tr>\n",
       "      <th>region</th>\n",
       "      <th>process</th>\n",
       "      <th>variation</th>\n",
       "      <th>bin_min</th>\n",
       "      <th>bin_max</th>\n",
       "      <th></th>\n",
       "      <th></th>\n",
       "    </tr>\n",
       "  </thead>\n",
       "  <tbody>\n",
       "    <tr>\n",
       "      <th rowspan=\"5\" valign=\"top\">DoubleMuon</th>\n",
       "      <th rowspan=\"5\" valign=\"top\">DYJetsToLL</th>\n",
       "      <th rowspan=\"5\" valign=\"top\"></th>\n",
       "      <th>200.0</th>\n",
       "      <th>220.0</th>\n",
       "      <td>3236.184095</td>\n",
       "      <td>768.120728</td>\n",
       "    </tr>\n",
       "    <tr>\n",
       "      <th>220.0</th>\n",
       "      <th>250.0</th>\n",
       "      <td>5233.734667</td>\n",
       "      <td>1111.948738</td>\n",
       "    </tr>\n",
       "    <tr>\n",
       "      <th>250.0</th>\n",
       "      <th>280.0</th>\n",
       "      <td>4321.105366</td>\n",
       "      <td>650.961742</td>\n",
       "    </tr>\n",
       "    <tr>\n",
       "      <th>280.0</th>\n",
       "      <th>310.0</th>\n",
       "      <td>3081.230471</td>\n",
       "      <td>244.541571</td>\n",
       "    </tr>\n",
       "    <tr>\n",
       "      <th>310.0</th>\n",
       "      <th>340.0</th>\n",
       "      <td>2132.301105</td>\n",
       "      <td>94.152928</td>\n",
       "    </tr>\n",
       "  </tbody>\n",
       "</table>\n",
       "</div>"
      ],
      "text/plain": [
       "                                                       sum_w       sum_ww\n",
       "region     process    variation bin_min bin_max                          \n",
       "DoubleMuon DYJetsToLL           200.0   220.0    3236.184095   768.120728\n",
       "                                220.0   250.0    5233.734667  1111.948738\n",
       "                                250.0   280.0    4321.105366   650.961742\n",
       "                                280.0   310.0    3081.230471   244.541571\n",
       "                                310.0   340.0    2132.301105    94.152928"
      ]
     },
     "execution_count": 20,
     "metadata": {},
     "output_type": "execute_result"
    }
   ],
   "source": [
    "df_mc.head(5)"
   ]
  },
  {
   "cell_type": "code",
   "execution_count": 21,
   "metadata": {},
   "outputs": [
    {
     "name": "stdout",
     "output_type": "stream",
     "text": [
      "                       sum_w         sum_ww\n",
      "bin_min bin_max                            \n",
      "200.0   220.0    1507.879983  870197.869365\n",
      "220.0   250.0    1081.495254  239040.729627\n",
      "250.0   280.0     178.490955    1689.528372\n",
      "280.0   310.0     410.587219   96974.765275\n",
      "310.0   340.0      48.495099     499.555464\n",
      "                       sum_w        sum_ww\n",
      "bin_min bin_max                           \n",
      "200.0   220.0    1663.878681  1.059565e+06\n",
      "220.0   250.0    1234.382422  3.114025e+05\n",
      "250.0   280.0     211.843679  2.379929e+03\n",
      "280.0   310.0     505.988166  1.472749e+05\n",
      "310.0   340.0      61.969241  8.157186e+02\n"
     ]
    }
   ],
   "source": [
    "df_qcd = pd.read_hdf(\"data/qcd_estimation.h5\", \"QCDCorrection\")\n",
    "print(df_mc.loc[(\"Monojet\", \"QCD\", \"\"),:].head(5))\n",
    "df_mc.loc[(\"Monojet\", \"QCD\", \"\"), \"sum_w\"] = df_mc.loc[(\"Monojet\", \"QCD\", \"\", pd.IndexSlice[:]), \"sum_w\"]*df_qcd[\"correction\"]\n",
    "df_mc.loc[(\"Monojet\", \"QCD\", \"\"), \"sum_ww\"] = df_mc.loc[(\"Monojet\", \"QCD\", \"\", pd.IndexSlice[:]), \"sum_ww\"]*df_qcd[\"correction\"]**2\n",
    "print(df_mc.loc[(\"Monojet\", \"QCD\", \"\"),:].head(5))"
   ]
  },
  {
   "cell_type": "code",
   "execution_count": 22,
   "metadata": {},
   "outputs": [
    {
     "name": "stdout",
     "output_type": "stream",
     "text": [
      "                                                       sum_w       sum_ww\n",
      "region     process    variation bin_min bin_max                          \n",
      "DoubleMuon DYJetsToLL           200.0   220.0    3236.184095   768.120728\n",
      "                                220.0   250.0    5233.734667  1111.948738\n",
      "                                250.0   280.0    4321.105366   650.961742\n",
      "                                280.0   310.0    3081.230471   244.541571\n",
      "                                310.0   340.0    2132.301105    94.152928\n"
     ]
    }
   ],
   "source": [
    "nom = df_mc.loc[(\"Monojet\", \"QCD\", \"\"), \"sum_w\"].copy()\n",
    "nom_ww = df_mc.loc[(\"Monojet\", \"QCD\", \"\"), \"sum_ww\"].copy()\n",
    "\n",
    "new_variations = []\n",
    "new_variations_ww = []\n",
    "for idx in range(df_qcd.shape[0]):\n",
    "    vari_up = nom.copy()\n",
    "    vari_do = nom.copy()\n",
    "    vari_up.iloc[idx] = (nom*df_qcd.eval(\"correction*(1+rel_unc_up)\")).iloc[idx]\n",
    "    vari_do.iloc[idx] = (nom*df_qcd.eval(\"correction*(1+rel_unc_up)\")).iloc[idx]\n",
    "    vari_up = vari_up.to_frame()\n",
    "    vari_do = vari_do.to_frame()\n",
    "    vari_up[\"variation\"] = \"qcdSystB{}Up\".format(idx)\n",
    "    vari_do[\"variation\"] = \"qcdSystB{}Down\".format(idx)\n",
    "    vari_up = vari_up.set_index(\"variation\", append=True)\n",
    "    vari_do = vari_do.set_index(\"variation\", append=True)\n",
    "    \n",
    "    vari_ww_up = nom_ww.copy()\n",
    "    vari_ww_do = nom_ww.copy()\n",
    "    vari_ww_up.iloc[idx] = (nom_ww*df_qcd.eval(\"correction*(1+rel_unc_up)\")).iloc[idx]\n",
    "    vari_ww_do.iloc[idx] = (nom_ww*df_qcd.eval(\"correction*(1+rel_unc_up)\")).iloc[idx]\n",
    "    vari_ww_up = vari_ww_up.to_frame()\n",
    "    vari_ww_do = vari_ww_do.to_frame()\n",
    "    vari_ww_up[\"variation\"] = \"qcdSystB{}Up\".format(idx)\n",
    "    vari_ww_do[\"variation\"] = \"qcdSystB{}Down\".format(idx)\n",
    "    vari_ww_up = vari_ww_up.set_index(\"variation\", append=True)\n",
    "    vari_ww_do = vari_ww_do.set_index(\"variation\", append=True)\n",
    "    \n",
    "    new_variations.extend([vari_up, vari_do])\n",
    "    new_variations_ww.extend([vari_ww_up, vari_ww_do])\n",
    "    \n",
    "df_out = pd.concat([pd.concat(new_variations), pd.concat(new_variations_ww)], axis=1)\n",
    "df_out[\"region\"] = \"Monojet\"\n",
    "df_out[\"process\"] = \"QCD\"\n",
    "df_out = df_out.set_index([\"region\", \"process\"], append=True).reorder_levels([\"region\", \"process\", \"variation\", \"bin_min\", \"bin_max\"]).sort_index()\n",
    "\n",
    "df_mc = pd.concat([df_mc, df_out], sort=True)\n",
    "print(df_mc.head(5))"
   ]
  },
  {
   "cell_type": "markdown",
   "metadata": {},
   "source": [
    "## GStar contribution"
   ]
  },
  {
   "cell_type": "code",
   "execution_count": 23,
   "metadata": {},
   "outputs": [],
   "source": [
    "df_kzkg = pd.read_hdf(\"data/gstar_prediction.h5\", \"GStarPredictions\").set_index(\"parameter\").stack()\n",
    "df_kzkg.index.names = [\"parameter\", \"variation\"]\n",
    "value = df_kzkg.loc[(pd.IndexSlice[:],\"value\")]\n",
    "relvals = df_kzkg.divide(value)-1.\n",
    "\n",
    "selection = df_kzkg.index.get_level_values(\"variation\")!=\"value\"\n",
    "df_kzkg.loc[selection] = relvals.loc[selection]\n",
    "\n",
    "dyll = df_mc.loc[(pd.IndexSlice[:], \"DYJetsToLL\"), :].reset_index(\"process\", drop=True)\n",
    "levels = df_mc.index.names\n",
    "\n",
    "zll = dyll.copy(deep=True)\n",
    "zll.loc[:,\"sum_w\"] = zll[\"sum_w\"]*df_kzkg.loc[(\"kz\", \"value\")]\n",
    "zll.loc[:,\"sum_ww\"] = zll[\"sum_ww\"]*(df_kzkg.loc[(\"kz\", \"value\")]**2)\n",
    "zll[\"process\"] = \"ZJetsToLL\"\n",
    "zll = zll.set_index(\"process\", append=True).reorder_levels(levels).sort_index()\n",
    "\n",
    "# variations\n",
    "variations = []\n",
    "zll_nom = zll.loc[(pd.IndexSlice[:], \"ZJetsToLL\", \"\"), :].reset_index(\"variation\", drop=True)\n",
    "\n",
    "for updown in [\"Up\", \"Down\"]:\n",
    "    zll_vari = zll_nom.copy(deep=True)\n",
    "    zll_vari.loc[:,\"sum_w\"] = zll_vari[\"sum_w\"]*(1 + df_kzkg.loc[(\"kz\", \"stat{}\".format(updown))])\n",
    "    zll_vari.loc[:,\"sum_ww\"] = zll_vari[\"sum_ww\"]*((1 + df_kzkg.loc[(\"kz\", \"stat{}\".format(updown))])**2)\n",
    "    zll_vari[\"variation\"] = \"kzStat{}\".format(updown)\n",
    "    zll_vari = zll_vari.set_index(\"variation\", append=True).reorder_levels(levels).sort_index()\n",
    "    variations.append(zll_vari)\n",
    "    \n",
    "for updown in [\"Up\", \"Down\"]:\n",
    "    zll_vari = zll_nom.copy(deep=True)\n",
    "    zll_vari.loc[:,\"sum_w\"] = zll_vari[\"sum_w\"]*(1 + df_kzkg.loc[(\"kz\", \"genIdReweight\"+updown)])\n",
    "    zll_vari.loc[:,\"sum_ww\"] = zll_vari[\"sum_ww\"]*((1 + df_kzkg.loc[(\"kz\", \"genIdReweight\"+updown)])**2)\n",
    "    zll_vari[\"variation\"] = \"genIdReweight\"+updown\n",
    "    zll_vari = zll_vari.set_index(\"variation\", append=True).reorder_levels(levels).sort_index()\n",
    "    variations.append(zll_vari)\n",
    "    \n",
    "for updown in [\"Up\", \"Down\"]:\n",
    "    zll_vari = zll_nom.copy(deep=True)\n",
    "    zll_pdf = zll.loc[(pd.IndexSlice[:], \"ZJetsToLL\", \"lhePdfWeight\"+updown), :].reset_index(\"variation\", drop=True)\n",
    "    zll_vari.loc[:,\"sum_w\"] = zll_vari[\"sum_w\"]*df_kzkg.loc[(\"kz\", \"lhePdfWeight\"+updown)]\n",
    "    zll_vari[\"variation\"] = \"lhePdfWeight\"+updown\n",
    "    zll_vari = zll_vari.set_index(\"variation\", append=True).reorder_levels(levels).sort_index()\n",
    "    zll.loc[(pd.IndexSlice[:], \"ZJetsToLL\", \"lhePdfWeight\"+updown),\"sum_w\"] = (\n",
    "        zll.loc[(pd.IndexSlice[:], \"ZJetsToLL\", \"lhePdfWeight\"+updown),\"sum_w\"]\n",
    "        + zll_vari[\"sum_w\"]\n",
    "    )\n",
    "\n",
    "gstar = dyll.copy(deep=True)\n",
    "gstar.loc[:,\"sum_w\"] = gstar[\"sum_w\"]*df_kzkg.loc[(\"kg\", \"value\")]\n",
    "gstar.loc[:,\"sum_ww\"] = gstar[\"sum_ww\"]*(df_kzkg.loc[(\"kg\", \"value\")]**2)\n",
    "gstar[\"process\"] = \"GStarJetsToLL\"\n",
    "gstar = gstar.set_index(\"process\", append=True).reorder_levels(levels).sort_index()\n",
    "\n",
    "gstar_nom = gstar.loc[(pd.IndexSlice[:], \"GStarJetsToLL\", \"\"),:].reset_index(\"variation\", drop=True)\n",
    "for updown in [\"Up\", \"Down\"]:\n",
    "    gstar_vari = gstar_nom.copy(deep=True)\n",
    "    gstar_vari.loc[:,\"sum_w\"] = gstar_vari[\"sum_w\"]*(1 + df_kzkg.loc[(\"kg\", \"stat{}\".format(updown))])\n",
    "    gstar_vari.loc[:,\"sum_ww\"] = gstar_vari[\"sum_ww\"]*((1 + df_kzkg.loc[(\"kg\", \"stat{}\".format(updown))])**2)\n",
    "    gstar_vari[\"variation\"] = \"kgStat{}\".format(updown)\n",
    "    gstar_vari = gstar_vari.set_index(\"variation\", append=True).reorder_levels(levels).sort_index()\n",
    "    variations.append(gstar_vari)\n",
    "    \n",
    "for updown in [\"Up\", \"Down\"]:\n",
    "    gstar_vari = gstar_nom.copy(deep=True)\n",
    "    gstar_vari.loc[:,\"sum_w\"] = gstar_vari[\"sum_w\"]*(1 + df_kzkg.loc[(\"kg\", \"genIdReweight\"+updown)])\n",
    "    gstar_vari.loc[:,\"sum_ww\"] = gstar_vari[\"sum_ww\"]*((1 + df_kzkg.loc[(\"kg\", \"genIdReweight\"+updown)])**2)\n",
    "    gstar_vari[\"variation\"] = \"genIdReweight\"+updown\n",
    "    gstar_vari = gstar_vari.set_index(\"variation\", append=True).reorder_levels(levels).sort_index()\n",
    "    variations.append(gstar_vari)\n",
    "    \n",
    "for updown in [\"Up\", \"Down\"]:\n",
    "    gstar_vari = gstar_nom.copy(deep=True)\n",
    "    gstar_pdf = gstar.loc[(pd.IndexSlice[:], \"GStarJetsToLL\", \"lhePdfWeight\"+updown), :].reset_index(\"variation\", drop=True)\n",
    "    gstar_vari.loc[:,\"sum_w\"] = gstar_vari[\"sum_w\"]*df_kzkg.loc[(\"kz\", \"lhePdfWeight\"+updown)]\n",
    "    gstar_vari[\"variation\"] = \"lhePdfWeight\"+updown\n",
    "    gstar_vari = gstar_vari.set_index(\"variation\", append=True).reorder_levels(levels).sort_index()\n",
    "    gstar.loc[(pd.IndexSlice[:], \"GStarJetsToLL\", \"lhePdfWeight\"+updown),\"sum_w\"] = (\n",
    "        gstar.loc[(pd.IndexSlice[:], \"GStarJetsToLL\", \"lhePdfWeight\"+updown),\"sum_w\"]\n",
    "        + gstar_vari[\"sum_w\"]\n",
    "    )\n",
    "        \n",
    "df_mc = pd.concat([df_mc, zll, gstar]+variations, axis=0, sort=True)"
   ]
  },
  {
   "cell_type": "markdown",
   "metadata": {},
   "source": [
    "## Run fits"
   ]
  },
  {
   "cell_type": "code",
   "execution_count": 24,
   "metadata": {},
   "outputs": [
    {
     "data": {
      "text/plain": [
       "array([ 200.,  220.,  250.,  280.,  310.,  340.,  370.,  400.,  430.,\n",
       "        470.,  510.,  550.,  590.,  640.,  690.,  740.,  790.,  840.,\n",
       "        900.,  960., 1020., 1090., 1160., 1250., 1400., 1550.])"
      ]
     },
     "execution_count": 24,
     "metadata": {},
     "output_type": "execute_result"
    }
   ],
   "source": [
    "bin_min = df_data.index.get_level_values(\"bin_min\").unique().values\n",
    "bin_max = df_data.index.get_level_values(\"bin_max\").unique().values\n",
    "bin_edge = np.array(list(bin_min) + [bin_max[-1]])\n",
    "bin_edge"
   ]
  },
  {
   "cell_type": "code",
   "execution_count": 25,
   "metadata": {},
   "outputs": [
    {
     "data": {
      "text/plain": [
       "Index(['', 'alphasUp', 'btagSFUp', 'd1kewUp', 'd1kqcdUp', 'd2kewwUp',\n",
       "       'd2kewzUp', 'd2kqcdUp', 'd3kewwUp', 'd3kewzUp',\n",
       "       ...\n",
       "       'qcdSystB8Down', 'qcdSystB8Up', 'qcdSystB9Down', 'qcdSystB9Up',\n",
       "       'kzStatUp', 'kzStatDown', 'genIdReweightUp', 'genIdReweightDown',\n",
       "       'kgStatUp', 'kgStatDown'],\n",
       "      dtype='object', name='variation', length=155)"
      ]
     },
     "execution_count": 25,
     "metadata": {},
     "output_type": "execute_result"
    }
   ],
   "source": [
    "df_mc.index.get_level_values(\"variation\").unique()"
   ]
  },
  {
   "cell_type": "code",
   "execution_count": 26,
   "metadata": {},
   "outputs": [
    {
     "data": {
      "text/plain": [
       "parameter  variation         \n",
       "kz         value                 1.016459\n",
       "           statUp                0.000825\n",
       "           statDown             -0.000824\n",
       "           genIdReweightUp       0.014404\n",
       "           genIdReweightDown    -0.014404\n",
       "           lhePdfWeightUp        0.022977\n",
       "           lhePdfWeightDown     -0.022977\n",
       "           lheScaleWeightUp      0.000000\n",
       "           lheScaleWeightDown    0.000000\n",
       "kg         value                 0.015040\n",
       "           statUp                0.001487\n",
       "           statDown             -0.001485\n",
       "           genIdReweightUp       0.134813\n",
       "           genIdReweightDown    -0.134813\n",
       "           lhePdfWeightUp        0.024335\n",
       "           lhePdfWeightDown     -0.024335\n",
       "           lheScaleWeightUp      0.000000\n",
       "           lheScaleWeightDown    0.000000\n",
       "dtype: float64"
      ]
     },
     "execution_count": 26,
     "metadata": {},
     "output_type": "execute_result"
    }
   ],
   "source": [
    "df_kzkg = pd.read_hdf(\"data/gstar_prediction.h5\", \"GStarPredictions\").set_index(\"parameter\").stack()\n",
    "df_kzkg.index.names = [\"parameter\", \"variation\"]\n",
    "value = df_kzkg.loc[(pd.IndexSlice[:],\"value\")]\n",
    "relvals = df_kzkg.divide(value)-1.\n",
    "\n",
    "selection = df_kzkg.index.get_level_values(\"variation\")!=\"value\"\n",
    "df_kzkg.loc[selection] = relvals.loc[selection]\n",
    "df_kzkg"
   ]
  },
  {
   "cell_type": "code",
   "execution_count": 36,
   "metadata": {},
   "outputs": [
    {
     "name": "stderr",
     "output_type": "stream",
     "text": [
      "/home/hep/sdb15/miniconda2/envs/zinv37/lib/python3.7/site-packages/pandas/core/indexing.py:1404: PerformanceWarning: indexing past lexsort depth may impact performance.\n",
      "  return self._getitem_tuple(key)\n"
     ]
    }
   ],
   "source": [
    "model = dftools.fitting.NLLModel(df_data, df_mc, config, same_bin_widths=True)\n",
    "minimizer = model.fit()"
   ]
  },
  {
   "cell_type": "code",
   "execution_count": 37,
   "metadata": {},
   "outputs": [
    {
     "ename": "RuntimeError",
     "evalue": "exception was raised in user function\nUser function arguments:\n                     rZJetsToLL = +0.966828\n                   rZJetsToNuNu = +0.995540\n                    rWJetsToLNu = +1.066326\n                         kzStat = +0.001508\n                         kgStat = -0.000041\n                  genIdReweight = +0.022655\n                 metTrig0MuSyst = +1.574574\n                 metTrig1MuSyst = +0.341020\n                 metTrig2MuSyst = +0.273752\n    metTrigReferenceTriggerSyst = +0.437400\n                      qcdSystB0 = -0.077997\n                      qcdSystB1 = -0.076014\n                      qcdSystB2 = +0.351723\n                      qcdSystB3 = -0.033380\n                      qcdSystB4 = -0.027373\n                      qcdSystB5 = +0.013346\n                      qcdSystB6 = +0.017564\n                      qcdSystB7 = +0.029451\n                      qcdSystB8 = -0.009082\n                      qcdSystB9 = +0.001718\n                     qcdSystB10 = +0.005146\n                     qcdSystB11 = -0.000018\n                     qcdSystB12 = +0.018353\n                     qcdSystB13 = +0.003244\n                     qcdSystB14 = +0.000721\n                     qcdSystB15 = +0.000000\n                     qcdSystB16 = +0.000000\n                     qcdSystB17 = -0.000571\n                     qcdSystB18 = +0.000000\n                     qcdSystB19 = +0.027060\n                     qcdSystB20 = +0.000000\n                     qcdSystB21 = +0.001174\n                     qcdSystB22 = +0.000000\n                     qcdSystB23 = +0.000000\n                     qcdSystB24 = +0.000000\n             metTrigMonojetSyst = +0.546813\n          metTrigSingleMuonSyst = +0.753523\n          metTrigDoubleMuonSyst = -0.543731\n                muonIdLooseSyst = -0.000118\n                muonIdLooseStat = -0.000104\n                muonIdTightSyst = -0.232832\n                muonIdTightStat = -0.273823\n               muonIsoLooseSyst = -0.000005\n               muonIsoLooseStat = -0.000015\n               muonIsoTightSyst = +0.000378\n               muonIsoTightStat = -0.030908\n                  eleIdIsoTight = +0.003982\n                   eleIdIsoVeto = -0.003519\n                        eleReco = -0.024878\n                        eleTrig = -0.047295\n                  photonIdLoose = +0.000199\n            photonPixelSeedVeto = -0.000221\n                    tauIdVLoose = -0.380888\n                     tauIdTight = +0.000000\n                         btagSF = +0.001484\n                       jesTotal = -0.000172\n                          jerSF = -0.000804\n                        unclust = -0.001630\n                           lumi = +0.442667\n                         pileup = +0.083775\n                      prefiring = +0.067531\n                         d1kqcd = -0.280166\n                         d2kqcd = +0.758444\n                         d3kqcd = -0.336116\n                          d1kew = +0.005800\n                         d2kewz = -0.105652\n                         d2keww = +0.082275\n                         d3kewz = -0.307326\n                         d3keww = +0.107202\n                          dkmix = -0.007397\n                   lhePdfWeight = +0.006754\n                 lheScaleWeight = -0.000006\n            Monojet_mcstat_bin0 = -0.745780\n            Monojet_mcstat_bin1 = +0.287245\n            Monojet_mcstat_bin2 = +1.288278\n            Monojet_mcstat_bin3 = +0.361777\n            Monojet_mcstat_bin4 = -0.301958\n            Monojet_mcstat_bin5 = -1.704126\n            Monojet_mcstat_bin6 = -1.083604\n            Monojet_mcstat_bin7 = +0.840369\n            Monojet_mcstat_bin8 = +0.698905\n            Monojet_mcstat_bin9 = -0.505412\n           Monojet_mcstat_bin10 = -0.115859\n           Monojet_mcstat_bin11 = -0.048979\n           Monojet_mcstat_bin12 = +0.788408\n           Monojet_mcstat_bin13 = +0.601603\n           Monojet_mcstat_bin14 = +0.567476\n           Monojet_mcstat_bin15 = -1.137796\n           Monojet_mcstat_bin16 = -0.387123\n           Monojet_mcstat_bin17 = +0.118039\n           Monojet_mcstat_bin18 = -0.275584\n           Monojet_mcstat_bin19 = -0.272963\n           Monojet_mcstat_bin20 = +0.012327\n           Monojet_mcstat_bin21 = -0.042598\n           Monojet_mcstat_bin22 = +0.102823\n           Monojet_mcstat_bin23 = +0.099645\n           Monojet_mcstat_bin24 = +0.084375\n         SingleMuon_mcstat_bin0 = +1.097394\n         SingleMuon_mcstat_bin1 = -0.788324\n         SingleMuon_mcstat_bin2 = -1.004067\n         SingleMuon_mcstat_bin3 = +0.459524\n         SingleMuon_mcstat_bin4 = +0.093096\n         SingleMuon_mcstat_bin5 = -0.507188\n         SingleMuon_mcstat_bin6 = -1.962418\n         SingleMuon_mcstat_bin7 = +0.884150\n         SingleMuon_mcstat_bin8 = +1.469009\n         SingleMuon_mcstat_bin9 = +1.737298\n        SingleMuon_mcstat_bin10 = +0.341685\n        SingleMuon_mcstat_bin11 = -0.591027\n        SingleMuon_mcstat_bin12 = +0.271857\n        SingleMuon_mcstat_bin13 = +0.367623\n        SingleMuon_mcstat_bin14 = +0.381189\n        SingleMuon_mcstat_bin15 = +0.295620\n        SingleMuon_mcstat_bin16 = +0.348711\n        SingleMuon_mcstat_bin17 = +0.456015\n        SingleMuon_mcstat_bin18 = -0.088633\n        SingleMuon_mcstat_bin19 = -0.873414\n        SingleMuon_mcstat_bin20 = -0.181050\n        SingleMuon_mcstat_bin21 = -0.246228\n        SingleMuon_mcstat_bin22 = -0.093504\n        SingleMuon_mcstat_bin23 = -0.754570\n        SingleMuon_mcstat_bin24 = -0.350237\n     SingleElectron_mcstat_bin0 = -0.138550\n     SingleElectron_mcstat_bin1 = +0.255695\n     SingleElectron_mcstat_bin2 = +0.200698\n     SingleElectron_mcstat_bin3 = -0.110418\n     SingleElectron_mcstat_bin4 = -1.692254\n     SingleElectron_mcstat_bin5 = -0.702918\n     SingleElectron_mcstat_bin6 = +0.224118\n     SingleElectron_mcstat_bin7 = +0.187451\n     SingleElectron_mcstat_bin8 = +0.874129\n     SingleElectron_mcstat_bin9 = +0.830119\n    SingleElectron_mcstat_bin10 = +0.906690\n    SingleElectron_mcstat_bin11 = -0.422306\n    SingleElectron_mcstat_bin12 = +0.901083\n    SingleElectron_mcstat_bin13 = -0.094799\n    SingleElectron_mcstat_bin14 = -0.487065\n    SingleElectron_mcstat_bin15 = -0.386114\n    SingleElectron_mcstat_bin16 = -1.265949\n    SingleElectron_mcstat_bin17 = -0.657877\n    SingleElectron_mcstat_bin18 = +0.213868\n    SingleElectron_mcstat_bin19 = -0.210688\n    SingleElectron_mcstat_bin20 = +0.131118\n    SingleElectron_mcstat_bin21 = +0.162899\n    SingleElectron_mcstat_bin22 = -0.036635\n    SingleElectron_mcstat_bin23 = -0.314903\n    SingleElectron_mcstat_bin24 = +0.048560\n         DoubleMuon_mcstat_bin0 = -0.172656\n         DoubleMuon_mcstat_bin1 = +0.467070\n         DoubleMuon_mcstat_bin2 = +0.077762\n         DoubleMuon_mcstat_bin3 = -0.286569\n         DoubleMuon_mcstat_bin4 = -0.477682\n         DoubleMuon_mcstat_bin5 = -0.113312\n         DoubleMuon_mcstat_bin6 = +0.007364\n         DoubleMuon_mcstat_bin7 = +0.302302\n         DoubleMuon_mcstat_bin8 = -0.012445\n         DoubleMuon_mcstat_bin9 = +0.027467\n        DoubleMuon_mcstat_bin10 = +0.069510\n        DoubleMuon_mcstat_bin11 = +0.524589\n        DoubleMuon_mcstat_bin12 = -0.103945\n        DoubleMuon_mcstat_bin13 = +0.236646\n        DoubleMuon_mcstat_bin14 = +0.128707\n        DoubleMuon_mcstat_bin15 = +0.166756\n        DoubleMuon_mcstat_bin16 = -0.191261\n        DoubleMuon_mcstat_bin17 = -0.038043\n        DoubleMuon_mcstat_bin18 = +0.054105\n        DoubleMuon_mcstat_bin19 = -0.065475\n        DoubleMuon_mcstat_bin20 = -0.080022\n        DoubleMuon_mcstat_bin21 = -0.183900\n        DoubleMuon_mcstat_bin22 = +0.017647\n        DoubleMuon_mcstat_bin23 = +0.456332\n        DoubleMuon_mcstat_bin24 = -0.043919\n     DoubleElectron_mcstat_bin0 = +0.339623\n     DoubleElectron_mcstat_bin1 = -0.040657\n     DoubleElectron_mcstat_bin2 = +0.269690\n     DoubleElectron_mcstat_bin3 = -0.153926\n     DoubleElectron_mcstat_bin4 = -0.195913\n     DoubleElectron_mcstat_bin5 = -0.174324\n     DoubleElectron_mcstat_bin6 = -0.038452\n     DoubleElectron_mcstat_bin7 = +0.143719\n     DoubleElectron_mcstat_bin8 = +0.114820\n     DoubleElectron_mcstat_bin9 = +0.197028\n    DoubleElectron_mcstat_bin10 = +0.135739\n    DoubleElectron_mcstat_bin11 = -0.053601\n    DoubleElectron_mcstat_bin12 = -0.053661\n    DoubleElectron_mcstat_bin13 = +0.105475\n    DoubleElectron_mcstat_bin14 = +0.081730\n    DoubleElectron_mcstat_bin15 = +0.150137\n    DoubleElectron_mcstat_bin16 = +0.045972\n    DoubleElectron_mcstat_bin17 = +0.329468\n    DoubleElectron_mcstat_bin18 = -0.179521\n    DoubleElectron_mcstat_bin19 = -0.068799\n    DoubleElectron_mcstat_bin20 = -0.050332\n    DoubleElectron_mcstat_bin21 = +0.146952\n    DoubleElectron_mcstat_bin22 = -0.139290\n    DoubleElectron_mcstat_bin23 = -0.040351\n    DoubleElectron_mcstat_bin24 = +0.028427\n",
     "output_type": "error",
     "traceback": [
      "\u001b[0;31m---------------------------------------------------------------------------\u001b[0m",
      "\u001b[0;31mRuntimeError\u001b[0m                              Traceback (most recent call last)",
      "\u001b[0;32m<timed eval>\u001b[0m in \u001b[0;36m<module>\u001b[0;34m\u001b[0m\n",
      "\u001b[0;32miminuit/_libiminuit.pyx\u001b[0m in \u001b[0;36miminuit._libiminuit.Minuit.migrad\u001b[0;34m()\u001b[0m\n",
      "\u001b[0;31mRuntimeError\u001b[0m: exception was raised in user function\nUser function arguments:\n                     rZJetsToLL = +0.966828\n                   rZJetsToNuNu = +0.995540\n                    rWJetsToLNu = +1.066326\n                         kzStat = +0.001508\n                         kgStat = -0.000041\n                  genIdReweight = +0.022655\n                 metTrig0MuSyst = +1.574574\n                 metTrig1MuSyst = +0.341020\n                 metTrig2MuSyst = +0.273752\n    metTrigReferenceTriggerSyst = +0.437400\n                      qcdSystB0 = -0.077997\n                      qcdSystB1 = -0.076014\n                      qcdSystB2 = +0.351723\n                      qcdSystB3 = -0.033380\n                      qcdSystB4 = -0.027373\n                      qcdSystB5 = +0.013346\n                      qcdSystB6 = +0.017564\n                      qcdSystB7 = +0.029451\n                      qcdSystB8 = -0.009082\n                      qcdSystB9 = +0.001718\n                     qcdSystB10 = +0.005146\n                     qcdSystB11 = -0.000018\n                     qcdSystB12 = +0.018353\n                     qcdSystB13 = +0.003244\n                     qcdSystB14 = +0.000721\n                     qcdSystB15 = +0.000000\n                     qcdSystB16 = +0.000000\n                     qcdSystB17 = -0.000571\n                     qcdSystB18 = +0.000000\n                     qcdSystB19 = +0.027060\n                     qcdSystB20 = +0.000000\n                     qcdSystB21 = +0.001174\n                     qcdSystB22 = +0.000000\n                     qcdSystB23 = +0.000000\n                     qcdSystB24 = +0.000000\n             metTrigMonojetSyst = +0.546813\n          metTrigSingleMuonSyst = +0.753523\n          metTrigDoubleMuonSyst = -0.543731\n                muonIdLooseSyst = -0.000118\n                muonIdLooseStat = -0.000104\n                muonIdTightSyst = -0.232832\n                muonIdTightStat = -0.273823\n               muonIsoLooseSyst = -0.000005\n               muonIsoLooseStat = -0.000015\n               muonIsoTightSyst = +0.000378\n               muonIsoTightStat = -0.030908\n                  eleIdIsoTight = +0.003982\n                   eleIdIsoVeto = -0.003519\n                        eleReco = -0.024878\n                        eleTrig = -0.047295\n                  photonIdLoose = +0.000199\n            photonPixelSeedVeto = -0.000221\n                    tauIdVLoose = -0.380888\n                     tauIdTight = +0.000000\n                         btagSF = +0.001484\n                       jesTotal = -0.000172\n                          jerSF = -0.000804\n                        unclust = -0.001630\n                           lumi = +0.442667\n                         pileup = +0.083775\n                      prefiring = +0.067531\n                         d1kqcd = -0.280166\n                         d2kqcd = +0.758444\n                         d3kqcd = -0.336116\n                          d1kew = +0.005800\n                         d2kewz = -0.105652\n                         d2keww = +0.082275\n                         d3kewz = -0.307326\n                         d3keww = +0.107202\n                          dkmix = -0.007397\n                   lhePdfWeight = +0.006754\n                 lheScaleWeight = -0.000006\n            Monojet_mcstat_bin0 = -0.745780\n            Monojet_mcstat_bin1 = +0.287245\n            Monojet_mcstat_bin2 = +1.288278\n            Monojet_mcstat_bin3 = +0.361777\n            Monojet_mcstat_bin4 = -0.301958\n            Monojet_mcstat_bin5 = -1.704126\n            Monojet_mcstat_bin6 = -1.083604\n            Monojet_mcstat_bin7 = +0.840369\n            Monojet_mcstat_bin8 = +0.698905\n            Monojet_mcstat_bin9 = -0.505412\n           Monojet_mcstat_bin10 = -0.115859\n           Monojet_mcstat_bin11 = -0.048979\n           Monojet_mcstat_bin12 = +0.788408\n           Monojet_mcstat_bin13 = +0.601603\n           Monojet_mcstat_bin14 = +0.567476\n           Monojet_mcstat_bin15 = -1.137796\n           Monojet_mcstat_bin16 = -0.387123\n           Monojet_mcstat_bin17 = +0.118039\n           Monojet_mcstat_bin18 = -0.275584\n           Monojet_mcstat_bin19 = -0.272963\n           Monojet_mcstat_bin20 = +0.012327\n           Monojet_mcstat_bin21 = -0.042598\n           Monojet_mcstat_bin22 = +0.102823\n           Monojet_mcstat_bin23 = +0.099645\n           Monojet_mcstat_bin24 = +0.084375\n         SingleMuon_mcstat_bin0 = +1.097394\n         SingleMuon_mcstat_bin1 = -0.788324\n         SingleMuon_mcstat_bin2 = -1.004067\n         SingleMuon_mcstat_bin3 = +0.459524\n         SingleMuon_mcstat_bin4 = +0.093096\n         SingleMuon_mcstat_bin5 = -0.507188\n         SingleMuon_mcstat_bin6 = -1.962418\n         SingleMuon_mcstat_bin7 = +0.884150\n         SingleMuon_mcstat_bin8 = +1.469009\n         SingleMuon_mcstat_bin9 = +1.737298\n        SingleMuon_mcstat_bin10 = +0.341685\n        SingleMuon_mcstat_bin11 = -0.591027\n        SingleMuon_mcstat_bin12 = +0.271857\n        SingleMuon_mcstat_bin13 = +0.367623\n        SingleMuon_mcstat_bin14 = +0.381189\n        SingleMuon_mcstat_bin15 = +0.295620\n        SingleMuon_mcstat_bin16 = +0.348711\n        SingleMuon_mcstat_bin17 = +0.456015\n        SingleMuon_mcstat_bin18 = -0.088633\n        SingleMuon_mcstat_bin19 = -0.873414\n        SingleMuon_mcstat_bin20 = -0.181050\n        SingleMuon_mcstat_bin21 = -0.246228\n        SingleMuon_mcstat_bin22 = -0.093504\n        SingleMuon_mcstat_bin23 = -0.754570\n        SingleMuon_mcstat_bin24 = -0.350237\n     SingleElectron_mcstat_bin0 = -0.138550\n     SingleElectron_mcstat_bin1 = +0.255695\n     SingleElectron_mcstat_bin2 = +0.200698\n     SingleElectron_mcstat_bin3 = -0.110418\n     SingleElectron_mcstat_bin4 = -1.692254\n     SingleElectron_mcstat_bin5 = -0.702918\n     SingleElectron_mcstat_bin6 = +0.224118\n     SingleElectron_mcstat_bin7 = +0.187451\n     SingleElectron_mcstat_bin8 = +0.874129\n     SingleElectron_mcstat_bin9 = +0.830119\n    SingleElectron_mcstat_bin10 = +0.906690\n    SingleElectron_mcstat_bin11 = -0.422306\n    SingleElectron_mcstat_bin12 = +0.901083\n    SingleElectron_mcstat_bin13 = -0.094799\n    SingleElectron_mcstat_bin14 = -0.487065\n    SingleElectron_mcstat_bin15 = -0.386114\n    SingleElectron_mcstat_bin16 = -1.265949\n    SingleElectron_mcstat_bin17 = -0.657877\n    SingleElectron_mcstat_bin18 = +0.213868\n    SingleElectron_mcstat_bin19 = -0.210688\n    SingleElectron_mcstat_bin20 = +0.131118\n    SingleElectron_mcstat_bin21 = +0.162899\n    SingleElectron_mcstat_bin22 = -0.036635\n    SingleElectron_mcstat_bin23 = -0.314903\n    SingleElectron_mcstat_bin24 = +0.048560\n         DoubleMuon_mcstat_bin0 = -0.172656\n         DoubleMuon_mcstat_bin1 = +0.467070\n         DoubleMuon_mcstat_bin2 = +0.077762\n         DoubleMuon_mcstat_bin3 = -0.286569\n         DoubleMuon_mcstat_bin4 = -0.477682\n         DoubleMuon_mcstat_bin5 = -0.113312\n         DoubleMuon_mcstat_bin6 = +0.007364\n         DoubleMuon_mcstat_bin7 = +0.302302\n         DoubleMuon_mcstat_bin8 = -0.012445\n         DoubleMuon_mcstat_bin9 = +0.027467\n        DoubleMuon_mcstat_bin10 = +0.069510\n        DoubleMuon_mcstat_bin11 = +0.524589\n        DoubleMuon_mcstat_bin12 = -0.103945\n        DoubleMuon_mcstat_bin13 = +0.236646\n        DoubleMuon_mcstat_bin14 = +0.128707\n        DoubleMuon_mcstat_bin15 = +0.166756\n        DoubleMuon_mcstat_bin16 = -0.191261\n        DoubleMuon_mcstat_bin17 = -0.038043\n        DoubleMuon_mcstat_bin18 = +0.054105\n        DoubleMuon_mcstat_bin19 = -0.065475\n        DoubleMuon_mcstat_bin20 = -0.080022\n        DoubleMuon_mcstat_bin21 = -0.183900\n        DoubleMuon_mcstat_bin22 = +0.017647\n        DoubleMuon_mcstat_bin23 = +0.456332\n        DoubleMuon_mcstat_bin24 = -0.043919\n     DoubleElectron_mcstat_bin0 = +0.339623\n     DoubleElectron_mcstat_bin1 = -0.040657\n     DoubleElectron_mcstat_bin2 = +0.269690\n     DoubleElectron_mcstat_bin3 = -0.153926\n     DoubleElectron_mcstat_bin4 = -0.195913\n     DoubleElectron_mcstat_bin5 = -0.174324\n     DoubleElectron_mcstat_bin6 = -0.038452\n     DoubleElectron_mcstat_bin7 = +0.143719\n     DoubleElectron_mcstat_bin8 = +0.114820\n     DoubleElectron_mcstat_bin9 = +0.197028\n    DoubleElectron_mcstat_bin10 = +0.135739\n    DoubleElectron_mcstat_bin11 = -0.053601\n    DoubleElectron_mcstat_bin12 = -0.053661\n    DoubleElectron_mcstat_bin13 = +0.105475\n    DoubleElectron_mcstat_bin14 = +0.081730\n    DoubleElectron_mcstat_bin15 = +0.150137\n    DoubleElectron_mcstat_bin16 = +0.045972\n    DoubleElectron_mcstat_bin17 = +0.329468\n    DoubleElectron_mcstat_bin18 = -0.179521\n    DoubleElectron_mcstat_bin19 = -0.068799\n    DoubleElectron_mcstat_bin20 = -0.050332\n    DoubleElectron_mcstat_bin21 = +0.146952\n    DoubleElectron_mcstat_bin22 = -0.139290\n    DoubleElectron_mcstat_bin23 = -0.040351\n    DoubleElectron_mcstat_bin24 = +0.028427\n"
     ]
    }
   ],
   "source": [
    "%time minimizer.migrad(ncall=100_000)"
   ]
  },
  {
   "cell_type": "code",
   "execution_count": 44,
   "metadata": {},
   "outputs": [
    {
     "name": "stderr",
     "output_type": "stream",
     "text": [
      "2019-10-02 01:35:30,431 - pysge.area - INFO - Creating paths in /vols/build/cms/sdb15/ZinvWidth/zinv-notebooks/notebooks/final_fit/_ccsp_temp/tpd_20191002_013530_bx_c1_sf\n"
     ]
    },
    {
     "data": {
      "application/vnd.jupyter.widget-view+json": {
       "model_id": "f60717d6c2d545c9ba6cf1d4dc683174",
       "version_major": 2,
       "version_minor": 0
      },
      "text/plain": [
       "HBox(children=(IntProgress(value=0, max=2601), HTML(value='')))"
      ]
     },
     "metadata": {},
     "output_type": "display_data"
    },
    {
     "ename": "KeyboardInterrupt",
     "evalue": "",
     "output_type": "error",
     "traceback": [
      "\u001b[0;31m---------------------------------------------------------------------------\u001b[0m",
      "\u001b[0;31mKeyboardInterrupt\u001b[0m                         Traceback (most recent call last)",
      "\u001b[0;32m<ipython-input-44-d44e4f84bd67>\u001b[0m in \u001b[0;36m<module>\u001b[0;34m\u001b[0m\n\u001b[1;32m      8\u001b[0m     \u001b[0mpysge_args\u001b[0m\u001b[0;34m=\u001b[0m\u001b[0;34m(\u001b[0m\u001b[0;34m\"zfit\"\u001b[0m\u001b[0;34m,\u001b[0m \u001b[0;34m\"_ccsp_temp\"\u001b[0m\u001b[0;34m)\u001b[0m\u001b[0;34m,\u001b[0m\u001b[0;34m\u001b[0m\u001b[0;34m\u001b[0m\u001b[0m\n\u001b[1;32m      9\u001b[0m     \u001b[0mpysge_kwargs\u001b[0m\u001b[0;34m=\u001b[0m\u001b[0mdict\u001b[0m\u001b[0;34m(\u001b[0m\u001b[0moptions\u001b[0m\u001b[0;34m=\u001b[0m\u001b[0;34m\"-q hep.q -l h_vmem=12G\"\u001b[0m\u001b[0;34m,\u001b[0m \u001b[0mdill_kw\u001b[0m\u001b[0;34m=\u001b[0m\u001b[0;34m{\u001b[0m\u001b[0;34m\"recurse\"\u001b[0m\u001b[0;34m:\u001b[0m \u001b[0;32mFalse\u001b[0m\u001b[0;34m}\u001b[0m\u001b[0;34m)\u001b[0m\u001b[0;34m,\u001b[0m\u001b[0;34m\u001b[0m\u001b[0;34m\u001b[0m\u001b[0m\n\u001b[0;32m---> 10\u001b[0;31m     \u001b[0mparams_guess\u001b[0m\u001b[0;34m=\u001b[0m\u001b[0mdict\u001b[0m\u001b[0;34m(\u001b[0m\u001b[0mminimizer\u001b[0m\u001b[0;34m.\u001b[0m\u001b[0mvalues\u001b[0m\u001b[0;34m)\u001b[0m\u001b[0;34m,\u001b[0m\u001b[0;34m\u001b[0m\u001b[0;34m\u001b[0m\u001b[0m\n\u001b[0m\u001b[1;32m     11\u001b[0m )\n",
      "\u001b[0;32m/vols/build/cms/sdb15/ZinvWidth/zinv-notebooks/externals/dftools/dftools/fitting.py\u001b[0m in \u001b[0;36mrun_profile_likelihood_nd\u001b[0;34m(params, param_values, nll_args, nll_kwargs, fit_kwargs, migrad_kwargs, pysge_function, pysge_args, pysge_kwargs, params_guess, nll_class, fixed_params)\u001b[0m\n\u001b[1;32m   1053\u001b[0m     results = getattr(pysge, pysge_function)(\n\u001b[1;32m   1054\u001b[0m         \u001b[0;34m*\u001b[0m\u001b[0mtuple\u001b[0m\u001b[0;34m(\u001b[0m\u001b[0;34m[\u001b[0m\u001b[0mtasks\u001b[0m\u001b[0;34m]\u001b[0m\u001b[0;34m+\u001b[0m\u001b[0mlist\u001b[0m\u001b[0;34m(\u001b[0m\u001b[0mpysge_args\u001b[0m\u001b[0;34m)\u001b[0m\u001b[0;34m)\u001b[0m\u001b[0;34m,\u001b[0m\u001b[0;34m\u001b[0m\u001b[0;34m\u001b[0m\u001b[0m\n\u001b[0;32m-> 1055\u001b[0;31m         \u001b[0;34m**\u001b[0m\u001b[0mpysge_kwargs\u001b[0m\u001b[0;34m,\u001b[0m\u001b[0;34m\u001b[0m\u001b[0;34m\u001b[0m\u001b[0m\n\u001b[0m\u001b[1;32m   1056\u001b[0m     )\n\u001b[1;32m   1057\u001b[0m     \u001b[0;32mreturn\u001b[0m \u001b[0mpd\u001b[0m\u001b[0;34m.\u001b[0m\u001b[0mDataFrame\u001b[0m\u001b[0;34m(\u001b[0m\u001b[0mresults\u001b[0m\u001b[0;34m)\u001b[0m\u001b[0;34m\u001b[0m\u001b[0;34m\u001b[0m\u001b[0m\n",
      "\u001b[0;32m/vols/build/cms/sdb15/ZinvWidth/zinv-notebooks/externals/pysge/pysge/interface.py\u001b[0m in \u001b[0;36msge_submit\u001b[0;34m(tasks, label, tmpdir, options, dryrun, quiet, sleep, request_resubmission_options, return_files, dill_kw)\u001b[0m\n\u001b[1;32m     79\u001b[0m \u001b[0;34m\u001b[0m\u001b[0m\n\u001b[1;32m     80\u001b[0m     \u001b[0mresults\u001b[0m \u001b[0;34m=\u001b[0m \u001b[0;34m[\u001b[0m\u001b[0;34m]\u001b[0m\u001b[0;34m\u001b[0m\u001b[0;34m\u001b[0m\u001b[0m\n\u001b[0;32m---> 81\u001b[0;31m     \u001b[0marea\u001b[0m\u001b[0;34m.\u001b[0m\u001b[0mcreate_areas\u001b[0m\u001b[0;34m(\u001b[0m\u001b[0mtasks\u001b[0m\u001b[0;34m,\u001b[0m \u001b[0mquiet\u001b[0m\u001b[0;34m=\u001b[0m\u001b[0mquiet\u001b[0m\u001b[0;34m,\u001b[0m \u001b[0mdill_kw\u001b[0m\u001b[0;34m=\u001b[0m\u001b[0mdill_kw\u001b[0m\u001b[0;34m)\u001b[0m\u001b[0;34m\u001b[0m\u001b[0;34m\u001b[0m\u001b[0m\n\u001b[0m\u001b[1;32m     82\u001b[0m     \u001b[0;32mtry\u001b[0m\u001b[0;34m:\u001b[0m\u001b[0;34m\u001b[0m\u001b[0;34m\u001b[0m\u001b[0m\n\u001b[1;32m     83\u001b[0m         \u001b[0msubmitter\u001b[0m\u001b[0;34m.\u001b[0m\u001b[0msubmit_tasks\u001b[0m\u001b[0;34m(\u001b[0m\u001b[0marea\u001b[0m\u001b[0;34m.\u001b[0m\u001b[0mtask_paths\u001b[0m\u001b[0;34m,\u001b[0m \u001b[0mdryrun\u001b[0m\u001b[0;34m=\u001b[0m\u001b[0mdryrun\u001b[0m\u001b[0;34m,\u001b[0m \u001b[0mquiet\u001b[0m\u001b[0;34m=\u001b[0m\u001b[0mquiet\u001b[0m\u001b[0;34m)\u001b[0m\u001b[0;34m\u001b[0m\u001b[0;34m\u001b[0m\u001b[0m\n",
      "\u001b[0;32m/vols/build/cms/sdb15/ZinvWidth/zinv-notebooks/externals/pysge/pysge/area.py\u001b[0m in \u001b[0;36mcreate_areas\u001b[0;34m(self, tasks, quiet, dill_kw)\u001b[0m\n\u001b[1;32m     37\u001b[0m             \u001b[0mfile_path\u001b[0m \u001b[0;34m=\u001b[0m \u001b[0mos\u001b[0m\u001b[0;34m.\u001b[0m\u001b[0mpath\u001b[0m\u001b[0;34m.\u001b[0m\u001b[0mjoin\u001b[0m\u001b[0;34m(\u001b[0m\u001b[0mos\u001b[0m\u001b[0;34m.\u001b[0m\u001b[0mpath\u001b[0m\u001b[0;34m.\u001b[0m\u001b[0mjoin\u001b[0m\u001b[0;34m(\u001b[0m\u001b[0mpath\u001b[0m\u001b[0;34m,\u001b[0m \u001b[0;34m\"task.p.lz4\"\u001b[0m\u001b[0;34m)\u001b[0m\u001b[0;34m)\u001b[0m\u001b[0;34m\u001b[0m\u001b[0;34m\u001b[0m\u001b[0m\n\u001b[1;32m     38\u001b[0m             \u001b[0;32mwith\u001b[0m \u001b[0mlz4\u001b[0m\u001b[0;34m.\u001b[0m\u001b[0mframe\u001b[0m\u001b[0;34m.\u001b[0m\u001b[0mopen\u001b[0m\u001b[0;34m(\u001b[0m\u001b[0mfile_path\u001b[0m\u001b[0;34m,\u001b[0m \u001b[0;34m'wb'\u001b[0m\u001b[0;34m)\u001b[0m \u001b[0;32mas\u001b[0m \u001b[0mf\u001b[0m\u001b[0;34m:\u001b[0m\u001b[0;34m\u001b[0m\u001b[0;34m\u001b[0m\u001b[0m\n\u001b[0;32m---> 39\u001b[0;31m                 \u001b[0mdill\u001b[0m\u001b[0;34m.\u001b[0m\u001b[0mdump\u001b[0m\u001b[0;34m(\u001b[0m\u001b[0mtask\u001b[0m\u001b[0;34m,\u001b[0m \u001b[0mf\u001b[0m\u001b[0;34m,\u001b[0m \u001b[0;34m**\u001b[0m\u001b[0mdill_kw\u001b[0m\u001b[0;34m)\u001b[0m\u001b[0;34m\u001b[0m\u001b[0;34m\u001b[0m\u001b[0m\n\u001b[0m\u001b[1;32m     40\u001b[0m             \u001b[0mtask_paths\u001b[0m\u001b[0;34m.\u001b[0m\u001b[0mappend\u001b[0m\u001b[0;34m(\u001b[0m\u001b[0mpath\u001b[0m\u001b[0;34m)\u001b[0m\u001b[0;34m\u001b[0m\u001b[0;34m\u001b[0m\u001b[0m\n\u001b[1;32m     41\u001b[0m         \u001b[0mself\u001b[0m\u001b[0;34m.\u001b[0m\u001b[0mtask_paths\u001b[0m \u001b[0;34m=\u001b[0m \u001b[0mtask_paths\u001b[0m\u001b[0;34m\u001b[0m\u001b[0;34m\u001b[0m\u001b[0m\n",
      "\u001b[0;32m~/miniconda2/envs/zinv37/lib/python3.7/site-packages/dill/_dill.py\u001b[0m in \u001b[0;36mdump\u001b[0;34m(obj, file, protocol, byref, fmode, recurse)\u001b[0m\n\u001b[1;32m    285\u001b[0m         \u001b[0;32mraise\u001b[0m \u001b[0mPicklingError\u001b[0m\u001b[0;34m(\u001b[0m\u001b[0mmsg\u001b[0m\u001b[0;34m)\u001b[0m\u001b[0;34m\u001b[0m\u001b[0;34m\u001b[0m\u001b[0m\n\u001b[1;32m    286\u001b[0m     \u001b[0;32melse\u001b[0m\u001b[0;34m:\u001b[0m\u001b[0;34m\u001b[0m\u001b[0;34m\u001b[0m\u001b[0m\n\u001b[0;32m--> 287\u001b[0;31m         \u001b[0mpik\u001b[0m\u001b[0;34m.\u001b[0m\u001b[0mdump\u001b[0m\u001b[0;34m(\u001b[0m\u001b[0mobj\u001b[0m\u001b[0;34m)\u001b[0m\u001b[0;34m\u001b[0m\u001b[0;34m\u001b[0m\u001b[0m\n\u001b[0m\u001b[1;32m    288\u001b[0m     \u001b[0mstack\u001b[0m\u001b[0;34m.\u001b[0m\u001b[0mclear\u001b[0m\u001b[0;34m(\u001b[0m\u001b[0;34m)\u001b[0m  \u001b[0;31m# clear record of 'recursion-sensitive' pickled objects\u001b[0m\u001b[0;34m\u001b[0m\u001b[0;34m\u001b[0m\u001b[0m\n\u001b[1;32m    289\u001b[0m     \u001b[0;32mreturn\u001b[0m\u001b[0;34m\u001b[0m\u001b[0;34m\u001b[0m\u001b[0m\n",
      "\u001b[0;32m~/miniconda2/envs/zinv37/lib/python3.7/pickle.py\u001b[0m in \u001b[0;36mdump\u001b[0;34m(self, obj)\u001b[0m\n\u001b[1;32m    435\u001b[0m         \u001b[0;32mif\u001b[0m \u001b[0mself\u001b[0m\u001b[0;34m.\u001b[0m\u001b[0mproto\u001b[0m \u001b[0;34m>=\u001b[0m \u001b[0;36m4\u001b[0m\u001b[0;34m:\u001b[0m\u001b[0;34m\u001b[0m\u001b[0;34m\u001b[0m\u001b[0m\n\u001b[1;32m    436\u001b[0m             \u001b[0mself\u001b[0m\u001b[0;34m.\u001b[0m\u001b[0mframer\u001b[0m\u001b[0;34m.\u001b[0m\u001b[0mstart_framing\u001b[0m\u001b[0;34m(\u001b[0m\u001b[0;34m)\u001b[0m\u001b[0;34m\u001b[0m\u001b[0;34m\u001b[0m\u001b[0m\n\u001b[0;32m--> 437\u001b[0;31m         \u001b[0mself\u001b[0m\u001b[0;34m.\u001b[0m\u001b[0msave\u001b[0m\u001b[0;34m(\u001b[0m\u001b[0mobj\u001b[0m\u001b[0;34m)\u001b[0m\u001b[0;34m\u001b[0m\u001b[0;34m\u001b[0m\u001b[0m\n\u001b[0m\u001b[1;32m    438\u001b[0m         \u001b[0mself\u001b[0m\u001b[0;34m.\u001b[0m\u001b[0mwrite\u001b[0m\u001b[0;34m(\u001b[0m\u001b[0mSTOP\u001b[0m\u001b[0;34m)\u001b[0m\u001b[0;34m\u001b[0m\u001b[0;34m\u001b[0m\u001b[0m\n\u001b[1;32m    439\u001b[0m         \u001b[0mself\u001b[0m\u001b[0;34m.\u001b[0m\u001b[0mframer\u001b[0m\u001b[0;34m.\u001b[0m\u001b[0mend_framing\u001b[0m\u001b[0;34m(\u001b[0m\u001b[0;34m)\u001b[0m\u001b[0;34m\u001b[0m\u001b[0;34m\u001b[0m\u001b[0m\n",
      "\u001b[0;32m~/miniconda2/envs/zinv37/lib/python3.7/pickle.py\u001b[0m in \u001b[0;36msave\u001b[0;34m(self, obj, save_persistent_id)\u001b[0m\n\u001b[1;32m    502\u001b[0m         \u001b[0mf\u001b[0m \u001b[0;34m=\u001b[0m \u001b[0mself\u001b[0m\u001b[0;34m.\u001b[0m\u001b[0mdispatch\u001b[0m\u001b[0;34m.\u001b[0m\u001b[0mget\u001b[0m\u001b[0;34m(\u001b[0m\u001b[0mt\u001b[0m\u001b[0;34m)\u001b[0m\u001b[0;34m\u001b[0m\u001b[0;34m\u001b[0m\u001b[0m\n\u001b[1;32m    503\u001b[0m         \u001b[0;32mif\u001b[0m \u001b[0mf\u001b[0m \u001b[0;32mis\u001b[0m \u001b[0;32mnot\u001b[0m \u001b[0;32mNone\u001b[0m\u001b[0;34m:\u001b[0m\u001b[0;34m\u001b[0m\u001b[0;34m\u001b[0m\u001b[0m\n\u001b[0;32m--> 504\u001b[0;31m             \u001b[0mf\u001b[0m\u001b[0;34m(\u001b[0m\u001b[0mself\u001b[0m\u001b[0;34m,\u001b[0m \u001b[0mobj\u001b[0m\u001b[0;34m)\u001b[0m \u001b[0;31m# Call unbound method with explicit self\u001b[0m\u001b[0;34m\u001b[0m\u001b[0;34m\u001b[0m\u001b[0m\n\u001b[0m\u001b[1;32m    505\u001b[0m             \u001b[0;32mreturn\u001b[0m\u001b[0;34m\u001b[0m\u001b[0;34m\u001b[0m\u001b[0m\n\u001b[1;32m    506\u001b[0m \u001b[0;34m\u001b[0m\u001b[0m\n",
      "\u001b[0;32m~/miniconda2/envs/zinv37/lib/python3.7/site-packages/dill/_dill.py\u001b[0m in \u001b[0;36msave_module_dict\u001b[0;34m(pickler, obj)\u001b[0m\n\u001b[1;32m    908\u001b[0m             \u001b[0;31m# we only care about session the first pass thru\u001b[0m\u001b[0;34m\u001b[0m\u001b[0;34m\u001b[0m\u001b[0;34m\u001b[0m\u001b[0m\n\u001b[1;32m    909\u001b[0m             \u001b[0mpickler\u001b[0m\u001b[0;34m.\u001b[0m\u001b[0m_session\u001b[0m \u001b[0;34m=\u001b[0m \u001b[0;32mFalse\u001b[0m\u001b[0;34m\u001b[0m\u001b[0;34m\u001b[0m\u001b[0m\n\u001b[0;32m--> 910\u001b[0;31m         \u001b[0mStockPickler\u001b[0m\u001b[0;34m.\u001b[0m\u001b[0msave_dict\u001b[0m\u001b[0;34m(\u001b[0m\u001b[0mpickler\u001b[0m\u001b[0;34m,\u001b[0m \u001b[0mobj\u001b[0m\u001b[0;34m)\u001b[0m\u001b[0;34m\u001b[0m\u001b[0;34m\u001b[0m\u001b[0m\n\u001b[0m\u001b[1;32m    911\u001b[0m         \u001b[0mlog\u001b[0m\u001b[0;34m.\u001b[0m\u001b[0minfo\u001b[0m\u001b[0;34m(\u001b[0m\u001b[0;34m\"# D2\"\u001b[0m\u001b[0;34m)\u001b[0m\u001b[0;34m\u001b[0m\u001b[0;34m\u001b[0m\u001b[0m\n\u001b[1;32m    912\u001b[0m     \u001b[0;32mreturn\u001b[0m\u001b[0;34m\u001b[0m\u001b[0;34m\u001b[0m\u001b[0m\n",
      "\u001b[0;32m~/miniconda2/envs/zinv37/lib/python3.7/pickle.py\u001b[0m in \u001b[0;36msave_dict\u001b[0;34m(self, obj)\u001b[0m\n\u001b[1;32m    854\u001b[0m \u001b[0;34m\u001b[0m\u001b[0m\n\u001b[1;32m    855\u001b[0m         \u001b[0mself\u001b[0m\u001b[0;34m.\u001b[0m\u001b[0mmemoize\u001b[0m\u001b[0;34m(\u001b[0m\u001b[0mobj\u001b[0m\u001b[0;34m)\u001b[0m\u001b[0;34m\u001b[0m\u001b[0;34m\u001b[0m\u001b[0m\n\u001b[0;32m--> 856\u001b[0;31m         \u001b[0mself\u001b[0m\u001b[0;34m.\u001b[0m\u001b[0m_batch_setitems\u001b[0m\u001b[0;34m(\u001b[0m\u001b[0mobj\u001b[0m\u001b[0;34m.\u001b[0m\u001b[0mitems\u001b[0m\u001b[0;34m(\u001b[0m\u001b[0;34m)\u001b[0m\u001b[0;34m)\u001b[0m\u001b[0;34m\u001b[0m\u001b[0;34m\u001b[0m\u001b[0m\n\u001b[0m\u001b[1;32m    857\u001b[0m \u001b[0;34m\u001b[0m\u001b[0m\n\u001b[1;32m    858\u001b[0m     \u001b[0mdispatch\u001b[0m\u001b[0;34m[\u001b[0m\u001b[0mdict\u001b[0m\u001b[0;34m]\u001b[0m \u001b[0;34m=\u001b[0m \u001b[0msave_dict\u001b[0m\u001b[0;34m\u001b[0m\u001b[0;34m\u001b[0m\u001b[0m\n",
      "\u001b[0;32m~/miniconda2/envs/zinv37/lib/python3.7/pickle.py\u001b[0m in \u001b[0;36m_batch_setitems\u001b[0;34m(self, items)\u001b[0m\n\u001b[1;32m    880\u001b[0m                 \u001b[0;32mfor\u001b[0m \u001b[0mk\u001b[0m\u001b[0;34m,\u001b[0m \u001b[0mv\u001b[0m \u001b[0;32min\u001b[0m \u001b[0mtmp\u001b[0m\u001b[0;34m:\u001b[0m\u001b[0;34m\u001b[0m\u001b[0;34m\u001b[0m\u001b[0m\n\u001b[1;32m    881\u001b[0m                     \u001b[0msave\u001b[0m\u001b[0;34m(\u001b[0m\u001b[0mk\u001b[0m\u001b[0;34m)\u001b[0m\u001b[0;34m\u001b[0m\u001b[0;34m\u001b[0m\u001b[0m\n\u001b[0;32m--> 882\u001b[0;31m                     \u001b[0msave\u001b[0m\u001b[0;34m(\u001b[0m\u001b[0mv\u001b[0m\u001b[0;34m)\u001b[0m\u001b[0;34m\u001b[0m\u001b[0;34m\u001b[0m\u001b[0m\n\u001b[0m\u001b[1;32m    883\u001b[0m                 \u001b[0mwrite\u001b[0m\u001b[0;34m(\u001b[0m\u001b[0mSETITEMS\u001b[0m\u001b[0;34m)\u001b[0m\u001b[0;34m\u001b[0m\u001b[0;34m\u001b[0m\u001b[0m\n\u001b[1;32m    884\u001b[0m             \u001b[0;32melif\u001b[0m \u001b[0mn\u001b[0m\u001b[0;34m:\u001b[0m\u001b[0;34m\u001b[0m\u001b[0;34m\u001b[0m\u001b[0m\n",
      "\u001b[0;32m~/miniconda2/envs/zinv37/lib/python3.7/pickle.py\u001b[0m in \u001b[0;36msave\u001b[0;34m(self, obj, save_persistent_id)\u001b[0m\n\u001b[1;32m    502\u001b[0m         \u001b[0mf\u001b[0m \u001b[0;34m=\u001b[0m \u001b[0mself\u001b[0m\u001b[0;34m.\u001b[0m\u001b[0mdispatch\u001b[0m\u001b[0;34m.\u001b[0m\u001b[0mget\u001b[0m\u001b[0;34m(\u001b[0m\u001b[0mt\u001b[0m\u001b[0;34m)\u001b[0m\u001b[0;34m\u001b[0m\u001b[0;34m\u001b[0m\u001b[0m\n\u001b[1;32m    503\u001b[0m         \u001b[0;32mif\u001b[0m \u001b[0mf\u001b[0m \u001b[0;32mis\u001b[0m \u001b[0;32mnot\u001b[0m \u001b[0;32mNone\u001b[0m\u001b[0;34m:\u001b[0m\u001b[0;34m\u001b[0m\u001b[0;34m\u001b[0m\u001b[0m\n\u001b[0;32m--> 504\u001b[0;31m             \u001b[0mf\u001b[0m\u001b[0;34m(\u001b[0m\u001b[0mself\u001b[0m\u001b[0;34m,\u001b[0m \u001b[0mobj\u001b[0m\u001b[0;34m)\u001b[0m \u001b[0;31m# Call unbound method with explicit self\u001b[0m\u001b[0;34m\u001b[0m\u001b[0;34m\u001b[0m\u001b[0m\n\u001b[0m\u001b[1;32m    505\u001b[0m             \u001b[0;32mreturn\u001b[0m\u001b[0;34m\u001b[0m\u001b[0;34m\u001b[0m\u001b[0m\n\u001b[1;32m    506\u001b[0m \u001b[0;34m\u001b[0m\u001b[0m\n",
      "\u001b[0;32m~/miniconda2/envs/zinv37/lib/python3.7/pickle.py\u001b[0m in \u001b[0;36msave_tuple\u001b[0;34m(self, obj)\u001b[0m\n\u001b[1;32m    784\u001b[0m         \u001b[0mwrite\u001b[0m\u001b[0;34m(\u001b[0m\u001b[0mMARK\u001b[0m\u001b[0;34m)\u001b[0m\u001b[0;34m\u001b[0m\u001b[0;34m\u001b[0m\u001b[0m\n\u001b[1;32m    785\u001b[0m         \u001b[0;32mfor\u001b[0m \u001b[0melement\u001b[0m \u001b[0;32min\u001b[0m \u001b[0mobj\u001b[0m\u001b[0;34m:\u001b[0m\u001b[0;34m\u001b[0m\u001b[0;34m\u001b[0m\u001b[0m\n\u001b[0;32m--> 786\u001b[0;31m             \u001b[0msave\u001b[0m\u001b[0;34m(\u001b[0m\u001b[0melement\u001b[0m\u001b[0;34m)\u001b[0m\u001b[0;34m\u001b[0m\u001b[0;34m\u001b[0m\u001b[0m\n\u001b[0m\u001b[1;32m    787\u001b[0m \u001b[0;34m\u001b[0m\u001b[0m\n\u001b[1;32m    788\u001b[0m         \u001b[0;32mif\u001b[0m \u001b[0mid\u001b[0m\u001b[0;34m(\u001b[0m\u001b[0mobj\u001b[0m\u001b[0;34m)\u001b[0m \u001b[0;32min\u001b[0m \u001b[0mmemo\u001b[0m\u001b[0;34m:\u001b[0m\u001b[0;34m\u001b[0m\u001b[0;34m\u001b[0m\u001b[0m\n",
      "\u001b[0;32m~/miniconda2/envs/zinv37/lib/python3.7/pickle.py\u001b[0m in \u001b[0;36msave\u001b[0;34m(self, obj, save_persistent_id)\u001b[0m\n\u001b[1;32m    502\u001b[0m         \u001b[0mf\u001b[0m \u001b[0;34m=\u001b[0m \u001b[0mself\u001b[0m\u001b[0;34m.\u001b[0m\u001b[0mdispatch\u001b[0m\u001b[0;34m.\u001b[0m\u001b[0mget\u001b[0m\u001b[0;34m(\u001b[0m\u001b[0mt\u001b[0m\u001b[0;34m)\u001b[0m\u001b[0;34m\u001b[0m\u001b[0;34m\u001b[0m\u001b[0m\n\u001b[1;32m    503\u001b[0m         \u001b[0;32mif\u001b[0m \u001b[0mf\u001b[0m \u001b[0;32mis\u001b[0m \u001b[0;32mnot\u001b[0m \u001b[0;32mNone\u001b[0m\u001b[0;34m:\u001b[0m\u001b[0;34m\u001b[0m\u001b[0;34m\u001b[0m\u001b[0m\n\u001b[0;32m--> 504\u001b[0;31m             \u001b[0mf\u001b[0m\u001b[0;34m(\u001b[0m\u001b[0mself\u001b[0m\u001b[0;34m,\u001b[0m \u001b[0mobj\u001b[0m\u001b[0;34m)\u001b[0m \u001b[0;31m# Call unbound method with explicit self\u001b[0m\u001b[0;34m\u001b[0m\u001b[0;34m\u001b[0m\u001b[0m\n\u001b[0m\u001b[1;32m    505\u001b[0m             \u001b[0;32mreturn\u001b[0m\u001b[0;34m\u001b[0m\u001b[0;34m\u001b[0m\u001b[0m\n\u001b[1;32m    506\u001b[0m \u001b[0;34m\u001b[0m\u001b[0m\n",
      "\u001b[0;32m~/miniconda2/envs/zinv37/lib/python3.7/pickle.py\u001b[0m in \u001b[0;36msave_tuple\u001b[0;34m(self, obj)\u001b[0m\n\u001b[1;32m    769\u001b[0m         \u001b[0;32mif\u001b[0m \u001b[0mn\u001b[0m \u001b[0;34m<=\u001b[0m \u001b[0;36m3\u001b[0m \u001b[0;32mand\u001b[0m \u001b[0mself\u001b[0m\u001b[0;34m.\u001b[0m\u001b[0mproto\u001b[0m \u001b[0;34m>=\u001b[0m \u001b[0;36m2\u001b[0m\u001b[0;34m:\u001b[0m\u001b[0;34m\u001b[0m\u001b[0;34m\u001b[0m\u001b[0m\n\u001b[1;32m    770\u001b[0m             \u001b[0;32mfor\u001b[0m \u001b[0melement\u001b[0m \u001b[0;32min\u001b[0m \u001b[0mobj\u001b[0m\u001b[0;34m:\u001b[0m\u001b[0;34m\u001b[0m\u001b[0;34m\u001b[0m\u001b[0m\n\u001b[0;32m--> 771\u001b[0;31m                 \u001b[0msave\u001b[0m\u001b[0;34m(\u001b[0m\u001b[0melement\u001b[0m\u001b[0;34m)\u001b[0m\u001b[0;34m\u001b[0m\u001b[0;34m\u001b[0m\u001b[0m\n\u001b[0m\u001b[1;32m    772\u001b[0m             \u001b[0;31m# Subtle.  Same as in the big comment below.\u001b[0m\u001b[0;34m\u001b[0m\u001b[0;34m\u001b[0m\u001b[0;34m\u001b[0m\u001b[0m\n\u001b[1;32m    773\u001b[0m             \u001b[0;32mif\u001b[0m \u001b[0mid\u001b[0m\u001b[0;34m(\u001b[0m\u001b[0mobj\u001b[0m\u001b[0;34m)\u001b[0m \u001b[0;32min\u001b[0m \u001b[0mmemo\u001b[0m\u001b[0;34m:\u001b[0m\u001b[0;34m\u001b[0m\u001b[0;34m\u001b[0m\u001b[0m\n",
      "\u001b[0;32m~/miniconda2/envs/zinv37/lib/python3.7/pickle.py\u001b[0m in \u001b[0;36msave\u001b[0;34m(self, obj, save_persistent_id)\u001b[0m\n\u001b[1;32m    547\u001b[0m \u001b[0;34m\u001b[0m\u001b[0m\n\u001b[1;32m    548\u001b[0m         \u001b[0;31m# Save the reduce() output and finally memoize the object\u001b[0m\u001b[0;34m\u001b[0m\u001b[0;34m\u001b[0m\u001b[0;34m\u001b[0m\u001b[0m\n\u001b[0;32m--> 549\u001b[0;31m         \u001b[0mself\u001b[0m\u001b[0;34m.\u001b[0m\u001b[0msave_reduce\u001b[0m\u001b[0;34m(\u001b[0m\u001b[0mobj\u001b[0m\u001b[0;34m=\u001b[0m\u001b[0mobj\u001b[0m\u001b[0;34m,\u001b[0m \u001b[0;34m*\u001b[0m\u001b[0mrv\u001b[0m\u001b[0;34m)\u001b[0m\u001b[0;34m\u001b[0m\u001b[0;34m\u001b[0m\u001b[0m\n\u001b[0m\u001b[1;32m    550\u001b[0m \u001b[0;34m\u001b[0m\u001b[0m\n\u001b[1;32m    551\u001b[0m     \u001b[0;32mdef\u001b[0m \u001b[0mpersistent_id\u001b[0m\u001b[0;34m(\u001b[0m\u001b[0mself\u001b[0m\u001b[0;34m,\u001b[0m \u001b[0mobj\u001b[0m\u001b[0;34m)\u001b[0m\u001b[0;34m:\u001b[0m\u001b[0;34m\u001b[0m\u001b[0;34m\u001b[0m\u001b[0m\n",
      "\u001b[0;32m~/miniconda2/envs/zinv37/lib/python3.7/pickle.py\u001b[0m in \u001b[0;36msave_reduce\u001b[0;34m(self, func, args, state, listitems, dictitems, obj)\u001b[0m\n\u001b[1;32m    660\u001b[0m \u001b[0;34m\u001b[0m\u001b[0m\n\u001b[1;32m    661\u001b[0m         \u001b[0;32mif\u001b[0m \u001b[0mstate\u001b[0m \u001b[0;32mis\u001b[0m \u001b[0;32mnot\u001b[0m \u001b[0;32mNone\u001b[0m\u001b[0;34m:\u001b[0m\u001b[0;34m\u001b[0m\u001b[0;34m\u001b[0m\u001b[0m\n\u001b[0;32m--> 662\u001b[0;31m             \u001b[0msave\u001b[0m\u001b[0;34m(\u001b[0m\u001b[0mstate\u001b[0m\u001b[0;34m)\u001b[0m\u001b[0;34m\u001b[0m\u001b[0;34m\u001b[0m\u001b[0m\n\u001b[0m\u001b[1;32m    663\u001b[0m             \u001b[0mwrite\u001b[0m\u001b[0;34m(\u001b[0m\u001b[0mBUILD\u001b[0m\u001b[0;34m)\u001b[0m\u001b[0;34m\u001b[0m\u001b[0;34m\u001b[0m\u001b[0m\n\u001b[1;32m    664\u001b[0m \u001b[0;34m\u001b[0m\u001b[0m\n",
      "\u001b[0;32m~/miniconda2/envs/zinv37/lib/python3.7/pickle.py\u001b[0m in \u001b[0;36msave\u001b[0;34m(self, obj, save_persistent_id)\u001b[0m\n\u001b[1;32m    502\u001b[0m         \u001b[0mf\u001b[0m \u001b[0;34m=\u001b[0m \u001b[0mself\u001b[0m\u001b[0;34m.\u001b[0m\u001b[0mdispatch\u001b[0m\u001b[0;34m.\u001b[0m\u001b[0mget\u001b[0m\u001b[0;34m(\u001b[0m\u001b[0mt\u001b[0m\u001b[0;34m)\u001b[0m\u001b[0;34m\u001b[0m\u001b[0;34m\u001b[0m\u001b[0m\n\u001b[1;32m    503\u001b[0m         \u001b[0;32mif\u001b[0m \u001b[0mf\u001b[0m \u001b[0;32mis\u001b[0m \u001b[0;32mnot\u001b[0m \u001b[0;32mNone\u001b[0m\u001b[0;34m:\u001b[0m\u001b[0;34m\u001b[0m\u001b[0;34m\u001b[0m\u001b[0m\n\u001b[0;32m--> 504\u001b[0;31m             \u001b[0mf\u001b[0m\u001b[0;34m(\u001b[0m\u001b[0mself\u001b[0m\u001b[0;34m,\u001b[0m \u001b[0mobj\u001b[0m\u001b[0;34m)\u001b[0m \u001b[0;31m# Call unbound method with explicit self\u001b[0m\u001b[0;34m\u001b[0m\u001b[0;34m\u001b[0m\u001b[0m\n\u001b[0m\u001b[1;32m    505\u001b[0m             \u001b[0;32mreturn\u001b[0m\u001b[0;34m\u001b[0m\u001b[0;34m\u001b[0m\u001b[0m\n\u001b[1;32m    506\u001b[0m \u001b[0;34m\u001b[0m\u001b[0m\n",
      "\u001b[0;32m~/miniconda2/envs/zinv37/lib/python3.7/site-packages/dill/_dill.py\u001b[0m in \u001b[0;36msave_module_dict\u001b[0;34m(pickler, obj)\u001b[0m\n\u001b[1;32m    908\u001b[0m             \u001b[0;31m# we only care about session the first pass thru\u001b[0m\u001b[0;34m\u001b[0m\u001b[0;34m\u001b[0m\u001b[0;34m\u001b[0m\u001b[0m\n\u001b[1;32m    909\u001b[0m             \u001b[0mpickler\u001b[0m\u001b[0;34m.\u001b[0m\u001b[0m_session\u001b[0m \u001b[0;34m=\u001b[0m \u001b[0;32mFalse\u001b[0m\u001b[0;34m\u001b[0m\u001b[0;34m\u001b[0m\u001b[0m\n\u001b[0;32m--> 910\u001b[0;31m         \u001b[0mStockPickler\u001b[0m\u001b[0;34m.\u001b[0m\u001b[0msave_dict\u001b[0m\u001b[0;34m(\u001b[0m\u001b[0mpickler\u001b[0m\u001b[0;34m,\u001b[0m \u001b[0mobj\u001b[0m\u001b[0;34m)\u001b[0m\u001b[0;34m\u001b[0m\u001b[0;34m\u001b[0m\u001b[0m\n\u001b[0m\u001b[1;32m    911\u001b[0m         \u001b[0mlog\u001b[0m\u001b[0;34m.\u001b[0m\u001b[0minfo\u001b[0m\u001b[0;34m(\u001b[0m\u001b[0;34m\"# D2\"\u001b[0m\u001b[0;34m)\u001b[0m\u001b[0;34m\u001b[0m\u001b[0;34m\u001b[0m\u001b[0m\n\u001b[1;32m    912\u001b[0m     \u001b[0;32mreturn\u001b[0m\u001b[0;34m\u001b[0m\u001b[0;34m\u001b[0m\u001b[0m\n",
      "\u001b[0;32m~/miniconda2/envs/zinv37/lib/python3.7/pickle.py\u001b[0m in \u001b[0;36msave_dict\u001b[0;34m(self, obj)\u001b[0m\n\u001b[1;32m    854\u001b[0m \u001b[0;34m\u001b[0m\u001b[0m\n\u001b[1;32m    855\u001b[0m         \u001b[0mself\u001b[0m\u001b[0;34m.\u001b[0m\u001b[0mmemoize\u001b[0m\u001b[0;34m(\u001b[0m\u001b[0mobj\u001b[0m\u001b[0;34m)\u001b[0m\u001b[0;34m\u001b[0m\u001b[0;34m\u001b[0m\u001b[0m\n\u001b[0;32m--> 856\u001b[0;31m         \u001b[0mself\u001b[0m\u001b[0;34m.\u001b[0m\u001b[0m_batch_setitems\u001b[0m\u001b[0;34m(\u001b[0m\u001b[0mobj\u001b[0m\u001b[0;34m.\u001b[0m\u001b[0mitems\u001b[0m\u001b[0;34m(\u001b[0m\u001b[0;34m)\u001b[0m\u001b[0;34m)\u001b[0m\u001b[0;34m\u001b[0m\u001b[0;34m\u001b[0m\u001b[0m\n\u001b[0m\u001b[1;32m    857\u001b[0m \u001b[0;34m\u001b[0m\u001b[0m\n\u001b[1;32m    858\u001b[0m     \u001b[0mdispatch\u001b[0m\u001b[0;34m[\u001b[0m\u001b[0mdict\u001b[0m\u001b[0;34m]\u001b[0m \u001b[0;34m=\u001b[0m \u001b[0msave_dict\u001b[0m\u001b[0;34m\u001b[0m\u001b[0;34m\u001b[0m\u001b[0m\n",
      "\u001b[0;32m~/miniconda2/envs/zinv37/lib/python3.7/pickle.py\u001b[0m in \u001b[0;36m_batch_setitems\u001b[0;34m(self, items)\u001b[0m\n\u001b[1;32m    880\u001b[0m                 \u001b[0;32mfor\u001b[0m \u001b[0mk\u001b[0m\u001b[0;34m,\u001b[0m \u001b[0mv\u001b[0m \u001b[0;32min\u001b[0m \u001b[0mtmp\u001b[0m\u001b[0;34m:\u001b[0m\u001b[0;34m\u001b[0m\u001b[0;34m\u001b[0m\u001b[0m\n\u001b[1;32m    881\u001b[0m                     \u001b[0msave\u001b[0m\u001b[0;34m(\u001b[0m\u001b[0mk\u001b[0m\u001b[0;34m)\u001b[0m\u001b[0;34m\u001b[0m\u001b[0;34m\u001b[0m\u001b[0m\n\u001b[0;32m--> 882\u001b[0;31m                     \u001b[0msave\u001b[0m\u001b[0;34m(\u001b[0m\u001b[0mv\u001b[0m\u001b[0;34m)\u001b[0m\u001b[0;34m\u001b[0m\u001b[0;34m\u001b[0m\u001b[0m\n\u001b[0m\u001b[1;32m    883\u001b[0m                 \u001b[0mwrite\u001b[0m\u001b[0;34m(\u001b[0m\u001b[0mSETITEMS\u001b[0m\u001b[0;34m)\u001b[0m\u001b[0;34m\u001b[0m\u001b[0;34m\u001b[0m\u001b[0m\n\u001b[1;32m    884\u001b[0m             \u001b[0;32melif\u001b[0m \u001b[0mn\u001b[0m\u001b[0;34m:\u001b[0m\u001b[0;34m\u001b[0m\u001b[0;34m\u001b[0m\u001b[0m\n",
      "\u001b[0;32m~/miniconda2/envs/zinv37/lib/python3.7/pickle.py\u001b[0m in \u001b[0;36msave\u001b[0;34m(self, obj, save_persistent_id)\u001b[0m\n\u001b[1;32m    547\u001b[0m \u001b[0;34m\u001b[0m\u001b[0m\n\u001b[1;32m    548\u001b[0m         \u001b[0;31m# Save the reduce() output and finally memoize the object\u001b[0m\u001b[0;34m\u001b[0m\u001b[0;34m\u001b[0m\u001b[0;34m\u001b[0m\u001b[0m\n\u001b[0;32m--> 549\u001b[0;31m         \u001b[0mself\u001b[0m\u001b[0;34m.\u001b[0m\u001b[0msave_reduce\u001b[0m\u001b[0;34m(\u001b[0m\u001b[0mobj\u001b[0m\u001b[0;34m=\u001b[0m\u001b[0mobj\u001b[0m\u001b[0;34m,\u001b[0m \u001b[0;34m*\u001b[0m\u001b[0mrv\u001b[0m\u001b[0;34m)\u001b[0m\u001b[0;34m\u001b[0m\u001b[0;34m\u001b[0m\u001b[0m\n\u001b[0m\u001b[1;32m    550\u001b[0m \u001b[0;34m\u001b[0m\u001b[0m\n\u001b[1;32m    551\u001b[0m     \u001b[0;32mdef\u001b[0m \u001b[0mpersistent_id\u001b[0m\u001b[0;34m(\u001b[0m\u001b[0mself\u001b[0m\u001b[0;34m,\u001b[0m \u001b[0mobj\u001b[0m\u001b[0;34m)\u001b[0m\u001b[0;34m:\u001b[0m\u001b[0;34m\u001b[0m\u001b[0;34m\u001b[0m\u001b[0m\n",
      "\u001b[0;32m~/miniconda2/envs/zinv37/lib/python3.7/pickle.py\u001b[0m in \u001b[0;36msave_reduce\u001b[0;34m(self, func, args, state, listitems, dictitems, obj)\u001b[0m\n\u001b[1;32m    660\u001b[0m \u001b[0;34m\u001b[0m\u001b[0m\n\u001b[1;32m    661\u001b[0m         \u001b[0;32mif\u001b[0m \u001b[0mstate\u001b[0m \u001b[0;32mis\u001b[0m \u001b[0;32mnot\u001b[0m \u001b[0;32mNone\u001b[0m\u001b[0;34m:\u001b[0m\u001b[0;34m\u001b[0m\u001b[0;34m\u001b[0m\u001b[0m\n\u001b[0;32m--> 662\u001b[0;31m             \u001b[0msave\u001b[0m\u001b[0;34m(\u001b[0m\u001b[0mstate\u001b[0m\u001b[0;34m)\u001b[0m\u001b[0;34m\u001b[0m\u001b[0;34m\u001b[0m\u001b[0m\n\u001b[0m\u001b[1;32m    663\u001b[0m             \u001b[0mwrite\u001b[0m\u001b[0;34m(\u001b[0m\u001b[0mBUILD\u001b[0m\u001b[0;34m)\u001b[0m\u001b[0;34m\u001b[0m\u001b[0;34m\u001b[0m\u001b[0m\n\u001b[1;32m    664\u001b[0m \u001b[0;34m\u001b[0m\u001b[0m\n",
      "\u001b[0;32m~/miniconda2/envs/zinv37/lib/python3.7/pickle.py\u001b[0m in \u001b[0;36msave\u001b[0;34m(self, obj, save_persistent_id)\u001b[0m\n\u001b[1;32m    502\u001b[0m         \u001b[0mf\u001b[0m \u001b[0;34m=\u001b[0m \u001b[0mself\u001b[0m\u001b[0;34m.\u001b[0m\u001b[0mdispatch\u001b[0m\u001b[0;34m.\u001b[0m\u001b[0mget\u001b[0m\u001b[0;34m(\u001b[0m\u001b[0mt\u001b[0m\u001b[0;34m)\u001b[0m\u001b[0;34m\u001b[0m\u001b[0;34m\u001b[0m\u001b[0m\n\u001b[1;32m    503\u001b[0m         \u001b[0;32mif\u001b[0m \u001b[0mf\u001b[0m \u001b[0;32mis\u001b[0m \u001b[0;32mnot\u001b[0m \u001b[0;32mNone\u001b[0m\u001b[0;34m:\u001b[0m\u001b[0;34m\u001b[0m\u001b[0;34m\u001b[0m\u001b[0m\n\u001b[0;32m--> 504\u001b[0;31m             \u001b[0mf\u001b[0m\u001b[0;34m(\u001b[0m\u001b[0mself\u001b[0m\u001b[0;34m,\u001b[0m \u001b[0mobj\u001b[0m\u001b[0;34m)\u001b[0m \u001b[0;31m# Call unbound method with explicit self\u001b[0m\u001b[0;34m\u001b[0m\u001b[0;34m\u001b[0m\u001b[0m\n\u001b[0m\u001b[1;32m    505\u001b[0m             \u001b[0;32mreturn\u001b[0m\u001b[0;34m\u001b[0m\u001b[0;34m\u001b[0m\u001b[0m\n\u001b[1;32m    506\u001b[0m \u001b[0;34m\u001b[0m\u001b[0m\n",
      "\u001b[0;32m~/miniconda2/envs/zinv37/lib/python3.7/pickle.py\u001b[0m in \u001b[0;36msave_tuple\u001b[0;34m(self, obj)\u001b[0m\n\u001b[1;32m    784\u001b[0m         \u001b[0mwrite\u001b[0m\u001b[0;34m(\u001b[0m\u001b[0mMARK\u001b[0m\u001b[0;34m)\u001b[0m\u001b[0;34m\u001b[0m\u001b[0;34m\u001b[0m\u001b[0m\n\u001b[1;32m    785\u001b[0m         \u001b[0;32mfor\u001b[0m \u001b[0melement\u001b[0m \u001b[0;32min\u001b[0m \u001b[0mobj\u001b[0m\u001b[0;34m:\u001b[0m\u001b[0;34m\u001b[0m\u001b[0;34m\u001b[0m\u001b[0m\n\u001b[0;32m--> 786\u001b[0;31m             \u001b[0msave\u001b[0m\u001b[0;34m(\u001b[0m\u001b[0melement\u001b[0m\u001b[0;34m)\u001b[0m\u001b[0;34m\u001b[0m\u001b[0;34m\u001b[0m\u001b[0m\n\u001b[0m\u001b[1;32m    787\u001b[0m \u001b[0;34m\u001b[0m\u001b[0m\n\u001b[1;32m    788\u001b[0m         \u001b[0;32mif\u001b[0m \u001b[0mid\u001b[0m\u001b[0;34m(\u001b[0m\u001b[0mobj\u001b[0m\u001b[0;34m)\u001b[0m \u001b[0;32min\u001b[0m \u001b[0mmemo\u001b[0m\u001b[0;34m:\u001b[0m\u001b[0;34m\u001b[0m\u001b[0;34m\u001b[0m\u001b[0m\n",
      "\u001b[0;32m~/miniconda2/envs/zinv37/lib/python3.7/pickle.py\u001b[0m in \u001b[0;36msave\u001b[0;34m(self, obj, save_persistent_id)\u001b[0m\n\u001b[1;32m    502\u001b[0m         \u001b[0mf\u001b[0m \u001b[0;34m=\u001b[0m \u001b[0mself\u001b[0m\u001b[0;34m.\u001b[0m\u001b[0mdispatch\u001b[0m\u001b[0;34m.\u001b[0m\u001b[0mget\u001b[0m\u001b[0;34m(\u001b[0m\u001b[0mt\u001b[0m\u001b[0;34m)\u001b[0m\u001b[0;34m\u001b[0m\u001b[0;34m\u001b[0m\u001b[0m\n\u001b[1;32m    503\u001b[0m         \u001b[0;32mif\u001b[0m \u001b[0mf\u001b[0m \u001b[0;32mis\u001b[0m \u001b[0;32mnot\u001b[0m \u001b[0;32mNone\u001b[0m\u001b[0;34m:\u001b[0m\u001b[0;34m\u001b[0m\u001b[0;34m\u001b[0m\u001b[0m\n\u001b[0;32m--> 504\u001b[0;31m             \u001b[0mf\u001b[0m\u001b[0;34m(\u001b[0m\u001b[0mself\u001b[0m\u001b[0;34m,\u001b[0m \u001b[0mobj\u001b[0m\u001b[0;34m)\u001b[0m \u001b[0;31m# Call unbound method with explicit self\u001b[0m\u001b[0;34m\u001b[0m\u001b[0;34m\u001b[0m\u001b[0m\n\u001b[0m\u001b[1;32m    505\u001b[0m             \u001b[0;32mreturn\u001b[0m\u001b[0;34m\u001b[0m\u001b[0;34m\u001b[0m\u001b[0m\n\u001b[1;32m    506\u001b[0m \u001b[0;34m\u001b[0m\u001b[0m\n",
      "\u001b[0;32m~/miniconda2/envs/zinv37/lib/python3.7/pickle.py\u001b[0m in \u001b[0;36msave_list\u001b[0;34m(self, obj)\u001b[0m\n\u001b[1;32m    814\u001b[0m \u001b[0;34m\u001b[0m\u001b[0m\n\u001b[1;32m    815\u001b[0m         \u001b[0mself\u001b[0m\u001b[0;34m.\u001b[0m\u001b[0mmemoize\u001b[0m\u001b[0;34m(\u001b[0m\u001b[0mobj\u001b[0m\u001b[0;34m)\u001b[0m\u001b[0;34m\u001b[0m\u001b[0;34m\u001b[0m\u001b[0m\n\u001b[0;32m--> 816\u001b[0;31m         \u001b[0mself\u001b[0m\u001b[0;34m.\u001b[0m\u001b[0m_batch_appends\u001b[0m\u001b[0;34m(\u001b[0m\u001b[0mobj\u001b[0m\u001b[0;34m)\u001b[0m\u001b[0;34m\u001b[0m\u001b[0;34m\u001b[0m\u001b[0m\n\u001b[0m\u001b[1;32m    817\u001b[0m \u001b[0;34m\u001b[0m\u001b[0m\n\u001b[1;32m    818\u001b[0m     \u001b[0mdispatch\u001b[0m\u001b[0;34m[\u001b[0m\u001b[0mlist\u001b[0m\u001b[0;34m]\u001b[0m \u001b[0;34m=\u001b[0m \u001b[0msave_list\u001b[0m\u001b[0;34m\u001b[0m\u001b[0;34m\u001b[0m\u001b[0m\n",
      "\u001b[0;32m~/miniconda2/envs/zinv37/lib/python3.7/pickle.py\u001b[0m in \u001b[0;36m_batch_appends\u001b[0;34m(self, items)\u001b[0m\n\u001b[1;32m    841\u001b[0m                 \u001b[0mwrite\u001b[0m\u001b[0;34m(\u001b[0m\u001b[0mAPPENDS\u001b[0m\u001b[0;34m)\u001b[0m\u001b[0;34m\u001b[0m\u001b[0;34m\u001b[0m\u001b[0m\n\u001b[1;32m    842\u001b[0m             \u001b[0;32melif\u001b[0m \u001b[0mn\u001b[0m\u001b[0;34m:\u001b[0m\u001b[0;34m\u001b[0m\u001b[0;34m\u001b[0m\u001b[0m\n\u001b[0;32m--> 843\u001b[0;31m                 \u001b[0msave\u001b[0m\u001b[0;34m(\u001b[0m\u001b[0mtmp\u001b[0m\u001b[0;34m[\u001b[0m\u001b[0;36m0\u001b[0m\u001b[0;34m]\u001b[0m\u001b[0;34m)\u001b[0m\u001b[0;34m\u001b[0m\u001b[0;34m\u001b[0m\u001b[0m\n\u001b[0m\u001b[1;32m    844\u001b[0m                 \u001b[0mwrite\u001b[0m\u001b[0;34m(\u001b[0m\u001b[0mAPPEND\u001b[0m\u001b[0;34m)\u001b[0m\u001b[0;34m\u001b[0m\u001b[0;34m\u001b[0m\u001b[0m\n\u001b[1;32m    845\u001b[0m             \u001b[0;31m# else tmp is empty, and we're done\u001b[0m\u001b[0;34m\u001b[0m\u001b[0;34m\u001b[0m\u001b[0;34m\u001b[0m\u001b[0m\n",
      "\u001b[0;32m~/miniconda2/envs/zinv37/lib/python3.7/pickle.py\u001b[0m in \u001b[0;36msave\u001b[0;34m(self, obj, save_persistent_id)\u001b[0m\n\u001b[1;32m    547\u001b[0m \u001b[0;34m\u001b[0m\u001b[0m\n\u001b[1;32m    548\u001b[0m         \u001b[0;31m# Save the reduce() output and finally memoize the object\u001b[0m\u001b[0;34m\u001b[0m\u001b[0;34m\u001b[0m\u001b[0;34m\u001b[0m\u001b[0m\n\u001b[0;32m--> 549\u001b[0;31m         \u001b[0mself\u001b[0m\u001b[0;34m.\u001b[0m\u001b[0msave_reduce\u001b[0m\u001b[0;34m(\u001b[0m\u001b[0mobj\u001b[0m\u001b[0;34m=\u001b[0m\u001b[0mobj\u001b[0m\u001b[0;34m,\u001b[0m \u001b[0;34m*\u001b[0m\u001b[0mrv\u001b[0m\u001b[0;34m)\u001b[0m\u001b[0;34m\u001b[0m\u001b[0;34m\u001b[0m\u001b[0m\n\u001b[0m\u001b[1;32m    550\u001b[0m \u001b[0;34m\u001b[0m\u001b[0m\n\u001b[1;32m    551\u001b[0m     \u001b[0;32mdef\u001b[0m \u001b[0mpersistent_id\u001b[0m\u001b[0;34m(\u001b[0m\u001b[0mself\u001b[0m\u001b[0;34m,\u001b[0m \u001b[0mobj\u001b[0m\u001b[0;34m)\u001b[0m\u001b[0;34m:\u001b[0m\u001b[0;34m\u001b[0m\u001b[0;34m\u001b[0m\u001b[0m\n",
      "\u001b[0;32m~/miniconda2/envs/zinv37/lib/python3.7/pickle.py\u001b[0m in \u001b[0;36msave_reduce\u001b[0;34m(self, func, args, state, listitems, dictitems, obj)\u001b[0m\n\u001b[1;32m    660\u001b[0m \u001b[0;34m\u001b[0m\u001b[0m\n\u001b[1;32m    661\u001b[0m         \u001b[0;32mif\u001b[0m \u001b[0mstate\u001b[0m \u001b[0;32mis\u001b[0m \u001b[0;32mnot\u001b[0m \u001b[0;32mNone\u001b[0m\u001b[0;34m:\u001b[0m\u001b[0;34m\u001b[0m\u001b[0;34m\u001b[0m\u001b[0m\n\u001b[0;32m--> 662\u001b[0;31m             \u001b[0msave\u001b[0m\u001b[0;34m(\u001b[0m\u001b[0mstate\u001b[0m\u001b[0;34m)\u001b[0m\u001b[0;34m\u001b[0m\u001b[0;34m\u001b[0m\u001b[0m\n\u001b[0m\u001b[1;32m    663\u001b[0m             \u001b[0mwrite\u001b[0m\u001b[0;34m(\u001b[0m\u001b[0mBUILD\u001b[0m\u001b[0;34m)\u001b[0m\u001b[0;34m\u001b[0m\u001b[0;34m\u001b[0m\u001b[0m\n\u001b[1;32m    664\u001b[0m \u001b[0;34m\u001b[0m\u001b[0m\n",
      "\u001b[0;32m~/miniconda2/envs/zinv37/lib/python3.7/pickle.py\u001b[0m in \u001b[0;36msave\u001b[0;34m(self, obj, save_persistent_id)\u001b[0m\n\u001b[1;32m    502\u001b[0m         \u001b[0mf\u001b[0m \u001b[0;34m=\u001b[0m \u001b[0mself\u001b[0m\u001b[0;34m.\u001b[0m\u001b[0mdispatch\u001b[0m\u001b[0;34m.\u001b[0m\u001b[0mget\u001b[0m\u001b[0;34m(\u001b[0m\u001b[0mt\u001b[0m\u001b[0;34m)\u001b[0m\u001b[0;34m\u001b[0m\u001b[0;34m\u001b[0m\u001b[0m\n\u001b[1;32m    503\u001b[0m         \u001b[0;32mif\u001b[0m \u001b[0mf\u001b[0m \u001b[0;32mis\u001b[0m \u001b[0;32mnot\u001b[0m \u001b[0;32mNone\u001b[0m\u001b[0;34m:\u001b[0m\u001b[0;34m\u001b[0m\u001b[0;34m\u001b[0m\u001b[0m\n\u001b[0;32m--> 504\u001b[0;31m             \u001b[0mf\u001b[0m\u001b[0;34m(\u001b[0m\u001b[0mself\u001b[0m\u001b[0;34m,\u001b[0m \u001b[0mobj\u001b[0m\u001b[0;34m)\u001b[0m \u001b[0;31m# Call unbound method with explicit self\u001b[0m\u001b[0;34m\u001b[0m\u001b[0;34m\u001b[0m\u001b[0m\n\u001b[0m\u001b[1;32m    505\u001b[0m             \u001b[0;32mreturn\u001b[0m\u001b[0;34m\u001b[0m\u001b[0;34m\u001b[0m\u001b[0m\n\u001b[1;32m    506\u001b[0m \u001b[0;34m\u001b[0m\u001b[0m\n",
      "\u001b[0;32m~/miniconda2/envs/zinv37/lib/python3.7/pickle.py\u001b[0m in \u001b[0;36msave_tuple\u001b[0;34m(self, obj)\u001b[0m\n\u001b[1;32m    784\u001b[0m         \u001b[0mwrite\u001b[0m\u001b[0;34m(\u001b[0m\u001b[0mMARK\u001b[0m\u001b[0;34m)\u001b[0m\u001b[0;34m\u001b[0m\u001b[0;34m\u001b[0m\u001b[0m\n\u001b[1;32m    785\u001b[0m         \u001b[0;32mfor\u001b[0m \u001b[0melement\u001b[0m \u001b[0;32min\u001b[0m \u001b[0mobj\u001b[0m\u001b[0;34m:\u001b[0m\u001b[0;34m\u001b[0m\u001b[0;34m\u001b[0m\u001b[0m\n\u001b[0;32m--> 786\u001b[0;31m             \u001b[0msave\u001b[0m\u001b[0;34m(\u001b[0m\u001b[0melement\u001b[0m\u001b[0;34m)\u001b[0m\u001b[0;34m\u001b[0m\u001b[0;34m\u001b[0m\u001b[0m\n\u001b[0m\u001b[1;32m    787\u001b[0m \u001b[0;34m\u001b[0m\u001b[0m\n\u001b[1;32m    788\u001b[0m         \u001b[0;32mif\u001b[0m \u001b[0mid\u001b[0m\u001b[0;34m(\u001b[0m\u001b[0mobj\u001b[0m\u001b[0;34m)\u001b[0m \u001b[0;32min\u001b[0m \u001b[0mmemo\u001b[0m\u001b[0;34m:\u001b[0m\u001b[0;34m\u001b[0m\u001b[0;34m\u001b[0m\u001b[0m\n",
      "\u001b[0;32m~/miniconda2/envs/zinv37/lib/python3.7/pickle.py\u001b[0m in \u001b[0;36msave\u001b[0;34m(self, obj, save_persistent_id)\u001b[0m\n\u001b[1;32m    502\u001b[0m         \u001b[0mf\u001b[0m \u001b[0;34m=\u001b[0m \u001b[0mself\u001b[0m\u001b[0;34m.\u001b[0m\u001b[0mdispatch\u001b[0m\u001b[0;34m.\u001b[0m\u001b[0mget\u001b[0m\u001b[0;34m(\u001b[0m\u001b[0mt\u001b[0m\u001b[0;34m)\u001b[0m\u001b[0;34m\u001b[0m\u001b[0;34m\u001b[0m\u001b[0m\n\u001b[1;32m    503\u001b[0m         \u001b[0;32mif\u001b[0m \u001b[0mf\u001b[0m \u001b[0;32mis\u001b[0m \u001b[0;32mnot\u001b[0m \u001b[0;32mNone\u001b[0m\u001b[0;34m:\u001b[0m\u001b[0;34m\u001b[0m\u001b[0;34m\u001b[0m\u001b[0m\n\u001b[0;32m--> 504\u001b[0;31m             \u001b[0mf\u001b[0m\u001b[0;34m(\u001b[0m\u001b[0mself\u001b[0m\u001b[0;34m,\u001b[0m \u001b[0mobj\u001b[0m\u001b[0;34m)\u001b[0m \u001b[0;31m# Call unbound method with explicit self\u001b[0m\u001b[0;34m\u001b[0m\u001b[0;34m\u001b[0m\u001b[0m\n\u001b[0m\u001b[1;32m    505\u001b[0m             \u001b[0;32mreturn\u001b[0m\u001b[0;34m\u001b[0m\u001b[0;34m\u001b[0m\u001b[0m\n\u001b[1;32m    506\u001b[0m \u001b[0;34m\u001b[0m\u001b[0m\n",
      "\u001b[0;32m~/miniconda2/envs/zinv37/lib/python3.7/pickle.py\u001b[0m in \u001b[0;36msave_bytes\u001b[0;34m(self, obj)\u001b[0m\n\u001b[1;32m    730\u001b[0m             \u001b[0mself\u001b[0m\u001b[0;34m.\u001b[0m\u001b[0m_write_large_bytes\u001b[0m\u001b[0;34m(\u001b[0m\u001b[0mBINBYTES8\u001b[0m \u001b[0;34m+\u001b[0m \u001b[0mpack\u001b[0m\u001b[0;34m(\u001b[0m\u001b[0;34m\"<Q\"\u001b[0m\u001b[0;34m,\u001b[0m \u001b[0mn\u001b[0m\u001b[0;34m)\u001b[0m\u001b[0;34m,\u001b[0m \u001b[0mobj\u001b[0m\u001b[0;34m)\u001b[0m\u001b[0;34m\u001b[0m\u001b[0;34m\u001b[0m\u001b[0m\n\u001b[1;32m    731\u001b[0m         \u001b[0;32melif\u001b[0m \u001b[0mn\u001b[0m \u001b[0;34m>=\u001b[0m \u001b[0mself\u001b[0m\u001b[0;34m.\u001b[0m\u001b[0mframer\u001b[0m\u001b[0;34m.\u001b[0m\u001b[0m_FRAME_SIZE_TARGET\u001b[0m\u001b[0;34m:\u001b[0m\u001b[0;34m\u001b[0m\u001b[0;34m\u001b[0m\u001b[0m\n\u001b[0;32m--> 732\u001b[0;31m             \u001b[0mself\u001b[0m\u001b[0;34m.\u001b[0m\u001b[0m_write_large_bytes\u001b[0m\u001b[0;34m(\u001b[0m\u001b[0mBINBYTES\u001b[0m \u001b[0;34m+\u001b[0m \u001b[0mpack\u001b[0m\u001b[0;34m(\u001b[0m\u001b[0;34m\"<I\"\u001b[0m\u001b[0;34m,\u001b[0m \u001b[0mn\u001b[0m\u001b[0;34m)\u001b[0m\u001b[0;34m,\u001b[0m \u001b[0mobj\u001b[0m\u001b[0;34m)\u001b[0m\u001b[0;34m\u001b[0m\u001b[0;34m\u001b[0m\u001b[0m\n\u001b[0m\u001b[1;32m    733\u001b[0m         \u001b[0;32melse\u001b[0m\u001b[0;34m:\u001b[0m\u001b[0;34m\u001b[0m\u001b[0;34m\u001b[0m\u001b[0m\n\u001b[1;32m    734\u001b[0m             \u001b[0mself\u001b[0m\u001b[0;34m.\u001b[0m\u001b[0mwrite\u001b[0m\u001b[0;34m(\u001b[0m\u001b[0mBINBYTES\u001b[0m \u001b[0;34m+\u001b[0m \u001b[0mpack\u001b[0m\u001b[0;34m(\u001b[0m\u001b[0;34m\"<I\"\u001b[0m\u001b[0;34m,\u001b[0m \u001b[0mn\u001b[0m\u001b[0;34m)\u001b[0m \u001b[0;34m+\u001b[0m \u001b[0mobj\u001b[0m\u001b[0;34m)\u001b[0m\u001b[0;34m\u001b[0m\u001b[0;34m\u001b[0m\u001b[0m\n",
      "\u001b[0;32m~/miniconda2/envs/zinv37/lib/python3.7/pickle.py\u001b[0m in \u001b[0;36mwrite_large_bytes\u001b[0;34m(self, header, payload)\u001b[0m\n\u001b[1;32m    242\u001b[0m         \u001b[0;31m# it possible to optimize file.read calls in the loader.\u001b[0m\u001b[0;34m\u001b[0m\u001b[0;34m\u001b[0m\u001b[0;34m\u001b[0m\u001b[0m\n\u001b[1;32m    243\u001b[0m         \u001b[0mwrite\u001b[0m\u001b[0;34m(\u001b[0m\u001b[0mheader\u001b[0m\u001b[0;34m)\u001b[0m\u001b[0;34m\u001b[0m\u001b[0;34m\u001b[0m\u001b[0m\n\u001b[0;32m--> 244\u001b[0;31m         \u001b[0mwrite\u001b[0m\u001b[0;34m(\u001b[0m\u001b[0mpayload\u001b[0m\u001b[0;34m)\u001b[0m\u001b[0;34m\u001b[0m\u001b[0;34m\u001b[0m\u001b[0m\n\u001b[0m\u001b[1;32m    245\u001b[0m \u001b[0;34m\u001b[0m\u001b[0m\n\u001b[1;32m    246\u001b[0m \u001b[0;34m\u001b[0m\u001b[0m\n",
      "\u001b[0;32m~/miniconda2/envs/zinv37/lib/python3.7/site-packages/lz4/frame/__init__.py\u001b[0m in \u001b[0;36mwrite\u001b[0;34m(self, data)\u001b[0m\n\u001b[1;32m    692\u001b[0m         \"\"\"\n\u001b[1;32m    693\u001b[0m         \u001b[0mself\u001b[0m\u001b[0;34m.\u001b[0m\u001b[0m_check_can_write\u001b[0m\u001b[0;34m(\u001b[0m\u001b[0;34m)\u001b[0m\u001b[0;34m\u001b[0m\u001b[0;34m\u001b[0m\u001b[0m\n\u001b[0;32m--> 694\u001b[0;31m         \u001b[0mcompressed\u001b[0m \u001b[0;34m=\u001b[0m \u001b[0mself\u001b[0m\u001b[0;34m.\u001b[0m\u001b[0m_compressor\u001b[0m\u001b[0;34m.\u001b[0m\u001b[0mcompress\u001b[0m\u001b[0;34m(\u001b[0m\u001b[0mdata\u001b[0m\u001b[0;34m)\u001b[0m\u001b[0;34m\u001b[0m\u001b[0;34m\u001b[0m\u001b[0m\n\u001b[0m\u001b[1;32m    695\u001b[0m         \u001b[0mself\u001b[0m\u001b[0;34m.\u001b[0m\u001b[0m_fp\u001b[0m\u001b[0;34m.\u001b[0m\u001b[0mwrite\u001b[0m\u001b[0;34m(\u001b[0m\u001b[0mcompressed\u001b[0m\u001b[0;34m)\u001b[0m\u001b[0;34m\u001b[0m\u001b[0;34m\u001b[0m\u001b[0m\n\u001b[1;32m    696\u001b[0m         \u001b[0mself\u001b[0m\u001b[0;34m.\u001b[0m\u001b[0m_pos\u001b[0m \u001b[0;34m+=\u001b[0m \u001b[0mlen\u001b[0m\u001b[0;34m(\u001b[0m\u001b[0mdata\u001b[0m\u001b[0;34m)\u001b[0m\u001b[0;34m\u001b[0m\u001b[0;34m\u001b[0m\u001b[0m\n",
      "\u001b[0;32m~/miniconda2/envs/zinv37/lib/python3.7/site-packages/lz4/frame/__init__.py\u001b[0m in \u001b[0;36mcompress\u001b[0;34m(self, data)\u001b[0m\n\u001b[1;32m    258\u001b[0m         result = compress_chunk(\n\u001b[1;32m    259\u001b[0m             \u001b[0mself\u001b[0m\u001b[0;34m.\u001b[0m\u001b[0m_context\u001b[0m\u001b[0;34m,\u001b[0m \u001b[0mdata\u001b[0m\u001b[0;34m,\u001b[0m\u001b[0;34m\u001b[0m\u001b[0;34m\u001b[0m\u001b[0m\n\u001b[0;32m--> 260\u001b[0;31m             \u001b[0mreturn_bytearray\u001b[0m\u001b[0;34m=\u001b[0m\u001b[0mself\u001b[0m\u001b[0;34m.\u001b[0m\u001b[0mreturn_bytearray\u001b[0m\u001b[0;34m\u001b[0m\u001b[0;34m\u001b[0m\u001b[0m\n\u001b[0m\u001b[1;32m    261\u001b[0m         )\n\u001b[1;32m    262\u001b[0m \u001b[0;34m\u001b[0m\u001b[0m\n",
      "\u001b[0;31mKeyboardInterrupt\u001b[0m: "
     ]
    }
   ],
   "source": [
    "results = dftools.fitting.run_profile_likelihood_nd(\n",
    "    (\"rZJetsToLL\", \"rZJetsToNuNu\"),\n",
    "    (np.linspace(0.8, 1.2, 51), np.linspace(0.8, 1.2, 51)),\n",
    "    nll_args=(df_data, df_mc, config),\n",
    "    nll_kwargs=dict(same_bin_widths=True),\n",
    "    migrad_kwargs=dict(ncall=100_000),\n",
    "    pysge_function=\"sge_submit\",\n",
    "    pysge_args=(\"zfit\", \"_ccsp_temp\"),\n",
    "    pysge_kwargs=dict(options=\"-q hep.q -l h_vmem=12G\", dill_kw={\"recurse\": False}),\n",
    "    params_guess=dict(minimizer.values),\n",
    ")"
   ]
  },
  {
   "cell_type": "code",
   "execution_count": 143,
   "metadata": {},
   "outputs": [
    {
     "data": {
      "image/png": "[encoded data removed]",
      "text/plain": [
       "<Figure size 600x450 with 2 Axes>"
      ]
     },
     "metadata": {
      "needs_background": "light"
     },
     "output_type": "display_data"
    }
   ],
   "source": [
    "import matplotlib as mpl\n",
    "import scipy.ndimage\n",
    "\n",
    "fig, ax = plt.subplots(\n",
    "    figsize=(4, 3), dpi=150,\n",
    ")\n",
    "\n",
    "xbins = results[\"pv0\"].unique()\n",
    "ybins = results[\"pv1\"].unique()\n",
    "\n",
    "z = results.set_index([\"pv0\", \"pv1\"])[\"dnll\"].unstack().values.T\n",
    "pos = ax.imshow(\n",
    "    z, origin='lower', interpolation='bicubic',\n",
    "    extent=[xbins[0], xbins[-1], ybins[0], ybins[-1]],\n",
    "    aspect='auto', cmap=\"Blues_r\",\n",
    "    vmin=0., vmax=25.,\n",
    ")\n",
    "cbar = fig.colorbar(pos, ax=ax)\n",
    "cbar.set_label(r'$-2\\Delta\\log L$')\n",
    "\n",
    "X, Y = np.meshgrid(xbins, ybins)\n",
    "ax.contour(\n",
    "    scipy.ndimage.zoom(X, 4),\n",
    "    scipy.ndimage.zoom(Y, 4),\n",
    "    scipy.ndimage.zoom(z, 4),\n",
    "    levels=[scipy.stats.chi2.ppf(0.68, df=2)],\n",
    "    colors=['black'],\n",
    ")\n",
    "ax.contour(\n",
    "    scipy.ndimage.zoom(X, 4),\n",
    "    scipy.ndimage.zoom(Y, 4),\n",
    "    scipy.ndimage.zoom(z, 4),\n",
    "    levels=[scipy.stats.chi2.ppf(0.95, df=2)],\n",
    "    colors=['black'], linestyles='dashed',\n",
    ")\n",
    "ax.plot(\n",
    "    1, 1, '*', color='#e31a1c',\n",
    "    ms=6, label=\"SM\",\n",
    ")\n",
    "bf = (\n",
    "    results.loc[results[\"dnll\"]==results[\"dnll\"].min(), \"pv0\"],\n",
    "    results.loc[results[\"dnll\"]==results[\"dnll\"].min(), \"pv1\"],\n",
    ")\n",
    "ax.plot(\n",
    "    *bf, 'P', color='black',\n",
    "    ms=6, label=\"Best fit\",\n",
    ")\n",
    "handles, labels = ax.get_legend_handles_labels()\n",
    "handles = handles[::-1] + [\n",
    "    mpl.lines.Line2D([0], [0], color='black', lw=1),\n",
    "    mpl.lines.Line2D([0], [0], color='black', lw=1, ls='--'),\n",
    "]\n",
    "labels = labels[::-1] + [r'$68\\%$ CI', r'$95\\%$ CI']\n",
    "ax.legend(\n",
    "    handles, labels,\n",
    "    loc=4, labelspacing=0.1, borderpad=0.2,\n",
    "    fancybox=True, edgecolor='#d9d9d9',\n",
    "    framealpha=0., handlelength=1.,\n",
    ")\n",
    "dftools.draw.cms_label(ax, \"\")\n",
    "\n",
    "ax.set_xlabel(r'$r_{\\ell\\ell}$')\n",
    "ax.set_ylabel(r'$r_{\\mathrm{inv}}$')\n",
    "fig.savefig(\"plots/scan-2d.pdf\")\n",
    "pass"
   ]
  },
  {
   "cell_type": "code",
   "execution_count": 109,
   "metadata": {},
   "outputs": [
    {
     "data": {
      "text/html": [
       "<div>\n",
       "<style scoped>\n",
       "    .dataframe tbody tr th:only-of-type {\n",
       "        vertical-align: middle;\n",
       "    }\n",
       "\n",
       "    .dataframe tbody tr th {\n",
       "        vertical-align: top;\n",
       "    }\n",
       "\n",
       "    .dataframe thead th {\n",
       "        text-align: right;\n",
       "    }\n",
       "</style>\n",
       "<table border=\"1\" class=\"dataframe\">\n",
       "  <thead>\n",
       "    <tr style=\"text-align: right;\">\n",
       "      <th></th>\n",
       "      <th>p0</th>\n",
       "      <th>pbf0</th>\n",
       "      <th>pv0</th>\n",
       "      <th>p1</th>\n",
       "      <th>pbf1</th>\n",
       "      <th>pv1</th>\n",
       "      <th>dnll</th>\n",
       "    </tr>\n",
       "  </thead>\n",
       "  <tbody>\n",
       "    <tr>\n",
       "      <th>265</th>\n",
       "      <td>rZJetsToLL</td>\n",
       "      <td>1.03794</td>\n",
       "      <td>1.04</td>\n",
       "      <td>rZJetsToNuNu</td>\n",
       "      <td>1.059711</td>\n",
       "      <td>1.06</td>\n",
       "      <td>0.003545</td>\n",
       "    </tr>\n",
       "  </tbody>\n",
       "</table>\n",
       "</div>"
      ],
      "text/plain": [
       "             p0     pbf0   pv0            p1      pbf1   pv1      dnll\n",
       "265  rZJetsToLL  1.03794  1.04  rZJetsToNuNu  1.059711  1.06  0.003545"
      ]
     },
     "execution_count": 109,
     "metadata": {},
     "output_type": "execute_result"
    }
   ],
   "source": []
  },
  {
   "cell_type": "code",
   "execution_count": null,
   "metadata": {},
   "outputs": [],
   "source": []
  },
  {
   "cell_type": "code",
   "execution_count": null,
   "metadata": {},
   "outputs": [],
   "source": []
  }
 ],
 "metadata": {
  "kernelspec": {
   "display_name": "Python 3",
   "language": "python",
   "name": "python3"
  },
  "language_info": {
   "codemirror_mode": {
    "name": "ipython",
    "version": 3
   },
   "file_extension": ".py",
   "mimetype": "text/x-python",
   "name": "python",
   "nbconvert_exporter": "python",
   "pygments_lexer": "ipython3",
   "version": "3.7.3"
  },
  "widgets": {
   "application/vnd.jupyter.widget-state+json": {
    "state": {
     "0ff003b955b04bc99b24936ee6291e00": {
      "model_module": "@jupyter-widgets/controls",
      "model_module_version": "1.5.0",
      "model_name": "HTMLModel",
      "state": {
       "layout": "IPY_MODEL_bb6c6a8f7fec4ea1b518d3082fa94023",
       "style": "IPY_MODEL_1dff8379bf4645c9bd67f30d6839dc26",
       "value": "100% 441/441 [26:08&lt;00:00,  3.56s/it]"
      }
     },
     "1425fe6af3824c39a32b22d2b7b26d0c": {
      "model_module": "@jupyter-widgets/controls",
      "model_module_version": "1.5.0",
      "model_name": "ProgressStyleModel",
      "state": {
       "description_width": ""
      }
     },
     "15fe3d3614bc42b18f2899fa439e3955": {
      "model_module": "@jupyter-widgets/base",
      "model_module_version": "1.2.0",
      "model_name": "LayoutModel",
      "state": {}
     },
     "1b154013c3be42289d6888e4cbf95660": {
      "model_module": "@jupyter-widgets/controls",
      "model_module_version": "1.5.0",
      "model_name": "HTMLModel",
      "state": {
       "layout": "IPY_MODEL_d26bf5028d9e48569f4a733affc563c2",
       "style": "IPY_MODEL_4b85a9b3997f427384024d2ee64a5c3d",
       "value": " 21% 557/2601 [00:50&lt;01:49, 18.71it/s]"
      }
     },
     "1dff8379bf4645c9bd67f30d6839dc26": {
      "model_module": "@jupyter-widgets/controls",
      "model_module_version": "1.5.0",
      "model_name": "DescriptionStyleModel",
      "state": {
       "description_width": ""
      }
     },
     "27e6d89a03af4de48b5fe04f3521a2ba": {
      "model_module": "@jupyter-widgets/controls",
      "model_module_version": "1.5.0",
      "model_name": "ProgressStyleModel",
      "state": {
       "description_width": ""
      }
     },
     "28f43452560b4c90a89884fdd6a9993d": {
      "model_module": "@jupyter-widgets/controls",
      "model_module_version": "1.5.0",
      "model_name": "DescriptionStyleModel",
      "state": {
       "description_width": ""
      }
     },
     "2bbe90d483a74d3ea17eb3d5f006713c": {
      "model_module": "@jupyter-widgets/controls",
      "model_module_version": "1.5.0",
      "model_name": "IntProgressModel",
      "state": {
       "bar_style": "danger",
       "layout": "IPY_MODEL_33816a657a12489f8ebf04ceb1220ea8",
       "max": 2601,
       "style": "IPY_MODEL_27e6d89a03af4de48b5fe04f3521a2ba",
       "value": 557
      }
     },
     "2c5b65b51621406380908697f83c3199": {
      "model_module": "@jupyter-widgets/controls",
      "model_module_version": "1.5.0",
      "model_name": "DescriptionStyleModel",
      "state": {
       "description_width": ""
      }
     },
     "33816a657a12489f8ebf04ceb1220ea8": {
      "model_module": "@jupyter-widgets/base",
      "model_module_version": "1.2.0",
      "model_name": "LayoutModel",
      "state": {}
     },
     "3ed54f9da8d8496492e3ba5537060ce1": {
      "model_module": "@jupyter-widgets/controls",
      "model_module_version": "1.5.0",
      "model_name": "HTMLModel",
      "state": {
       "layout": "IPY_MODEL_c488df7e4a9744b186edb2976b057694",
       "style": "IPY_MODEL_28f43452560b4c90a89884fdd6a9993d",
       "value": "  0% 0/441 [26:03&lt;?, ?it/s]"
      }
     },
     "42c5274a0c01442d946479dbf2f15e2f": {
      "model_module": "@jupyter-widgets/controls",
      "model_module_version": "1.5.0",
      "model_name": "HBoxModel",
      "state": {
       "children": [
        "IPY_MODEL_a0d70addee9f433a9339f13915354039",
        "IPY_MODEL_728183aefa0046fab98e2b05aab8be10"
       ],
       "layout": "IPY_MODEL_84d095f9708d482ea54f3509c95caced"
      }
     },
     "44a11f5758f34c9a9e3546ed3044d434": {
      "model_module": "@jupyter-widgets/base",
      "model_module_version": "1.2.0",
      "model_name": "LayoutModel",
      "state": {}
     },
     "496a380e50224777895ec2811a81cfad": {
      "model_module": "@jupyter-widgets/base",
      "model_module_version": "1.2.0",
      "model_name": "LayoutModel",
      "state": {}
     },
     "4b85a9b3997f427384024d2ee64a5c3d": {
      "model_module": "@jupyter-widgets/controls",
      "model_module_version": "1.5.0",
      "model_name": "DescriptionStyleModel",
      "state": {
       "description_width": ""
      }
     },
     "4d4093c6f7ee4df293b4cb34f0b64fbf": {
      "model_module": "@jupyter-widgets/controls",
      "model_module_version": "1.5.0",
      "model_name": "IntProgressModel",
      "state": {
       "bar_style": "success",
       "description": "Finished",
       "layout": "IPY_MODEL_73673da9b28842b5bb402179a8bb9260",
       "max": 121,
       "style": "IPY_MODEL_51cb7aff5c7743a7a0f5172daa85b177",
       "value": 121
      }
     },
     "51cb7aff5c7743a7a0f5172daa85b177": {
      "model_module": "@jupyter-widgets/controls",
      "model_module_version": "1.5.0",
      "model_name": "ProgressStyleModel",
      "state": {
       "description_width": "initial"
      }
     },
     "5762ebbf155c446592d9731778a4c139": {
      "model_module": "@jupyter-widgets/controls",
      "model_module_version": "1.5.0",
      "model_name": "HTMLModel",
      "state": {
       "layout": "IPY_MODEL_9ade72e356444684b50da01187bc0a51",
       "style": "IPY_MODEL_f532dd54398845c1bf4975c977253472",
       "value": "100% 441/441 [00:31&lt;00:00, 15.08it/s]"
      }
     },
     "6026ec730905405cbe52f8f77bb821b8": {
      "model_module": "@jupyter-widgets/controls",
      "model_module_version": "1.5.0",
      "model_name": "HTMLModel",
      "state": {
       "layout": "IPY_MODEL_9e9dffc1c99e47bf90f2af682586d967",
       "style": "IPY_MODEL_d520d4a06bfb43dc88cb23fd793ea2ac",
       "value": " 19% 498/2601 [00:49&lt;02:11, 15.94it/s]"
      }
     },
     "622e0e24aa8b4ece8572ac94d1f00c79": {
      "model_module": "@jupyter-widgets/base",
      "model_module_version": "1.2.0",
      "model_name": "LayoutModel",
      "state": {}
     },
     "6acaa883665e4390ad68a4d59d02793e": {
      "model_module": "@jupyter-widgets/base",
      "model_module_version": "1.2.0",
      "model_name": "LayoutModel",
      "state": {}
     },
     "6e91578fc1504c3fa70c1706b3034fc8": {
      "model_module": "@jupyter-widgets/controls",
      "model_module_version": "1.5.0",
      "model_name": "HTMLModel",
      "state": {
       "layout": "IPY_MODEL_9cca3ee014dd4408a8fa289c5ebf2364",
       "style": "IPY_MODEL_2c5b65b51621406380908697f83c3199",
       "value": "  0% 0/121 [14:22&lt;?, ?it/s]"
      }
     },
     "728183aefa0046fab98e2b05aab8be10": {
      "model_module": "@jupyter-widgets/controls",
      "model_module_version": "1.5.0",
      "model_name": "HTMLModel",
      "state": {
       "layout": "IPY_MODEL_496a380e50224777895ec2811a81cfad",
       "style": "IPY_MODEL_c808ea4940474873bed3f318b58edc49",
       "value": "100% 121/121 [00:06&lt;00:00, 19.24it/s]"
      }
     },
     "73673da9b28842b5bb402179a8bb9260": {
      "model_module": "@jupyter-widgets/base",
      "model_module_version": "1.2.0",
      "model_name": "LayoutModel",
      "state": {}
     },
     "738d1b8ca8034f2585801bc38aabb8fa": {
      "model_module": "@jupyter-widgets/base",
      "model_module_version": "1.2.0",
      "model_name": "LayoutModel",
      "state": {}
     },
     "7a7ef7e70f4c42a58d580f4487926bf5": {
      "model_module": "@jupyter-widgets/base",
      "model_module_version": "1.2.0",
      "model_name": "LayoutModel",
      "state": {}
     },
     "84d095f9708d482ea54f3509c95caced": {
      "model_module": "@jupyter-widgets/base",
      "model_module_version": "1.2.0",
      "model_name": "LayoutModel",
      "state": {}
     },
     "91f252ed3cf74b4787e9968f3269b78d": {
      "model_module": "@jupyter-widgets/controls",
      "model_module_version": "1.5.0",
      "model_name": "HBoxModel",
      "state": {
       "children": [
        "IPY_MODEL_c1ff052797c948858aa0cc53bfa18f71",
        "IPY_MODEL_3ed54f9da8d8496492e3ba5537060ce1"
       ],
       "layout": "IPY_MODEL_94fa0369479d4ef487019d0e2e262ff4"
      }
     },
     "91feaaad121c4713aaac7ad2ef1a8360": {
      "model_module": "@jupyter-widgets/controls",
      "model_module_version": "1.5.0",
      "model_name": "ProgressStyleModel",
      "state": {
       "description_width": "initial"
      }
     },
     "92e5074a39c641659851aab0690690dd": {
      "model_module": "@jupyter-widgets/base",
      "model_module_version": "1.2.0",
      "model_name": "LayoutModel",
      "state": {}
     },
     "94795355d26d4401a6f0e1c338caab39": {
      "model_module": "@jupyter-widgets/base",
      "model_module_version": "1.2.0",
      "model_name": "LayoutModel",
      "state": {}
     },
     "94fa0369479d4ef487019d0e2e262ff4": {
      "model_module": "@jupyter-widgets/base",
      "model_module_version": "1.2.0",
      "model_name": "LayoutModel",
      "state": {}
     },
     "9a96b0baaf594edbaed941c52e3329cd": {
      "model_module": "@jupyter-widgets/controls",
      "model_module_version": "1.5.0",
      "model_name": "IntProgressModel",
      "state": {
       "bar_style": "danger",
       "layout": "IPY_MODEL_15fe3d3614bc42b18f2899fa439e3955",
       "max": 2601,
       "style": "IPY_MODEL_a743009311174f1abc92dc37708730c3",
       "value": 498
      }
     },
     "9ade72e356444684b50da01187bc0a51": {
      "model_module": "@jupyter-widgets/base",
      "model_module_version": "1.2.0",
      "model_name": "LayoutModel",
      "state": {}
     },
     "9cca3ee014dd4408a8fa289c5ebf2364": {
      "model_module": "@jupyter-widgets/base",
      "model_module_version": "1.2.0",
      "model_name": "LayoutModel",
      "state": {}
     },
     "9e9dffc1c99e47bf90f2af682586d967": {
      "model_module": "@jupyter-widgets/base",
      "model_module_version": "1.2.0",
      "model_name": "LayoutModel",
      "state": {}
     },
     "a0d70addee9f433a9339f13915354039": {
      "model_module": "@jupyter-widgets/controls",
      "model_module_version": "1.5.0",
      "model_name": "IntProgressModel",
      "state": {
       "bar_style": "success",
       "layout": "IPY_MODEL_44a11f5758f34c9a9e3546ed3044d434",
       "max": 121,
       "style": "IPY_MODEL_1425fe6af3824c39a32b22d2b7b26d0c",
       "value": 121
      }
     },
     "a3b0f940f49a48828cc6a12dfe71f1ff": {
      "model_module": "@jupyter-widgets/controls",
      "model_module_version": "1.5.0",
      "model_name": "HBoxModel",
      "state": {
       "children": [
        "IPY_MODEL_f25dc18cd3f740bd9b6ec901d77905d9",
        "IPY_MODEL_5762ebbf155c446592d9731778a4c139"
       ],
       "layout": "IPY_MODEL_738d1b8ca8034f2585801bc38aabb8fa"
      }
     },
     "a47ffc6b27284471835ea495cfad4957": {
      "model_module": "@jupyter-widgets/base",
      "model_module_version": "1.2.0",
      "model_name": "LayoutModel",
      "state": {}
     },
     "a743009311174f1abc92dc37708730c3": {
      "model_module": "@jupyter-widgets/controls",
      "model_module_version": "1.5.0",
      "model_name": "ProgressStyleModel",
      "state": {
       "description_width": ""
      }
     },
     "aa35279da3614d1a997ad6dccf09fcad": {
      "model_module": "@jupyter-widgets/base",
      "model_module_version": "1.2.0",
      "model_name": "LayoutModel",
      "state": {}
     },
     "aac8374b414d45af9d71a27e9819ae7b": {
      "model_module": "@jupyter-widgets/controls",
      "model_module_version": "1.5.0",
      "model_name": "ProgressStyleModel",
      "state": {
       "description_width": ""
      }
     },
     "aaeaf37ded24494ea29c48fe44d21478": {
      "model_module": "@jupyter-widgets/controls",
      "model_module_version": "1.5.0",
      "model_name": "HBoxModel",
      "state": {
       "children": [
        "IPY_MODEL_2bbe90d483a74d3ea17eb3d5f006713c",
        "IPY_MODEL_1b154013c3be42289d6888e4cbf95660"
       ],
       "layout": "IPY_MODEL_7a7ef7e70f4c42a58d580f4487926bf5"
      }
     },
     "afd0909d94f74e30af27dbdf9fd8bf0b": {
      "model_module": "@jupyter-widgets/controls",
      "model_module_version": "1.5.0",
      "model_name": "IntProgressModel",
      "state": {
       "bar_style": "danger",
       "description": "Running ",
       "layout": "IPY_MODEL_92e5074a39c641659851aab0690690dd",
       "max": 121,
       "style": "IPY_MODEL_fb96a04cc55c41d08d8672f508222bed"
      }
     },
     "bb6c6a8f7fec4ea1b518d3082fa94023": {
      "model_module": "@jupyter-widgets/base",
      "model_module_version": "1.2.0",
      "model_name": "LayoutModel",
      "state": {}
     },
     "bd3cd95655ac4129820c6931f54a0416": {
      "model_module": "@jupyter-widgets/controls",
      "model_module_version": "1.5.0",
      "model_name": "HTMLModel",
      "state": {
       "layout": "IPY_MODEL_6acaa883665e4390ad68a4d59d02793e",
       "style": "IPY_MODEL_e2b3013168e740dba50a7a9ab3ebf62b",
       "value": "100% 121/121 [14:27&lt;00:00,  7.17s/it]"
      }
     },
     "bd70572d732a4185aa5e4fdebb0db4ed": {
      "model_module": "@jupyter-widgets/controls",
      "model_module_version": "1.5.0",
      "model_name": "HBoxModel",
      "state": {
       "children": [
        "IPY_MODEL_dbcb119702754fb0a0aa0a39c1694fe2",
        "IPY_MODEL_0ff003b955b04bc99b24936ee6291e00"
       ],
       "layout": "IPY_MODEL_a47ffc6b27284471835ea495cfad4957"
      }
     },
     "bd7745dc6f43412485af5dbcf07fd7c8": {
      "model_module": "@jupyter-widgets/base",
      "model_module_version": "1.2.0",
      "model_name": "LayoutModel",
      "state": {}
     },
     "c083a20b12bf45d0b984f239d23f7402": {
      "model_module": "@jupyter-widgets/base",
      "model_module_version": "1.2.0",
      "model_name": "LayoutModel",
      "state": {}
     },
     "c1ff052797c948858aa0cc53bfa18f71": {
      "model_module": "@jupyter-widgets/controls",
      "model_module_version": "1.5.0",
      "model_name": "IntProgressModel",
      "state": {
       "bar_style": "danger",
       "description": "Running ",
       "layout": "IPY_MODEL_c083a20b12bf45d0b984f239d23f7402",
       "max": 441,
       "style": "IPY_MODEL_91feaaad121c4713aaac7ad2ef1a8360"
      }
     },
     "c213ce9ee35a4d2180e6ddfe39b9a3d7": {
      "model_module": "@jupyter-widgets/controls",
      "model_module_version": "1.5.0",
      "model_name": "HBoxModel",
      "state": {
       "children": [
        "IPY_MODEL_4d4093c6f7ee4df293b4cb34f0b64fbf",
        "IPY_MODEL_bd3cd95655ac4129820c6931f54a0416"
       ],
       "layout": "IPY_MODEL_c6fb5cf62fee4e65a2738d1bd9e25831"
      }
     },
     "c488df7e4a9744b186edb2976b057694": {
      "model_module": "@jupyter-widgets/base",
      "model_module_version": "1.2.0",
      "model_name": "LayoutModel",
      "state": {}
     },
     "c6fb5cf62fee4e65a2738d1bd9e25831": {
      "model_module": "@jupyter-widgets/base",
      "model_module_version": "1.2.0",
      "model_name": "LayoutModel",
      "state": {}
     },
     "c808ea4940474873bed3f318b58edc49": {
      "model_module": "@jupyter-widgets/controls",
      "model_module_version": "1.5.0",
      "model_name": "DescriptionStyleModel",
      "state": {
       "description_width": ""
      }
     },
     "d26bf5028d9e48569f4a733affc563c2": {
      "model_module": "@jupyter-widgets/base",
      "model_module_version": "1.2.0",
      "model_name": "LayoutModel",
      "state": {}
     },
     "d520d4a06bfb43dc88cb23fd793ea2ac": {
      "model_module": "@jupyter-widgets/controls",
      "model_module_version": "1.5.0",
      "model_name": "DescriptionStyleModel",
      "state": {
       "description_width": ""
      }
     },
     "dbcb119702754fb0a0aa0a39c1694fe2": {
      "model_module": "@jupyter-widgets/controls",
      "model_module_version": "1.5.0",
      "model_name": "IntProgressModel",
      "state": {
       "bar_style": "success",
       "description": "Finished",
       "layout": "IPY_MODEL_bd7745dc6f43412485af5dbcf07fd7c8",
       "max": 441,
       "style": "IPY_MODEL_f5c41e3d9b4346c1810df7f72a15a9d6",
       "value": 441
      }
     },
     "e2b3013168e740dba50a7a9ab3ebf62b": {
      "model_module": "@jupyter-widgets/controls",
      "model_module_version": "1.5.0",
      "model_name": "DescriptionStyleModel",
      "state": {
       "description_width": ""
      }
     },
     "ec0de3276649449e8ee048c7d9b052ec": {
      "model_module": "@jupyter-widgets/controls",
      "model_module_version": "1.5.0",
      "model_name": "HBoxModel",
      "state": {
       "children": [
        "IPY_MODEL_afd0909d94f74e30af27dbdf9fd8bf0b",
        "IPY_MODEL_6e91578fc1504c3fa70c1706b3034fc8"
       ],
       "layout": "IPY_MODEL_aa35279da3614d1a997ad6dccf09fcad"
      }
     },
     "f25dc18cd3f740bd9b6ec901d77905d9": {
      "model_module": "@jupyter-widgets/controls",
      "model_module_version": "1.5.0",
      "model_name": "IntProgressModel",
      "state": {
       "bar_style": "success",
       "layout": "IPY_MODEL_94795355d26d4401a6f0e1c338caab39",
       "max": 441,
       "style": "IPY_MODEL_aac8374b414d45af9d71a27e9819ae7b",
       "value": 441
      }
     },
     "f532dd54398845c1bf4975c977253472": {
      "model_module": "@jupyter-widgets/controls",
      "model_module_version": "1.5.0",
      "model_name": "DescriptionStyleModel",
      "state": {
       "description_width": ""
      }
     },
     "f5c41e3d9b4346c1810df7f72a15a9d6": {
      "model_module": "@jupyter-widgets/controls",
      "model_module_version": "1.5.0",
      "model_name": "ProgressStyleModel",
      "state": {
       "description_width": "initial"
      }
     },
     "f60717d6c2d545c9ba6cf1d4dc683174": {
      "model_module": "@jupyter-widgets/controls",
      "model_module_version": "1.5.0",
      "model_name": "HBoxModel",
      "state": {
       "children": [
        "IPY_MODEL_9a96b0baaf594edbaed941c52e3329cd",
        "IPY_MODEL_6026ec730905405cbe52f8f77bb821b8"
       ],
       "layout": "IPY_MODEL_622e0e24aa8b4ece8572ac94d1f00c79"
      }
     },
     "fb96a04cc55c41d08d8672f508222bed": {
      "model_module": "@jupyter-widgets/controls",
      "model_module_version": "1.5.0",
      "model_name": "ProgressStyleModel",
      "state": {
       "description_width": "initial"
      }
     }
    },
    "version_major": 2,
    "version_minor": 0
   }
  }
 },
 "nbformat": 4,
 "nbformat_minor": 4
}
