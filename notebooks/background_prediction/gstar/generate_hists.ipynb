{
 "cells": [
  {
   "cell_type": "markdown",
   "metadata": {},
   "source": [
    "# GStar and interference contributions\n",
    "\n",
    "## Generate histograms"
   ]
  },
  {
   "cell_type": "code",
   "execution_count": 17,
   "metadata": {},
   "outputs": [],
   "source": [
    "import zdb\n",
    "import glob\n",
    "import os\n",
    "import oyaml as yaml\n",
    "import copy\n",
    "import numpy as np\n",
    "import pandas as pd\n",
    "import matplotlib.pyplot as plt\n",
    "import dftools\n",
    "import scipy\n",
    "import pysge\n",
    "from tqdm.auto import tqdm\n",
    "\n",
    "plt.style.use('cms')\n",
    "plt.rcParams.update({\n",
    "    \"figure.dpi\": 150,\n",
    "    \"figure.figsize\": (4, 3),\n",
    "    \"lines.markersize\": 3,\n",
    "    \"errorbar.capsize\": 2,\n",
    "    \"font.size\": 10.,\n",
    "})"
   ]
  },
  {
   "cell_type": "code",
   "execution_count": 18,
   "metadata": {},
   "outputs": [],
   "source": [
    "def generate_yaml(hists, filepath, tables={\"central\": \"Events\"}, systs=[]):\n",
    "    hists_def = {\n",
    "        \"_\".join(k): [\n",
    "            {\"table\": \"df: '{table_name}'\"},\n",
    "            {\"varname0\": \"df: '{}'\".format(k[0])},\n",
    "            {\"varname1\": \"df: '{}'\".format(k[1])},\n",
    "            {\"varname2\": \"df: '{}'\".format(k[2])},\n",
    "            {\"selection\": \"df: '{selection_name}'\"},\n",
    "            {\"parent\": \"df: df.parent\"},\n",
    "            {\"mass_window\": \"df: (df.GenPartBoson_mass>=71.) & (df.GenPartBoson_mass<111.)\"},\n",
    "            {\"large_pt\": \"df: df.GenPartBoson_pt>=200.\"},\n",
    "            {\"eta_restricted\": \"df: (np.abs(df.LeadGenLepCandidate_pt)<2.4) & (np.abs(df.SecondGenLepCandidate_pt)<2.4)\"},\n",
    "            {\"binvar0\": \"df: df.{}_bin\".format(k[0])},\n",
    "            {\"binvar1\": \"df: df.{}_bin\".format(k[1])},\n",
    "            {\"binvar2\": \"df: df.{}_bin\".format(k[2])},\n",
    "            {\"count\": \"df: 1.\"},\n",
    "            {\"sum_w\": \"df: {weight}\"},\n",
    "            {\"sum_ww\": \"df: df.sum_w**2\"},\n",
    "        ] for k in hists\n",
    "    }\n",
    "    \n",
    "    for key, hdef in hists_def.items():\n",
    "        for label, vari in systs:\n",
    "            hdef.extend([\n",
    "                {\"sum_w_{}\".format(label): \"df: df.sum_w*({})\".format(vari)},\n",
    "                {\"sum_ww_{}\".format(label): \"df: (df.sum_w*({}))**2\".format(vari)},\n",
    "            ])\n",
    "    \n",
    "    cutflows = {\n",
    "        \"DoubleLepton\": {\n",
    "            \"selection_name\": \"DoubleLepton\",\n",
    "            \"selection\": \"GenPartBoson_mass>=0\",\n",
    "            \"weight\": \"df.WeightXsLumi\",\n",
    "            \"hists\": list(hists_def.keys()),\n",
    "        },\n",
    "    }\n",
    "\n",
    "    cfg_eval_bins = [\n",
    "        {\"GenPartBoson_mass_bin\": \"df: np.floor(df.GenPartBoson_mass/1.)*1.\"},\n",
    "        {\"GenPartBoson_pt_bin\": \"df: np.floor(df.GenPartBoson_pt/5.)*5.\"},\n",
    "        {\"LeadGenLepCandidate_pt_bin\": \"df: np.floor(df.LeadGenLepCandidate_pt/5.)*5.\"},\n",
    "        {\"LeadGenLepCandidate_eta_bin\": \"df: np.floor(df.LeadGenLepCandidate_eta/0.1)*0.1\"},\n",
    "        {\"SecondGenLepCandidate_pt_bin\": \"df: np.floor(df.SecondGenLepCandidate_pt/5.)*5.\"},\n",
    "        {\"SecondGenLepCandidate_eta_bin\": \"df: np.floor(df.SecondGenLepCandidate_eta/0.1)*0.1\"},\n",
    "        {\"Generator_id1_bin\": \"df: np.floor(np.minimum(df.Generator_id1, df.Generator_id2)/1)*1\"},\n",
    "        {\"Generator_id2_bin\": \"df: np.floor(np.maximum(df.Generator_id1, df.Generator_id2)/1)*1\"},\n",
    "    ]\n",
    "    \n",
    "    cfg = {\n",
    "        \"query\": {\n",
    "            \"groupby\": [\n",
    "                \"table\", \"varname0\", \"varname1\", \"varname2\",\n",
    "                \"selection\", \"parent\", \"mass_window\", \"large_pt\", \"eta_restricted\",\n",
    "                \"binvar0\", \"binvar1\", \"binvar2\",\n",
    "            ],\n",
    "            \"tables\": tables,\n",
    "            \"aliases\": {},\n",
    "            \"eval\": cfg_eval_bins,\n",
    "            \"cutflows\": cutflows,\n",
    "            \"hists\": hists_def,\n",
    "        },\n",
    "        \"files\": sorted(p for p in glob.glob(filepath)),\n",
    "    }\n",
    "    \n",
    "    return cfg"
   ]
  },
  {
   "cell_type": "code",
   "execution_count": 19,
   "metadata": {},
   "outputs": [],
   "source": [
    "hists = [\n",
    "    (\"GenPartBoson_mass\", \"Generator_id1\", \"Generator_id2\"),\n",
    "    (\"GenPartBoson_pt\", \"Generator_id1\", \"Generator_id2\"),\n",
    "    (\"LeadGenLepCandidate_pt\", \"Generator_id1\", \"Generator_id2\"),\n",
    "    (\"LeadGenLepCandidate_eta\", \"Generator_id1\", \"Generator_id2\"),\n",
    "    (\"SecondGenLepCandidate_pt\", \"Generator_id1\", \"Generator_id2\"),\n",
    "    (\"SecondGenLepCandidate_eta\", \"Generator_id1\", \"Generator_id2\"),\n",
    "]\n",
    "systs = [\n",
    "    (\"alphasUp\", \"df.LHEPdfWeight101\"),\n",
    "    (\"alphasDown\", \"df.LHEPdfWeight102\"),\n",
    "] + [\n",
    "    (\"lheScaleWeight{}\".format(idx), \"np.where(~(df.parent.str.contains('ZJetsTo') | df.parent.str.contains('WJetsTo') | df.parent.str.contains('DYJetsTo') | df.parent.str.contains('GStarJetsTo')), df.LHEScaleWeight{}, np.ones_like(df.LHEScaleWeight0))\".format(idx))\n",
    "    for idx in (0, 1, 3, 5, 7, 8)\n",
    "] + [\n",
    "    (\"lhePdfWeight{}\".format(idx), \"df.LHEPdfWeight{}\".format(idx))\n",
    "    for idx in range(99)\n",
    "]\n",
    "\n",
    "cfg = generate_yaml(\n",
    "    hists, \"/vols/cms/sdb15/Analysis/ZinvWidth/databases/2019/06_Jun/14_gstar/MC/*.h5\",\n",
    "    systs=systs,\n",
    ")\n",
    "with open(\"configs/mc.yaml\", \"w\") as f:\n",
    "    yaml.dump(cfg, f, indent=4)"
   ]
  },
  {
   "cell_type": "code",
   "execution_count": 20,
   "metadata": {},
   "outputs": [
    {
     "name": "stdout",
     "output_type": "stream",
     "text": [
      "\n",
      " \u001b[1mqueue\u001b[0m   |   \u001b[1mfree\u001b[0m |   \u001b[1mused\u001b[0m |   \u001b[1mtotal\u001b[0m\n",
      "---------+--------+--------+---------\n",
      " hep.q   |    373 |     67 |     440\n",
      " gpu.q   |      7 |      0 |       7\n",
      " fw.q    |      4 |      0 |       4\n",
      "\n",
      " \u001b[1muser\u001b[0m   |     \u001b[1mhep.q\u001b[0m |\n",
      " \u001b[1m\u001b[0m       |   \u001b[1mrunning\u001b[0m | \u001b[1mduration\u001b[0m\n",
      "--------+-----------+-----------------\n",
      " Brais  |        67 | 0 days 06:10:30\n",
      "\n"
     ]
    }
   ],
   "source": [
    "!~/Scripts/batch/QSTAT.py"
   ]
  },
  {
   "cell_type": "code",
   "execution_count": 12,
   "metadata": {},
   "outputs": [],
   "source": [
    "#zdb.modules.analyse(\n",
    "#    \"configs/mc.yaml\",\n",
    "#    output=\"hists_1d_gstar.h5:MCAggEvents\",\n",
    "#    mode='sge',\n",
    "#    ncores=-1,\n",
    "#    batch_opts=\"-q hep.q -l h_rt=3:0:0 -l h_vmem=12G\",\n",
    "#    chunksize=500_000,\n",
    "#    merge_opts={\"mode\": \"sge\", \"ncores\": 10, \"batch_opts\": \"-q hep.q\"},\n",
    "#)"
   ]
  },
  {
   "cell_type": "code",
   "execution_count": null,
   "metadata": {},
   "outputs": [],
   "source": []
  }
 ],
 "metadata": {
  "kernelspec": {
   "display_name": "Python 3",
   "language": "python",
   "name": "python3"
  },
  "language_info": {
   "codemirror_mode": {
    "name": "ipython",
    "version": 3
   },
   "file_extension": ".py",
   "mimetype": "text/x-python",
   "name": "python",
   "nbconvert_exporter": "python",
   "pygments_lexer": "ipython3",
   "version": "3.7.3"
  },
  "widgets": {
   "application/vnd.jupyter.widget-state+json": {
    "state": {},
    "version_major": 2,
    "version_minor": 0
   }
  }
 },
 "nbformat": 4,
 "nbformat_minor": 4
}
