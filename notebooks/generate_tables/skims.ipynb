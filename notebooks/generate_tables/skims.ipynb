{
 "cells": [
  {
   "cell_type": "code",
   "execution_count": 1,
   "metadata": {},
   "outputs": [],
   "source": [
    "import zdb\n",
    "import glob\n",
    "import os\n",
    "import oyaml as yaml"
   ]
  },
  {
   "cell_type": "code",
   "execution_count": 2,
   "metadata": {},
   "outputs": [
    {
     "name": "stdout",
     "output_type": "stream",
     "text": [
      "Help on function skim in module zdb.modules.skim:\n",
      "\n",
      "skim(config, mode='multiprocessing', ncores=0, nfiles=-1, batch_opts='', output=None, chunksize=250000)\n",
      "\n"
     ]
    }
   ],
   "source": [
    "help(zdb.modules.skim)"
   ]
  },
  {
   "cell_type": "markdown",
   "metadata": {},
   "source": [
    "## Functions"
   ]
  },
  {
   "cell_type": "code",
   "execution_count": 3,
   "metadata": {},
   "outputs": [],
   "source": [
    "def generate_config(outpath, selection, tables, filepaths):\n",
    "    cfg = {\n",
    "        \"selection\": \"(\" + \") & (\".join(selection)+\")\",\n",
    "        \"tables\": tables,\n",
    "        \"files\": sorted(p for p in glob.glob(filepaths)),\n",
    "    }\n",
    "    with open(outpath, \"w\") as f:\n",
    "        yaml.dump(cfg, f, indent=4)"
   ]
  },
  {
   "cell_type": "markdown",
   "metadata": {},
   "source": [
    "## Configs"
   ]
  },
  {
   "cell_type": "code",
   "execution_count": 4,
   "metadata": {},
   "outputs": [],
   "source": [
    "!mkdir -p skims/"
   ]
  },
  {
   "cell_type": "code",
   "execution_count": 5,
   "metadata": {},
   "outputs": [],
   "source": [
    "# Data\n",
    "generate_config(\n",
    "    \"skims/data.yaml\",\n",
    "    [\"IsCertified\", \"Flag_goodVertices\", \"Flag_globalSuperTightHalo2016Filter\", \"Flag_HBHENoiseFilter\", \"Flag_HBHENoiseIsoFilter\", \"Flag_EcalDeadCellTriggerPrimitiveFilter\", \"Flag_BadPFMuonFilter\", \"Flag_eeBadScFilter\", \"MET_dCaloMET<0.6\", \"nJetSelection>0\", \"nJetSelection==nJetVeto\", \"LeadJetSelection_chHEF>0.1\", \"LeadJetSelection_neHEF<0.8\", \"LeadJetSelection_pt>200.\", \"nPhotonVeto==0\", \"nBJetVeto==0\"],\n",
    "    [\"Events\"],\n",
    "    \"/vols/cms/sdb15/Analysis/ZinvWidth/databases/2019/08_Aug/28_Legacy/Data/result_*.h5\",\n",
    ")\n",
    "\n",
    "# MC\n",
    "generate_config(\n",
    "    \"skims/mc.yaml\",\n",
    "    [\"(parent!='EWKV2Jets' | nGenBosonSelection==1)\", \"Flag_goodVertices\", \"Flag_globalSuperTightHalo2016Filter\", \"Flag_HBHENoiseFilter\", \"Flag_HBHENoiseIsoFilter\", \"Flag_EcalDeadCellTriggerPrimitiveFilter\", \"Flag_BadPFMuonFilter\", \"MET_dCaloMET<0.6\", \"nJetSelection>0\", \"nJetSelection==nJetVeto\", \"LeadJetSelection_chHEF>0.1\", \"LeadJetSelection_neHEF<0.8\", \"LeadJetSelection_pt>200.\"],\n",
    "    [\"Events\"],\n",
    "    \"/vols/cms/sdb15/Analysis/ZinvWidth/databases/2019/08_Aug/28_Legacy/MC/result_*.h5\",\n",
    ")\n",
    "\n",
    "# MC jes\n",
    "generate_config(\n",
    "    \"skims/mc_jes.yaml\",\n",
    "    [\"(parent!='EWKV2Jets' | nGenBosonSelection==1)\", \"Flag_goodVertices\", \"Flag_globalSuperTightHalo2016Filter\", \"Flag_HBHENoiseFilter\", \"Flag_HBHENoiseIsoFilter\", \"Flag_EcalDeadCellTriggerPrimitiveFilter\", \"Flag_BadPFMuonFilter\", \"MET_dCaloMET<0.6\", \"nJetSelection>0\", \"nJetSelection==nJetVeto\", \"LeadJetSelection_chHEF>0.1\", \"LeadJetSelection_neHEF<0.8\", \"LeadJetSelection_pt>200.\"],\n",
    "    [\"Events_jesTotal10\", \"Events_jesTotal20\", \"Events_jesTotal30\", \"Events_jesTotal40\", \"Events_jesTotal50\", \"Events_jesTotal60\", \"Events_jesTotal70\", \"Events_jesTotal80\", \"Events_jesTotal90\"],\n",
    "    \"/vols/cms/sdb15/Analysis/ZinvWidth/databases/2019/08_Aug/28_Legacy/MC_jes/result_*.h5\",\n",
    ")\n",
    "\n",
    "# MC jer\n",
    "generate_config(\n",
    "    \"skims/mc_jer.yaml\",\n",
    "    [\"(parent!='EWKV2Jets' | nGenBosonSelection==1)\", \"Flag_goodVertices\", \"Flag_globalSuperTightHalo2016Filter\", \"Flag_HBHENoiseFilter\", \"Flag_HBHENoiseIsoFilter\", \"Flag_EcalDeadCellTriggerPrimitiveFilter\", \"Flag_BadPFMuonFilter\", \"MET_dCaloMET<0.6\", \"nJetSelection>0\", \"nJetSelection==nJetVeto\", \"LeadJetSelection_chHEF>0.1\", \"LeadJetSelection_neHEF<0.8\", \"LeadJetSelection_pt>200.\"],\n",
    "    [\"Events_jerSF10\", \"Events_jerSF20\", \"Events_jerSF30\", \"Events_jerSF40\", \"Events_jerSF50\", \"Events_jerSF60\", \"Events_jerSF70\", \"Events_jerSF80\", \"Events_jerSF90\"],\n",
    "    \"/vols/cms/sdb15/Analysis/ZinvWidth/databases/2019/08_Aug/28_Legacy/MC_jer/result_*.h5\",\n",
    ")\n",
    "\n",
    "# MC unclust\n",
    "generate_config(\n",
    "    \"skims/mc_unclust.yaml\",\n",
    "    [\"(parent!='EWKV2Jets' | nGenBosonSelection==1)\", \"Flag_goodVertices\", \"Flag_globalSuperTightHalo2016Filter\", \"Flag_HBHENoiseFilter\", \"Flag_HBHENoiseIsoFilter\", \"Flag_EcalDeadCellTriggerPrimitiveFilter\", \"Flag_BadPFMuonFilter\", \"MET_dCaloMET<0.6\", \"nJetSelection>0\", \"nJetSelection==nJetVeto\", \"LeadJetSelection_chHEF>0.1\", \"LeadJetSelection_neHEF<0.8\", \"LeadJetSelection_pt>200.\"],\n",
    "    [\"Events_unclust10\", \"Events_unclust20\", \"Events_unclust30\", \"Events_unclust40\", \"Events_unclust50\", \"Events_unclust60\", \"Events_unclust70\", \"Events_unclust80\", \"Events_unclust90\"],\n",
    "    \"/vols/cms/sdb15/Analysis/ZinvWidth/databases/2019/08_Aug/28_Legacy/MC_unclust/result_*.h5\",\n",
    ")\n",
    "\n",
    "# MC lepscales\n",
    "generate_config(\n",
    "    \"skims/mc_lepscales.yaml\",\n",
    "    [\"(parent!='EWKV2Jets' | nGenBosonSelection==1)\", \"Flag_goodVertices\", \"Flag_globalSuperTightHalo2016Filter\", \"Flag_HBHENoiseFilter\", \"Flag_HBHENoiseIsoFilter\", \"Flag_EcalDeadCellTriggerPrimitiveFilter\", \"Flag_BadPFMuonFilter\", \"MET_dCaloMET<0.6\", \"nJetSelection>0\", \"nJetSelection==nJetVeto\", \"LeadJetSelection_chHEF>0.1\", \"LeadJetSelection_neHEF<0.8\", \"LeadJetSelection_pt>200.\"],\n",
    "    [\"Events_eleEnergyScaleup\", \"Events_eleEnergyScaledown\", \"Events_muonPtScaleup\", \"Events_muonPtScaledown\", \"Events_photonEnergyScaleup\", \"Events_photonEnergyScaledown\", \"Events_tauPtScaleup\", \"Events_tauPtScaledown\"],\n",
    "    \"/vols/cms/sdb15/Analysis/ZinvWidth/databases/2019/08_Aug/28_Legacy/MC_lepscales/result_*.h5\",\n",
    ")"
   ]
  },
  {
   "cell_type": "code",
   "execution_count": 6,
   "metadata": {},
   "outputs": [],
   "source": [
    "skim_dir = \"/vols/cms/sdb15/Analysis/ZinvWidth/databases/skims/2019/09_Sep/14_skims/\"\n",
    "if not os.path.exists(skim_dir):\n",
    "    os.makedirs(skim_dir)"
   ]
  },
  {
   "cell_type": "code",
   "execution_count": 12,
   "metadata": {},
   "outputs": [],
   "source": [
    "#zdb.modules.multi_skim(\n",
    "#    [\"skims/data.yaml\", \"skims/mc.yaml\", \"skims/mc_jes.yaml\", \"skims/mc_jer.yaml\", \"skims/mc_unclust.yaml\", \"skims/mc_lepscales.yaml\"],\n",
    "#    outputs=[\n",
    "#        os.path.join(skim_dir, \"data/result_{:05d}.h5\"),\n",
    "#        os.path.join(skim_dir, \"mc/result_{:05d}.h5\"),\n",
    "#        os.path.join(skim_dir, \"mc_jes/result_{:05d}.h5\"),\n",
    "#        os.path.join(skim_dir, \"mc_jer/result_{:05d}.h5\"),\n",
    "#        os.path.join(skim_dir, \"mc_unclust/result_{:05d}.h5\"),\n",
    "#        os.path.join(skim_dir, \"mc_lepscales/result_{:05d}.h5\"),\n",
    "#    ],\n",
    "#    mode='sge',\n",
    "#    ncores=100,\n",
    "#    batch_opts=\"-q hep.q -l h_rt=3:0:0 -l h_vmem=12G\",\n",
    "#    chunksize=250_000,\n",
    "#)\n",
    "pass"
   ]
  },
  {
   "cell_type": "code",
   "execution_count": null,
   "metadata": {},
   "outputs": [],
   "source": []
  }
 ],
 "metadata": {
  "kernelspec": {
   "display_name": "Python 3",
   "language": "python",
   "name": "python3"
  },
  "language_info": {
   "codemirror_mode": {
    "name": "ipython",
    "version": 3
   },
   "file_extension": ".py",
   "mimetype": "text/x-python",
   "name": "python",
   "nbconvert_exporter": "python",
   "pygments_lexer": "ipython3",
   "version": "3.7.3"
  },
  "widgets": {
   "application/vnd.jupyter.widget-state+json": {
    "state": {
     "0f0778c5f4a34cd69df7c7ae80b0d458": {
      "model_module": "@jupyter-widgets/controls",
      "model_module_version": "1.5.0",
      "model_name": "IntProgressModel",
      "state": {
       "bar_style": "danger",
       "description": "Running ",
       "layout": "IPY_MODEL_42ac27d380f14c599cde3980c211cdd8",
       "max": 600,
       "style": "IPY_MODEL_f499b70e35eb447799bb7b16a99bd72b"
      }
     },
     "14fe4f6b5e2446958709ced88c9f9ece": {
      "model_module": "@jupyter-widgets/base",
      "model_module_version": "1.2.0",
      "model_name": "LayoutModel",
      "state": {}
     },
     "1a879d050e384d778379a2fa3d8eff59": {
      "model_module": "@jupyter-widgets/controls",
      "model_module_version": "1.5.0",
      "model_name": "ProgressStyleModel",
      "state": {
       "description_width": ""
      }
     },
     "1c0c3eb0505d4694913601a71328f0c4": {
      "model_module": "@jupyter-widgets/controls",
      "model_module_version": "1.5.0",
      "model_name": "HTMLModel",
      "state": {
       "layout": "IPY_MODEL_d7469aa8d8bd4fd2b097791e23d12c67",
       "style": "IPY_MODEL_fae52034e3894020a5dfccd5d6c61089",
       "value": "100% 600/600 [00:18&lt;00:00, 32.59it/s]"
      }
     },
     "26821a78d0014f9c981204763b261c59": {
      "model_module": "@jupyter-widgets/controls",
      "model_module_version": "1.5.0",
      "model_name": "HBoxModel",
      "state": {
       "children": [
        "IPY_MODEL_36754764ff294bba8d6af06c9f7e7ae2",
        "IPY_MODEL_31412fd9eb184d849966a3e5efef622a"
       ],
       "layout": "IPY_MODEL_5ae249da483442ed86f56bc43c7fb8c1"
      }
     },
     "2c1d063edb03484c905d0063379dd778": {
      "model_module": "@jupyter-widgets/base",
      "model_module_version": "1.2.0",
      "model_name": "LayoutModel",
      "state": {}
     },
     "312a5fb8c1244348bbbc95fd19580475": {
      "model_module": "@jupyter-widgets/controls",
      "model_module_version": "1.5.0",
      "model_name": "DescriptionStyleModel",
      "state": {
       "description_width": ""
      }
     },
     "31412fd9eb184d849966a3e5efef622a": {
      "model_module": "@jupyter-widgets/controls",
      "model_module_version": "1.5.0",
      "model_name": "HTMLModel",
      "state": {
       "layout": "IPY_MODEL_97d68fc08e0f4e008698623d386fe500",
       "style": "IPY_MODEL_5e088677cb4440b1b3b0aaad2fd3026c",
       "value": "100% 600/600 [9:39:14&lt;00:00, 57.92s/it]"
      }
     },
     "31e3c284d8b24793a7d1c037ee429403": {
      "model_module": "@jupyter-widgets/base",
      "model_module_version": "1.2.0",
      "model_name": "LayoutModel",
      "state": {}
     },
     "36754764ff294bba8d6af06c9f7e7ae2": {
      "model_module": "@jupyter-widgets/controls",
      "model_module_version": "1.5.0",
      "model_name": "IntProgressModel",
      "state": {
       "bar_style": "success",
       "description": "Finished",
       "layout": "IPY_MODEL_e753db9b724f43cd8ce0a4f28a8e6976",
       "max": 600,
       "style": "IPY_MODEL_f346969c88a64187b4bdd8c9a659eb79",
       "value": 600
      }
     },
     "42ac27d380f14c599cde3980c211cdd8": {
      "model_module": "@jupyter-widgets/base",
      "model_module_version": "1.2.0",
      "model_name": "LayoutModel",
      "state": {}
     },
     "451b7ac372e040de84759df8ddc6aebc": {
      "model_module": "@jupyter-widgets/controls",
      "model_module_version": "1.5.0",
      "model_name": "HTMLModel",
      "state": {
       "layout": "IPY_MODEL_a753df9e365e4b0b95956d65c7ae0c92",
       "style": "IPY_MODEL_a4b7da1a6e974eb389ff09a072bca0c1",
       "value": "  0% 0/600 [9:39:09&lt;?, ?it/s]"
      }
     },
     "47bf2484768148a38d471dd59c2f1cfe": {
      "model_module": "@jupyter-widgets/base",
      "model_module_version": "1.2.0",
      "model_name": "LayoutModel",
      "state": {}
     },
     "52eef635333a4ac698dbd302c885046e": {
      "model_module": "@jupyter-widgets/controls",
      "model_module_version": "1.5.0",
      "model_name": "HBoxModel",
      "state": {
       "children": [
        "IPY_MODEL_0f0778c5f4a34cd69df7c7ae80b0d458",
        "IPY_MODEL_91a447b9010644cfb6c28c0a2e192d77"
       ],
       "layout": "IPY_MODEL_31e3c284d8b24793a7d1c037ee429403"
      }
     },
     "5ae249da483442ed86f56bc43c7fb8c1": {
      "model_module": "@jupyter-widgets/base",
      "model_module_version": "1.2.0",
      "model_name": "LayoutModel",
      "state": {}
     },
     "5e088677cb4440b1b3b0aaad2fd3026c": {
      "model_module": "@jupyter-widgets/controls",
      "model_module_version": "1.5.0",
      "model_name": "DescriptionStyleModel",
      "state": {
       "description_width": ""
      }
     },
     "713d03e0b0584f029ddb2c1f898578e7": {
      "model_module": "@jupyter-widgets/controls",
      "model_module_version": "1.5.0",
      "model_name": "ProgressStyleModel",
      "state": {
       "description_width": "initial"
      }
     },
     "72e433e161aa4cc3857eca5e94763f7a": {
      "model_module": "@jupyter-widgets/controls",
      "model_module_version": "1.5.0",
      "model_name": "HBoxModel",
      "state": {
       "children": [
        "IPY_MODEL_d76c6919c1684c04910debf71387adb7",
        "IPY_MODEL_ce50a40082af4202a591fe5f90a980dc"
       ],
       "layout": "IPY_MODEL_74802eec0e2f43f684d6d83a5c0d1bba"
      }
     },
     "74802eec0e2f43f684d6d83a5c0d1bba": {
      "model_module": "@jupyter-widgets/base",
      "model_module_version": "1.2.0",
      "model_name": "LayoutModel",
      "state": {}
     },
     "770fe52eb30b4ce4b1199bcec28692ae": {
      "model_module": "@jupyter-widgets/controls",
      "model_module_version": "1.5.0",
      "model_name": "DescriptionStyleModel",
      "state": {
       "description_width": ""
      }
     },
     "7842ae76e51c45688ff70947841708e1": {
      "model_module": "@jupyter-widgets/controls",
      "model_module_version": "1.5.0",
      "model_name": "HBoxModel",
      "state": {
       "children": [
        "IPY_MODEL_9a390bd9d8354317a49cd0851da4ac8c",
        "IPY_MODEL_1c0c3eb0505d4694913601a71328f0c4"
       ],
       "layout": "IPY_MODEL_14fe4f6b5e2446958709ced88c9f9ece"
      }
     },
     "8d8bf3f2b44f494eb4920cca2cd2ea82": {
      "model_module": "@jupyter-widgets/base",
      "model_module_version": "1.2.0",
      "model_name": "LayoutModel",
      "state": {}
     },
     "8dd6e77491a242b39b4c9f1591ac8afb": {
      "model_module": "@jupyter-widgets/controls",
      "model_module_version": "1.5.0",
      "model_name": "ProgressStyleModel",
      "state": {
       "description_width": "initial"
      }
     },
     "91a447b9010644cfb6c28c0a2e192d77": {
      "model_module": "@jupyter-widgets/controls",
      "model_module_version": "1.5.0",
      "model_name": "HTMLModel",
      "state": {
       "layout": "IPY_MODEL_bb6514a881ff4845ba141092a073b623",
       "style": "IPY_MODEL_770fe52eb30b4ce4b1199bcec28692ae",
       "value": "  0% 0/600 [00:05&lt;?, ?it/s]"
      }
     },
     "97d68fc08e0f4e008698623d386fe500": {
      "model_module": "@jupyter-widgets/base",
      "model_module_version": "1.2.0",
      "model_name": "LayoutModel",
      "state": {}
     },
     "9a390bd9d8354317a49cd0851da4ac8c": {
      "model_module": "@jupyter-widgets/controls",
      "model_module_version": "1.5.0",
      "model_name": "IntProgressModel",
      "state": {
       "bar_style": "success",
       "layout": "IPY_MODEL_8d8bf3f2b44f494eb4920cca2cd2ea82",
       "max": 600,
       "style": "IPY_MODEL_1a879d050e384d778379a2fa3d8eff59",
       "value": 600
      }
     },
     "9e73537d43ee43deb7cfca9966b918a3": {
      "model_module": "@jupyter-widgets/base",
      "model_module_version": "1.2.0",
      "model_name": "LayoutModel",
      "state": {}
     },
     "a4b7da1a6e974eb389ff09a072bca0c1": {
      "model_module": "@jupyter-widgets/controls",
      "model_module_version": "1.5.0",
      "model_name": "DescriptionStyleModel",
      "state": {
       "description_width": ""
      }
     },
     "a753df9e365e4b0b95956d65c7ae0c92": {
      "model_module": "@jupyter-widgets/base",
      "model_module_version": "1.2.0",
      "model_name": "LayoutModel",
      "state": {}
     },
     "ac3a7cbaeb23456a8407965717b2a33f": {
      "model_module": "@jupyter-widgets/controls",
      "model_module_version": "1.5.0",
      "model_name": "IntProgressModel",
      "state": {
       "bar_style": "danger",
       "description": "Running ",
       "layout": "IPY_MODEL_47bf2484768148a38d471dd59c2f1cfe",
       "max": 600,
       "style": "IPY_MODEL_8dd6e77491a242b39b4c9f1591ac8afb"
      }
     },
     "bb6514a881ff4845ba141092a073b623": {
      "model_module": "@jupyter-widgets/base",
      "model_module_version": "1.2.0",
      "model_name": "LayoutModel",
      "state": {}
     },
     "ce50a40082af4202a591fe5f90a980dc": {
      "model_module": "@jupyter-widgets/controls",
      "model_module_version": "1.5.0",
      "model_name": "HTMLModel",
      "state": {
       "layout": "IPY_MODEL_2c1d063edb03484c905d0063379dd778",
       "style": "IPY_MODEL_312a5fb8c1244348bbbc95fd19580475",
       "value": "100% 600/600 [00:10&lt;00:00, 55.40it/s]"
      }
     },
     "d3b6681bc70844d2a0b9fd4d42c14979": {
      "model_module": "@jupyter-widgets/controls",
      "model_module_version": "1.5.0",
      "model_name": "HBoxModel",
      "state": {
       "children": [
        "IPY_MODEL_ac3a7cbaeb23456a8407965717b2a33f",
        "IPY_MODEL_451b7ac372e040de84759df8ddc6aebc"
       ],
       "layout": "IPY_MODEL_9e73537d43ee43deb7cfca9966b918a3"
      }
     },
     "d5ef4818e4fe48bbba80bebba1680644": {
      "model_module": "@jupyter-widgets/base",
      "model_module_version": "1.2.0",
      "model_name": "LayoutModel",
      "state": {}
     },
     "d7469aa8d8bd4fd2b097791e23d12c67": {
      "model_module": "@jupyter-widgets/base",
      "model_module_version": "1.2.0",
      "model_name": "LayoutModel",
      "state": {}
     },
     "d76c6919c1684c04910debf71387adb7": {
      "model_module": "@jupyter-widgets/controls",
      "model_module_version": "1.5.0",
      "model_name": "IntProgressModel",
      "state": {
       "bar_style": "success",
       "description": "Finished",
       "layout": "IPY_MODEL_d5ef4818e4fe48bbba80bebba1680644",
       "max": 600,
       "style": "IPY_MODEL_713d03e0b0584f029ddb2c1f898578e7",
       "value": 600
      }
     },
     "e753db9b724f43cd8ce0a4f28a8e6976": {
      "model_module": "@jupyter-widgets/base",
      "model_module_version": "1.2.0",
      "model_name": "LayoutModel",
      "state": {}
     },
     "f346969c88a64187b4bdd8c9a659eb79": {
      "model_module": "@jupyter-widgets/controls",
      "model_module_version": "1.5.0",
      "model_name": "ProgressStyleModel",
      "state": {
       "description_width": "initial"
      }
     },
     "f499b70e35eb447799bb7b16a99bd72b": {
      "model_module": "@jupyter-widgets/controls",
      "model_module_version": "1.5.0",
      "model_name": "ProgressStyleModel",
      "state": {
       "description_width": "initial"
      }
     },
     "fae52034e3894020a5dfccd5d6c61089": {
      "model_module": "@jupyter-widgets/controls",
      "model_module_version": "1.5.0",
      "model_name": "DescriptionStyleModel",
      "state": {
       "description_width": ""
      }
     }
    },
    "version_major": 2,
    "version_minor": 0
   }
  }
 },
 "nbformat": 4,
 "nbformat_minor": 4
}
