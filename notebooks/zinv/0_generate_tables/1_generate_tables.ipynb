{
 "cells": [
  {
   "cell_type": "markdown",
   "metadata": {},
   "source": [
    "# Generate tables\n",
    "\n",
    "This notebook will convert NanoAOD files to the dataframe format required for the Z invisible width analysis, with the additional derived variables. No selection is applied here, but convenient and not too limiting skims will be performed on these results.\n",
    "\n",
    "The configuration desired is communicated to the `zinv-analysis` repository through yaml config files found under the `reprocessing` directory. These can be edited as needed.\n",
    "\n",
    "Import the relevant packages:"
   ]
  },
  {
   "cell_type": "code",
   "execution_count": 1,
   "metadata": {},
   "outputs": [
    {
     "name": "stdout",
     "output_type": "stream",
     "text": [
      "Welcome to JupyROOT 6.18/00\n"
     ]
    }
   ],
   "source": [
    "import glob\n",
    "import oyaml as yaml\n",
    "import numpy as np\n",
    "import pandas as pd\n",
    "import dftools"
   ]
  },
  {
   "cell_type": "code",
   "execution_count": 2,
   "metadata": {},
   "outputs": [
    {
     "name": "stdout",
     "output_type": "stream",
     "text": [
      "Help on function analyse in module zinv.modules.analyse:\n",
      "\n",
      "analyse(dataset_cfg, sequence_cfg, event_selection_cfg, physics_object_cfg, trigger_cfg, hdf_cfg, name='zinv', outdir='output', tempdir='_ccsp_temp', mode='multiprocessing', batch_opts='-q hep.q', ncores=0, nblocks_per_dataset=-1, nblocks_per_process=-1, nfiles_per_dataset=-1, nfiles_per_process=1, blocksize=1000000, cachesize=8, quiet=False, dryrun=False, sample=None)\n",
      "\n"
     ]
    }
   ],
   "source": [
    "import zinv\n",
    "help(zinv.modules.analyse)"
   ]
  },
  {
   "cell_type": "code",
   "execution_count": 3,
   "metadata": {},
   "outputs": [
    {
     "name": "stdout",
     "output_type": "stream",
     "text": [
      "Help on function resume in module zinv.modules.resume:\n",
      "\n",
      "resume(path, batch_opts='-q hep.q', sleep=5, request_resubmission_options=True)\n",
      "\n"
     ]
    }
   ],
   "source": [
    "help(zinv.modules.resume)"
   ]
  },
  {
   "cell_type": "markdown",
   "metadata": {},
   "source": [
    "## Run the table generator\n",
    "\n",
    "Note that the following block is commented out. Although it can be run within this notebook, the results are typically lost if the connection is dropped or any issues happens with the browser. Therefore, for longer running blocks it is advised to run this in the terminal in an `ipython` session (where blocks of code run here are saved in the ipython session's history for easy access)"
   ]
  },
  {
   "cell_type": "code",
   "execution_count": 1,
   "metadata": {},
   "outputs": [],
   "source": [
    "#zinv.modules.analyse(\n",
    "#    \"configs/datasets.yaml\",\n",
    "#    \"configs/module_sequence.yaml\",\n",
    "#    \"configs/event_selection.yaml\",\n",
    "#    \"configs/object_selection.yaml\",\n",
    "#    \"configs/trigger_selection.yaml\",\n",
    "#    \"configs/hdf_output.yaml\",\n",
    "#    outdir=\"/vols/cms/sdb15/Analysis/ZinvWidth/databases/2019/08_Aug/28_Legacy/Data\",\n",
    "#    tempdir=\"/vols/cms/sdb15/_ccsp_temp/\",\n",
    "#    mode=\"sge\",\n",
    "#    batch_opts=\"-q hep.q -l h_rt=3:0:0 -l h_vmem=24G\",\n",
    "#    #mode=\"multiprocessing\",\n",
    "#    #ncores=0,\n",
    "#    nblocks_per_process=4,\n",
    "#    blocksize=1_000_000,\n",
    "#    sample=\"data\",\n",
    "#)"
   ]
  },
  {
   "cell_type": "markdown",
   "metadata": {},
   "source": [
    "The options provided are:\n",
    "\n",
    "* `datasets.yaml` - contains the information on where the relevant NanoAOD files are located with important information/naming conventions\n",
    "* `module_sequence.yaml` - the sequence of modules to run on the NanoAOD files. These modules are defined inside the `zinv-analysis` package, but can be defined outside\n",
    "* `event_selection.yaml` - can be used to define an event selection flag to each events. Currently this doesn't do anything with the modules defined. Event selection is applied elsewhere.\n",
    "* `object_selection.yaml` - the cuts defining the analysis-level physics objects\n",
    "* `trigger_selection.yaml` - the triggers to use. Currently this is not used with te modules defined. Trigger selection is applied elsewhere, along with the event selection.\n",
    "* `hdf_output.yaml` - the event attributes to save into the output dataframe. Each column can only have one value per event.\n",
    "\n",
    "other options are hopefully self-explanatory."
   ]
  },
  {
   "cell_type": "markdown",
   "metadata": {},
   "source": [
    "If the command above was running and stopped for some reason, then it can be resumed (after ensuring all jobs are killed) with the following"
   ]
  },
  {
   "cell_type": "code",
   "execution_count": null,
   "metadata": {},
   "outputs": [],
   "source": [
    "#zinv.modules.resume(\n",
    "#    \"/vols/cms/sdb15/_ccsp_temp/tpd_20190828_211305_2ursnd44\",\n",
    "#    batch_opts=\"-q hep.q -pe hep.pe 2 -l h_rt=3:0:0 -l h_vmem=24G\",\n",
    "#    request_resubmission_options=False,\n",
    "#)"
   ]
  },
  {
   "cell_type": "markdown",
   "metadata": {},
   "source": [
    "The same is done for MC"
   ]
  },
  {
   "cell_type": "code",
   "execution_count": 2,
   "metadata": {},
   "outputs": [],
   "source": [
    "#zinv.modules.analyse(\n",
    "#    \"configs/nominal/datasets.yaml\",\n",
    "#    \"configs/nominal/module_sequence.yaml\",\n",
    "#    \"configs/nominal/event_selection.yaml\",\n",
    "#    \"configs/nominal/object_selection.yaml\",\n",
    "#    \"configs/nominal/trigger_selection.yaml\",\n",
    "#    \"configs/nominal/hdf_output.yaml\",\n",
    "#    outdir=\"/vols/cms/sdb15/Analysis/ZinvWidth/databases/2019/08_Aug/28_Legacy/MC\",\n",
    "#    tempdir=\"/vols/cms/sdb15/_ccsp_temp/\",\n",
    "#    mode=\"sge\",\n",
    "#    batch_opts=\"-q hep.q -l h_rt=3:0:0 -l h_vmem=24G\",\n",
    "#    #mode=\"multiprocessing\",\n",
    "#    #ncores=0,\n",
    "#    nblocks_per_process=4,\n",
    "#    blocksize=1_000_000,\n",
    "#    sample=\"MC\",\n",
    "#)"
   ]
  },
  {
   "cell_type": "code",
   "execution_count": 3,
   "metadata": {},
   "outputs": [],
   "source": [
    "#zinv.modules.resume(\n",
    "#    \"/vols/cms/sdb15/_ccsp_temp/tpd_20190815_142352_3g0w1x_t\",\n",
    "#    batch_opts=\"-q hep.q -l h_rt=3:0:0 -l h_vmem=24G\",\n",
    "#)"
   ]
  },
  {
   "cell_type": "code",
   "execution_count": null,
   "metadata": {},
   "outputs": [],
   "source": []
  }
 ],
 "metadata": {
  "kernelspec": {
   "display_name": "Python 3",
   "language": "python",
   "name": "python3"
  },
  "language_info": {
   "codemirror_mode": {
    "name": "ipython",
    "version": 3
   },
   "file_extension": ".py",
   "mimetype": "text/x-python",
   "name": "python",
   "nbconvert_exporter": "python",
   "pygments_lexer": "ipython3",
   "version": "3.7.3"
  },
  "widgets": {
   "application/vnd.jupyter.widget-state+json": {
    "state": {},
    "version_major": 2,
    "version_minor": 0
   }
  }
 },
 "nbformat": 4,
 "nbformat_minor": 4
}
