{
 "cells": [
  {
   "cell_type": "markdown",
   "metadata": {},
   "source": [
    "# Skim the processed NanoAOD results\n",
    "\n",
    "Here the processed NanoAOD results are skimmed to remove unneccesary events. No other processing is performed. This is useful to avoid cumbersome processing of events that are never used in the analysis.\n",
    "\n",
    "The `zdb-analysis` repository is primarily used with the skimming module to regenerate the dataframes rows corresponding to events."
   ]
  },
  {
   "cell_type": "code",
   "execution_count": 1,
   "metadata": {},
   "outputs": [],
   "source": [
    "import zdb\n",
    "import glob\n",
    "import os\n",
    "import oyaml as yaml"
   ]
  },
  {
   "cell_type": "code",
   "execution_count": 2,
   "metadata": {},
   "outputs": [
    {
     "name": "stdout",
     "output_type": "stream",
     "text": [
      "Help on function skim in module zdb.modules.skim:\n",
      "\n",
      "skim(config, mode='multiprocessing', ncores=0, nfiles=-1, batch_opts='', output=None, chunksize=250000)\n",
      "\n"
     ]
    }
   ],
   "source": [
    "help(zdb.modules.skim)"
   ]
  },
  {
   "cell_type": "markdown",
   "metadata": {},
   "source": [
    "## Functions"
   ]
  },
  {
   "cell_type": "code",
   "execution_count": 3,
   "metadata": {},
   "outputs": [],
   "source": [
    "def generate_config(outpath, selection, tables, filepaths):\n",
    "    cfg = {\n",
    "        \"selection\": \"(\" + \") & (\".join(selection)+\")\",\n",
    "        \"tables\": tables,\n",
    "        \"files\": sorted(p for p in glob.glob(filepaths)),\n",
    "    }\n",
    "    with open(outpath, \"w\") as f:\n",
    "        yaml.dump(cfg, f, indent=4)"
   ]
  },
  {
   "cell_type": "markdown",
   "metadata": {},
   "source": [
    "## Configs\n",
    "\n",
    "Create the yaml files within this notebook with the relevant selection (logical AND of the list)"
   ]
  },
  {
   "cell_type": "code",
   "execution_count": 4,
   "metadata": {},
   "outputs": [],
   "source": [
    "!mkdir -p skims/"
   ]
  },
  {
   "cell_type": "code",
   "execution_count": 8,
   "metadata": {},
   "outputs": [],
   "source": [
    "# Data\n",
    "generate_config(\n",
    "    \"skims/data.yaml\",\n",
    "    [\"IsCertified\", \"Flag_goodVertices\", \"Flag_globalSuperTightHalo2016Filter\", \"Flag_HBHENoiseFilter\", \"Flag_HBHENoiseIsoFilter\", \"Flag_EcalDeadCellTriggerPrimitiveFilter\", \"Flag_BadPFMuonFilter\", \"Flag_eeBadScFilter\", \"MET_dCaloMET<0.6\", \"nJetSelection>0\", \"nJetSelection==nJetVeto\", \"LeadJetSelection_chHEF>0.1\", \"LeadJetSelection_neHEF<0.8\", \"LeadJetSelection_pt>200.\", \"nPhotonVeto==0\", \"nBJetVeto==0\"],\n",
    "    [\"Events\"],\n",
    "    \"/vols/cms/sdb15/Analysis/ZinvWidth/databases/full/2020/02_Feb/10_SingleTable_FixObjectWeights/Data/*.h5\",\n",
    ")\n",
    "\n",
    "# MC\n",
    "generate_config(\n",
    "    \"skims/mc.yaml\",\n",
    "    [\"(parent!='EWKV2Jets' | nGenBosonSelection==1)\", \"Flag_goodVertices\", \"Flag_globalSuperTightHalo2016Filter\", \"Flag_HBHENoiseFilter\", \"Flag_HBHENoiseIsoFilter\", \"Flag_EcalDeadCellTriggerPrimitiveFilter\", \"Flag_BadPFMuonFilter\", \"MET_dCaloMET<0.6\", \"nJetSelection>0\", \"nJetSelection==nJetVeto\", \"LeadJetSelection_chHEF>0.1\", \"LeadJetSelection_neHEF<0.8\", \"LeadJetSelection_pt>200.\"],\n",
    "    [\"Events\"],\n",
    "    \"/vols/cms/sdb15/Analysis/ZinvWidth/databases/full/2020/02_Feb/10_SingleTable_FixObjectWeights/MC/*.h5\",\n",
    ")\n",
    "\n",
    "# MC jec\n",
    "generate_config(\n",
    "    \"skims/mc_jec.yaml\",\n",
    "    [\"(parent!='EWKV2Jets' | nGenBosonSelection==1)\", \"Flag_goodVertices\", \"Flag_globalSuperTightHalo2016Filter\", \"Flag_HBHENoiseFilter\", \"Flag_HBHENoiseIsoFilter\", \"Flag_EcalDeadCellTriggerPrimitiveFilter\", \"Flag_BadPFMuonFilter\", \"MET_dCaloMET<0.6\", \"nJetSelection>0\", \"nJetSelection==nJetVeto\", \"LeadJetSelection_chHEF>0.1\", \"LeadJetSelection_neHEF<0.8\", \"LeadJetSelection_pt>200.\"],\n",
    "    [\"Events_jesTotalup\", \"Events_jesTotaldown\", \"Events_jerSFup\", \"Events_jerSFdown\", \"Events_unclustup\", \"Events_unclustdown\"],\n",
    "    \"/vols/cms/sdb15/Analysis/ZinvWidth/databases/full/2020/02_Feb/10_SingleTable_FixObjectWeights/MC_JEC/*.h5\",\n",
    ")\n",
    "\n",
    "# MC lepscales\n",
    "generate_config(\n",
    "    \"skims/mc_lep.yaml\",\n",
    "    [\"(parent!='EWKV2Jets' | nGenBosonSelection==1)\", \"Flag_goodVertices\", \"Flag_globalSuperTightHalo2016Filter\", \"Flag_HBHENoiseFilter\", \"Flag_HBHENoiseIsoFilter\", \"Flag_EcalDeadCellTriggerPrimitiveFilter\", \"Flag_BadPFMuonFilter\", \"MET_dCaloMET<0.6\", \"nJetSelection>0\", \"nJetSelection==nJetVeto\", \"LeadJetSelection_chHEF>0.1\", \"LeadJetSelection_neHEF<0.8\", \"LeadJetSelection_pt>200.\"],\n",
    "    [\"Events_eleEnergyScaleup\", \"Events_eleEnergyScaledown\", \"Events_muonPtScaleup\", \"Events_muonPtScaledown\", \"Events_photonEnergyScaleup\", \"Events_photonEnergyScaledown\", \"Events_tauPtScaleup\", \"Events_tauPtScaledown\"],\n",
    "    \"/vols/cms/sdb15/Analysis/ZinvWidth/databases/full/2020/02_Feb/10_SingleTable_FixObjectWeights/MC_LEP/result_*.h5\",\n",
    ")"
   ]
  },
  {
   "cell_type": "code",
   "execution_count": 6,
   "metadata": {},
   "outputs": [],
   "source": [
    "skim_dir = \"/vols/cms/sdb15/Analysis/ZinvWidth/databases/skims/2020/02_Feb/10_SingleTable_FixObjectWeights/\"\n",
    "if not os.path.exists(skim_dir):\n",
    "    os.makedirs(skim_dir)"
   ]
  },
  {
   "cell_type": "markdown",
   "metadata": {},
   "source": [
    "As with the table generation code, run this elsewhere to avoid issues with loss of connection or browser crashes. The `multi_skim` function allows multiple config files to be run with a single master process for convenience."
   ]
  },
  {
   "cell_type": "code",
   "execution_count": 7,
   "metadata": {},
   "outputs": [],
   "source": [
    "#zdb.modules.multi_skim(\n",
    "#    [\"skims/data.yaml\", \"skims/mc.yaml\", \"skims/mc_jec.yaml\", \"skims/mc_lep.yaml\"],\n",
    "#    outputs=[\n",
    "#        os.path.join(skim_dir, \"data/result_{:05d}.h5\"),\n",
    "#        os.path.join(skim_dir, \"mc/result_{:05d}.h5\"),\n",
    "#        os.path.join(skim_dir, \"mc_jec/result_{:05d}.h5\"),\n",
    "#        os.path.join(skim_dir, \"mc_lep/result_{:05d}.h5\"),\n",
    "#    ],\n",
    "#    mode='sge',\n",
    "#    ncores=100,\n",
    "#    batch_opts=\"-q hep.q -l h_rt=3:0:0 -l h_vmem=12G\",\n",
    "#    chunksize=250_000,\n",
    "#)"
   ]
  },
  {
   "cell_type": "code",
   "execution_count": null,
   "metadata": {},
   "outputs": [],
   "source": []
  }
 ],
 "metadata": {
  "kernelspec": {
   "display_name": "Python 3",
   "language": "python",
   "name": "python3"
  },
  "language_info": {
   "codemirror_mode": {
    "name": "ipython",
    "version": 3
   },
   "file_extension": ".py",
   "mimetype": "text/x-python",
   "name": "python",
   "nbconvert_exporter": "python",
   "pygments_lexer": "ipython3",
   "version": "3.8.1"
  },
  "widgets": {
   "application/vnd.jupyter.widget-state+json": {
    "state": {},
    "version_major": 2,
    "version_minor": 0
   }
  }
 },
 "nbformat": 4,
 "nbformat_minor": 4
}
