{
 "cells": [
  {
   "cell_type": "code",
   "execution_count": 6,
   "metadata": {},
   "outputs": [],
   "source": [
    "import oyaml as yaml\n",
    "import glob\n",
    "import zdb"
   ]
  },
  {
   "cell_type": "code",
   "execution_count": 7,
   "metadata": {},
   "outputs": [],
   "source": [
    "cfg = {\n",
    "    \"query\": {\n",
    "        \"groupby\": [\"table\", \"varname0\", \"selection\", \"parent\", \"binvar0\"],\n",
    "        \"tables\": {\"central\": \"Events\"},\n",
    "        \"aliases\": {},\n",
    "        \"eval\": [\n",
    "            {\"GenPartBoson_pt_bin\": 'df: np.floor(df.GenPartBoson_pt/5.)*5'},\n",
    "        ],\n",
    "        \"cutflows\": {\n",
    "            \"NLOQCD\": {\n",
    "                \"selection_name\": \"NLOQCD\",\n",
    "                \"selection\": \"GenPartBoson_pt>=0.\",\n",
    "                \"weight\": \"df.WeightXsLumi*df.WeightPU\",\n",
    "                \"hists\": [\"GenPartBoson_pt\"],\n",
    "            },\n",
    "            \"NLOQCDnNLOEWK\": {\n",
    "                \"selection_name\": \"NLOQCDnNLOEWK\",\n",
    "                \"selection\": \"GenPartBoson_pt>=0.\",\n",
    "                \"weight\": \"df.WeightXsLumi*df.WeightPU*df.K_NLOQCD_NLOQCDnNLOEWK\",\n",
    "                \"hists\": [\"GenPartBoson_pt\"],\n",
    "            },\n",
    "            \"NNLOQCD\": {\n",
    "                \"selection_name\": \"NNLOQCD\",\n",
    "                \"selection\": \"GenPartBoson_pt>=0.\",\n",
    "                \"weight\": \"df.WeightXsLumi*df.WeightPU*df.K_NLOQCD_NNLOQCD\",\n",
    "                \"hists\": [\"GenPartBoson_pt\"],\n",
    "            },\n",
    "            \"NNLOQCDnNLOEWK\": {\n",
    "                \"selection_name\": \"NNLOQCDnNLOEWK\",\n",
    "                \"selection\": \"GenPartBoson_pt>=0.\",\n",
    "                \"weight\": \"df.WeightXsLumi*df.WeightPU*df.K_NLOQCD_NNLOQCDnNLOEWK\",\n",
    "                \"hists\": [\"GenPartBoson_pt\"],\n",
    "            },\n",
    "        },\n",
    "        \"hists\": {\n",
    "            \"GenPartBoson_pt\": [\n",
    "                {\"table\": \"df: '{table_name}'\"},\n",
    "                {\"varname0\": \"df: 'GenPartBoson_pt'\"},\n",
    "                {\"selection\": \"df: '{selection_name}'\"},\n",
    "                {\"parent\": \"df: df.parent\"},\n",
    "                {\"binvar0\": \"df: df.GenPartBoson_pt_bin\"},\n",
    "                {\"count\": \"df: 1.\"},\n",
    "                {\"sum_w\": \"df: {weight}\"},\n",
    "                {\"sum_ww\": \"df: df.sum_w**2\"},\n",
    "            ],\n",
    "        },\n",
    "    },\n",
    "    \"files\": sorted(list(glob.glob(\"/vols/cms/sdb15/Analysis/ZinvWidth/databases/2019/11_Nov/11_HigherOrderCorrections/*.h5\"))),\n",
    "}\n",
    "\n",
    "with open(\"configs/hists/mc.yaml\", 'w') as f:\n",
    "    yaml.dump(cfg, f, indent=4)"
   ]
  },
  {
   "cell_type": "code",
   "execution_count": 5,
   "metadata": {},
   "outputs": [
    {
     "name": "stderr",
     "output_type": "stream",
     "text": [
      "2019-11-13 09:56:40,112 - pysge.area - INFO - Creating paths in /vols/build/cms/sdb15/phd/ZinvWidth/zinv-notebooks/notebooks/zinv/0_generate_tables/higher_order_corrections/_ccsp_temp/tpd_20191113_095640_lvq9lkcn\n"
     ]
    },
    {
     "data": {
      "application/vnd.jupyter.widget-view+json": {
       "model_id": "055a9c62cfd44893baa7687fa72feb75",
       "version_major": 2,
       "version_minor": 0
      },
      "text/plain": [
       "HBox(children=(IntProgress(value=0, max=459), HTML(value='')))"
      ]
     },
     "metadata": {},
     "output_type": "display_data"
    },
    {
     "name": "stderr",
     "output_type": "stream",
     "text": [
      "2019-11-13 09:56:46,069 - pysge.submitter - INFO - Submitted 7203623.1-459:1\n"
     ]
    },
    {
     "name": "stdout",
     "output_type": "stream",
     "text": [
      "\n"
     ]
    },
    {
     "data": {
      "application/vnd.jupyter.widget-view+json": {
       "model_id": "8c4bcf7f78154ff3ad7084ec41d4e4ab",
       "version_major": 2,
       "version_minor": 0
      },
      "text/plain": [
       "HBox(children=(IntProgress(value=0, description='Running ', max=459, style=ProgressStyle(description_width='in…"
      ]
     },
     "metadata": {},
     "output_type": "display_data"
    },
    {
     "data": {
      "application/vnd.jupyter.widget-view+json": {
       "model_id": "d3f11d45471e446aae15c215ed47efac",
       "version_major": 2,
       "version_minor": 0
      },
      "text/plain": [
       "HBox(children=(IntProgress(value=0, description='Finished', max=459, style=ProgressStyle(description_width='in…"
      ]
     },
     "metadata": {},
     "output_type": "display_data"
    },
    {
     "name": "stderr",
     "output_type": "stream",
     "text": [
      "2019-11-13 09:58:34,182 - pysge.area - INFO - Creating paths in /vols/build/cms/sdb15/phd/ZinvWidth/zinv-notebooks/notebooks/zinv/0_generate_tables/higher_order_corrections/_ccsp_temp/tpd_20191113_095834_p6ho7n33\n"
     ]
    },
    {
     "name": "stdout",
     "output_type": "stream",
     "text": [
      "\n"
     ]
    },
    {
     "data": {
      "application/vnd.jupyter.widget-view+json": {
       "model_id": "636dd06cb1584b11a2fdfaa94f436409",
       "version_major": 2,
       "version_minor": 0
      },
      "text/plain": [
       "HBox(children=(IntProgress(value=0, max=25), HTML(value='')))"
      ]
     },
     "metadata": {},
     "output_type": "display_data"
    },
    {
     "name": "stderr",
     "output_type": "stream",
     "text": [
      "2019-11-13 09:58:34,631 - pysge.submitter - INFO - Submitted 7203624.1-25:1\n"
     ]
    },
    {
     "name": "stdout",
     "output_type": "stream",
     "text": [
      "\n"
     ]
    },
    {
     "data": {
      "application/vnd.jupyter.widget-view+json": {
       "model_id": "79a1a4488b5041d0b1c0803e44bb973e",
       "version_major": 2,
       "version_minor": 0
      },
      "text/plain": [
       "HBox(children=(IntProgress(value=0, description='Running ', max=25, style=ProgressStyle(description_width='ini…"
      ]
     },
     "metadata": {},
     "output_type": "display_data"
    },
    {
     "data": {
      "application/vnd.jupyter.widget-view+json": {
       "model_id": "b2c325f2ba63467d81ece396341294bb",
       "version_major": 2,
       "version_minor": 0
      },
      "text/plain": [
       "HBox(children=(IntProgress(value=0, description='Finished', max=25, style=ProgressStyle(description_width='ini…"
      ]
     },
     "metadata": {},
     "output_type": "display_data"
    },
    {
     "name": "stdout",
     "output_type": "stream",
     "text": [
      "\n"
     ]
    },
    {
     "data": {
      "application/vnd.jupyter.widget-view+json": {
       "model_id": "c56189f93338477e9314cdf8d09410dc",
       "version_major": 2,
       "version_minor": 0
      },
      "text/plain": [
       "HBox(children=(IntProgress(value=0, description='Merged', layout=Layout(flex='2'), max=25, style=ProgressStyle…"
      ]
     },
     "metadata": {},
     "output_type": "display_data"
    },
    {
     "name": "stdout",
     "output_type": "stream",
     "text": [
      "\n"
     ]
    }
   ],
   "source": [
    "zdb.modules.analyse(\n",
    "    \"configs/hists/mc.yaml\",\n",
    "    mode=\"sge\",\n",
    "    ncores=-1,\n",
    "    batch_opts='-q hep.q -l h_vmem=12G',\n",
    "    output=\"data/hists.yaml:MCAggEvents\",\n",
    "    merge_opts={\"mode\": \"sge\", \"ncores\": 25, \"batch_opts\": '-q hep.q'},\n",
    ")"
   ]
  },
  {
   "cell_type": "code",
   "execution_count": 21,
   "metadata": {},
   "outputs": [
    {
     "name": "stdout",
     "output_type": "stream",
     "text": [
      "Welcome to JupyROOT 6.18/00\n"
     ]
    }
   ],
   "source": [
    "import numpy as np\n",
    "import pandas as pd\n",
    "import matplotlib.pyplot as plt\n",
    "import dftools"
   ]
  },
  {
   "cell_type": "code",
   "execution_count": 31,
   "metadata": {},
   "outputs": [],
   "source": [
    "plt.style.use(\"cms\")"
   ]
  },
  {
   "cell_type": "code",
   "execution_count": 18,
   "metadata": {},
   "outputs": [
    {
     "data": {
      "text/plain": [
       "Index(['NLOQCD', 'NLOQCDnNLOEWK', 'NNLOQCD', 'NNLOQCDnNLOEWK'], dtype='object', name='selection')"
      ]
     },
     "execution_count": 18,
     "metadata": {},
     "output_type": "execute_result"
    }
   ],
   "source": [
    "df = pd.read_hdf(\"data/hists.yaml\", \"MCAggEvents\")\n",
    "df.index.get_level_values(\"selection\").unique()"
   ]
  },
  {
   "cell_type": "code",
   "execution_count": 76,
   "metadata": {},
   "outputs": [],
   "source": [
    "def draw(df, bins, ax=None, **kwargs):\n",
    "    if ax is None:\n",
    "        ax = plt.axes()\n",
    "        \n",
    "    ax.hist(\n",
    "        bins,\n",
    "        bins = list(bins) + [2*bins[-1]-bins[-2]],\n",
    "        weights = df[\"sum_w\"],\n",
    "        **kwargs,\n",
    "    )\n",
    "    \n",
    "    ax.set_xlim(bins[0], 2*bins[-1]-bins[-2])\n",
    "    \n",
    "    return ax"
   ]
  },
  {
   "cell_type": "code",
   "execution_count": 80,
   "metadata": {},
   "outputs": [
    {
     "data": {
      "image/png": "[encoded data removed]",
      "text/plain": [
       "<Figure size 2100x450 with 3 Axes>"
      ]
     },
     "metadata": {
      "needs_background": "light"
     },
     "output_type": "display_data"
    }
   ],
   "source": [
    "fig, ax = plt.subplots(\n",
    "    figsize=(14, 3), dpi=150,\n",
    "    ncols=3,\n",
    ")\n",
    "bins = np.linspace(30., 3000., 101)\n",
    "\n",
    "vjets = \"WJetsToLNu\"\n",
    "num = df.loc[(\"central\", \"GenPartBoson_pt\", \"NLOQCD\", vjets),:]\n",
    "den = df.loc[(\"central\", \"GenPartBoson_pt\", \"NNLOQCD\", vjets),:]\n",
    "num = dftools.transform.rebin(num, bins=bins, label=\"binvar0\")\n",
    "den = dftools.transform.rebin(den, bins=bins, label=\"binvar0\")\n",
    "ratio = den/num\n",
    "draw(ratio, bins, ax=ax[0], histtype='step', color='#1f78b4', label=r'$\\mathrm{NLO\\ QCD}\\rightarrow\\mathrm{NNLO\\ QCD}$')\n",
    "\n",
    "den = df.loc[(\"central\", \"GenPartBoson_pt\", \"NLOQCDnNLOEWK\", vjets),:]\n",
    "num = dftools.transform.rebin(num, bins=bins, label=\"binvar0\")\n",
    "den = dftools.transform.rebin(den, bins=bins, label=\"binvar0\")\n",
    "ratio = den/num\n",
    "draw(ratio, bins, ax=ax[0], histtype='step', color='#33a02c', label=r'$\\mathrm{NLO\\ QCD}\\rightarrow\\mathrm{NLO\\ QCD}\\otimes\\mathrm{nNLO\\ EW}$')\n",
    "\n",
    "den = df.loc[(\"central\", \"GenPartBoson_pt\", \"NNLOQCDnNLOEWK\", vjets),:]\n",
    "num = dftools.transform.rebin(num, bins=bins, label=\"binvar0\")\n",
    "den = dftools.transform.rebin(den, bins=bins, label=\"binvar0\")\n",
    "ratio = den/num\n",
    "draw(ratio, bins, ax=ax[0], histtype='step', color='#e31a1c', label=r'$\\mathrm{NLO\\ QCD}\\rightarrow\\mathrm{NNLO\\ QCD}\\otimes\\mathrm{nNLO\\ EW}$')\n",
    "\n",
    "ax[0].set_ylim(0.8, 1.8)\n",
    "ax[0].legend(loc=3, title=r'$\\mathrm{W}(\\rightarrow\\ell\\nu)+\\mathrm{jets}$', borderpad=0.2, labelspacing=0.2)\n",
    "\n",
    "dftools.draw.cms_label(ax[0], '')\n",
    "ax[0].set_xlabel(r'$p_{\\mathrm{T},V}$ (GeV)')\n",
    "ax[0].set_ylabel(r'K-factors')\n",
    "\n",
    "\n",
    "vjets = \"DYJetsToLL\"\n",
    "num = df.loc[(\"central\", \"GenPartBoson_pt\", \"NLOQCD\", vjets),:]\n",
    "den = df.loc[(\"central\", \"GenPartBoson_pt\", \"NNLOQCD\", vjets),:]\n",
    "num = dftools.transform.rebin(num, bins=bins, label=\"binvar0\")\n",
    "den = dftools.transform.rebin(den, bins=bins, label=\"binvar0\")\n",
    "ratio = den/num\n",
    "draw(ratio, bins, ax=ax[1], histtype='step', color='#1f78b4', label=r'$\\mathrm{NLO\\ QCD}\\rightarrow\\mathrm{NNLO\\ QCD}$')\n",
    "\n",
    "den = df.loc[(\"central\", \"GenPartBoson_pt\", \"NLOQCDnNLOEWK\", vjets),:]\n",
    "num = dftools.transform.rebin(num, bins=bins, label=\"binvar0\")\n",
    "den = dftools.transform.rebin(den, bins=bins, label=\"binvar0\")\n",
    "ratio = den/num\n",
    "draw(ratio, bins, ax=ax[1], histtype='step', color='#33a02c', label=r'$\\mathrm{NLO\\ QCD}\\rightarrow\\mathrm{NLO\\ QCD}\\otimes\\mathrm{nNLO\\ EW}$')\n",
    "\n",
    "den = df.loc[(\"central\", \"GenPartBoson_pt\", \"NNLOQCDnNLOEWK\", vjets),:]\n",
    "num = dftools.transform.rebin(num, bins=bins, label=\"binvar0\")\n",
    "den = dftools.transform.rebin(den, bins=bins, label=\"binvar0\")\n",
    "ratio = den/num\n",
    "draw(ratio, bins, ax=ax[1], histtype='step', color='#e31a1c', label=r'$\\mathrm{NLO\\ QCD}\\rightarrow\\mathrm{NNLO\\ QCD}\\otimes\\mathrm{nNLO\\ EW}$')\n",
    "\n",
    "ax[1].legend(loc=3, title=r'$\\mathrm{Z}/\\gamma^{*}(\\rightarrow\\ell\\ell)+\\mathrm{jets}$', borderpad=0.2, labelspacing=0.2)\n",
    "\n",
    "dftools.draw.cms_label(ax[1], '')\n",
    "ax[1].set_xlabel(r'$p_{\\mathrm{T},V}$ (GeV)')\n",
    "\n",
    "\n",
    "vjets = \"ZJetsToNuNu\"\n",
    "num = df.loc[(\"central\", \"GenPartBoson_pt\", \"NLOQCD\", vjets),:]\n",
    "den = df.loc[(\"central\", \"GenPartBoson_pt\", \"NNLOQCD\", vjets),:]\n",
    "num = dftools.transform.rebin(num, bins=bins, label=\"binvar0\")\n",
    "den = dftools.transform.rebin(den, bins=bins, label=\"binvar0\")\n",
    "ratio = den/num\n",
    "draw(ratio, bins, ax=ax[2], histtype='step', color='#1f78b4', label=r'$\\mathrm{NLO\\ QCD}\\rightarrow\\mathrm{NNLO\\ QCD}$')\n",
    "\n",
    "den = df.loc[(\"central\", \"GenPartBoson_pt\", \"NLOQCDnNLOEWK\", vjets),:]\n",
    "num = dftools.transform.rebin(num, bins=bins, label=\"binvar0\")\n",
    "den = dftools.transform.rebin(den, bins=bins, label=\"binvar0\")\n",
    "ratio = den/num\n",
    "draw(ratio, bins, ax=ax[2], histtype='step', color='#33a02c', label=r'$\\mathrm{NLO\\ QCD}\\rightarrow\\mathrm{NLO\\ QCD}\\otimes\\mathrm{nNLO\\ EW}$')\n",
    "\n",
    "den = df.loc[(\"central\", \"GenPartBoson_pt\", \"NNLOQCDnNLOEWK\", vjets),:]\n",
    "num = dftools.transform.rebin(num, bins=bins, label=\"binvar0\")\n",
    "den = dftools.transform.rebin(den, bins=bins, label=\"binvar0\")\n",
    "ratio = den/num\n",
    "draw(ratio, bins, ax=ax[2], histtype='step', color='#e31a1c', label=r'$\\mathrm{NLO\\ QCD}\\rightarrow\\mathrm{NNLO\\ QCD}\\otimes\\mathrm{nNLO\\ EW}$')\n",
    "\n",
    "ax[2].legend(loc=3, title=r'$\\mathrm{Z}(\\rightarrow\\nu\\nu)+\\mathrm{jets}$', borderpad=0.2, labelspacing=0.2)\n",
    "\n",
    "dftools.draw.cms_label(ax[2], '')\n",
    "ax[2].set_xlabel(r'$p_{\\mathrm{T},V}$ (GeV)')\n",
    "\n",
    "ylim = (0.2, 1.2)\n",
    "ax[0].set_ylim(ylim)\n",
    "ax[1].set_ylim(ylim)\n",
    "ax[2].set_ylim(ylim)\n",
    "ax[0].set_xscale('log')\n",
    "ax[1].set_xscale('log')\n",
    "ax[2].set_xscale('log')"
   ]
  },
  {
   "cell_type": "code",
   "execution_count": 25,
   "metadata": {},
   "outputs": [
    {
     "name": "stdout",
     "output_type": "stream",
     "text": [
      "Help on function rebin in module dftools.transform:\n",
      "\n",
      "rebin(df, bins, label='binvar0', underflow=True, overflow=True)\n",
      "    Take a dataframe with the 'label' as an index and rebin/densify into the\n",
      "    input bins returning a new dataframe.\n",
      "    \n",
      "    Parameters\n",
      "    ----------\n",
      "    df : DataFrame-like\n",
      "        Dataframe with index `label` which will be rebinned (and densified)\n",
      "        into a new set of bins.\n",
      "    \n",
      "    bins : ndarray-like\n",
      "        The bins to rebin into.\n",
      "    \n",
      "    label : str (default, binvar0)\n",
      "        The index label to rebin. Other indexes are left alone.\n",
      "    \n",
      "    underflow : bool (default, True)\n",
      "        Include underflow entires in the lowest bin\n",
      "    \n",
      "    overflow : bool (default, True)\n",
      "        Include overflow entries in the highest bin\n",
      "\n"
     ]
    }
   ],
   "source": []
  },
  {
   "cell_type": "code",
   "execution_count": null,
   "metadata": {},
   "outputs": [],
   "source": []
  }
 ],
 "metadata": {
  "kernelspec": {
   "display_name": "Python 3",
   "language": "python",
   "name": "python3"
  },
  "language_info": {
   "codemirror_mode": {
    "name": "ipython",
    "version": 3
   },
   "file_extension": ".py",
   "mimetype": "text/x-python",
   "name": "python",
   "nbconvert_exporter": "python",
   "pygments_lexer": "ipython3",
   "version": "3.7.3"
  },
  "widgets": {
   "application/vnd.jupyter.widget-state+json": {
    "state": {
     "055a9c62cfd44893baa7687fa72feb75": {
      "model_module": "@jupyter-widgets/controls",
      "model_module_version": "1.5.0",
      "model_name": "HBoxModel",
      "state": {
       "children": [
        "IPY_MODEL_b3689f6ba6fa450daf9ccc1ddc5ab04c",
        "IPY_MODEL_d4545bf8d38f429aac39e4d16c0b8abf"
       ],
       "layout": "IPY_MODEL_b27be82363eb499f8caaa77c8729555c"
      }
     },
     "08cba52e8ca84d9f9ff0e6a9cc8f6897": {
      "model_module": "@jupyter-widgets/controls",
      "model_module_version": "1.5.0",
      "model_name": "IntProgressModel",
      "state": {
       "bar_style": "danger",
       "description": "Running ",
       "layout": "IPY_MODEL_a31de2660b5043f3b2ec9706d8094c65",
       "max": 25,
       "style": "IPY_MODEL_ec3194438fcd412fbd329d5f0246cd55"
      }
     },
     "12f52a44cb8c4659b83152be7e432f5c": {
      "model_module": "@jupyter-widgets/base",
      "model_module_version": "1.2.0",
      "model_name": "LayoutModel",
      "state": {}
     },
     "12f6eee680434f54a4cc4916ca12359b": {
      "model_module": "@jupyter-widgets/controls",
      "model_module_version": "1.5.0",
      "model_name": "HTMLModel",
      "state": {
       "layout": "IPY_MODEL_9eba9dec127d4bf8b39f1147412863f7",
       "style": "IPY_MODEL_ae82316da0b84751a3e9220cf2b49fad",
       "value": "  0% 0/25 [00:15&lt;?, ?it/s]"
      }
     },
     "14f0c752f20c4beca0f4a46985977cc8": {
      "model_module": "@jupyter-widgets/base",
      "model_module_version": "1.2.0",
      "model_name": "LayoutModel",
      "state": {}
     },
     "14f0d5ebe02648e98c9ca04a9a44c2e5": {
      "model_module": "@jupyter-widgets/base",
      "model_module_version": "1.2.0",
      "model_name": "LayoutModel",
      "state": {}
     },
     "199fd37689c543628f5c1e4fbbb92ccf": {
      "model_module": "@jupyter-widgets/controls",
      "model_module_version": "1.5.0",
      "model_name": "ProgressStyleModel",
      "state": {
       "description_width": ""
      }
     },
     "214586f58970406780910b3f25afc5c6": {
      "model_module": "@jupyter-widgets/base",
      "model_module_version": "1.2.0",
      "model_name": "LayoutModel",
      "state": {}
     },
     "2ea4ff5466d943618d987ef455412c87": {
      "model_module": "@jupyter-widgets/base",
      "model_module_version": "1.2.0",
      "model_name": "LayoutModel",
      "state": {}
     },
     "3464bc5f08b945bba932b813f01a7947": {
      "model_module": "@jupyter-widgets/base",
      "model_module_version": "1.2.0",
      "model_name": "LayoutModel",
      "state": {}
     },
     "3570aa2d82864677a8d51121dd226e15": {
      "model_module": "@jupyter-widgets/base",
      "model_module_version": "1.2.0",
      "model_name": "LayoutModel",
      "state": {}
     },
     "38c4286609664ec593d90f33a35abda1": {
      "model_module": "@jupyter-widgets/controls",
      "model_module_version": "1.5.0",
      "model_name": "ProgressStyleModel",
      "state": {
       "description_width": "initial"
      }
     },
     "3aaecde049474243832102fb6fb928d9": {
      "model_module": "@jupyter-widgets/controls",
      "model_module_version": "1.5.0",
      "model_name": "IntProgressModel",
      "state": {
       "bar_style": "success",
       "description": "Finished",
       "layout": "IPY_MODEL_bcd975f070ca4f9aaad5350f91884b0c",
       "max": 459,
       "style": "IPY_MODEL_b64a5d9999864b6cb7817d7f2e92f640",
       "value": 459
      }
     },
     "40a4c4c8ab2743f7a4b22bbb18299fa3": {
      "model_module": "@jupyter-widgets/controls",
      "model_module_version": "1.5.0",
      "model_name": "HTMLModel",
      "state": {
       "layout": "IPY_MODEL_ea0a52c0022141dbb1462552fb4570c3",
       "style": "IPY_MODEL_a63df445130349cbb2cea689617199f7",
       "value": "100% 25/25 [00:00&lt;00:00, 68.73it/s]"
      }
     },
     "56ac6d1c6a08488abfeec3857219ee44": {
      "model_module": "@jupyter-widgets/controls",
      "model_module_version": "1.5.0",
      "model_name": "HTMLModel",
      "state": {
       "layout": "IPY_MODEL_fc2d85ed8f9d4664b8772be16abd28d2",
       "style": "IPY_MODEL_b38a069f948946929a9d9a0fc2e6c0a0",
       "value": "  0% 0/459 [01:43&lt;?, ?it/s]"
      }
     },
     "636dd06cb1584b11a2fdfaa94f436409": {
      "model_module": "@jupyter-widgets/controls",
      "model_module_version": "1.5.0",
      "model_name": "HBoxModel",
      "state": {
       "children": [
        "IPY_MODEL_fcac6cce410548c5995ec7b123a2b0b0",
        "IPY_MODEL_40a4c4c8ab2743f7a4b22bbb18299fa3"
       ],
       "layout": "IPY_MODEL_7988344a45e4425c9a512742ecd0d2dd"
      }
     },
     "6780722a134943e08780826acf09056d": {
      "model_module": "@jupyter-widgets/base",
      "model_module_version": "1.2.0",
      "model_name": "LayoutModel",
      "state": {}
     },
     "701d830a8ade4e81ae3a8bdcbd0904ad": {
      "model_module": "@jupyter-widgets/controls",
      "model_module_version": "1.5.0",
      "model_name": "DescriptionStyleModel",
      "state": {
       "description_width": ""
      }
     },
     "7988344a45e4425c9a512742ecd0d2dd": {
      "model_module": "@jupyter-widgets/base",
      "model_module_version": "1.2.0",
      "model_name": "LayoutModel",
      "state": {}
     },
     "79a1a4488b5041d0b1c0803e44bb973e": {
      "model_module": "@jupyter-widgets/controls",
      "model_module_version": "1.5.0",
      "model_name": "HBoxModel",
      "state": {
       "children": [
        "IPY_MODEL_08cba52e8ca84d9f9ff0e6a9cc8f6897",
        "IPY_MODEL_12f6eee680434f54a4cc4916ca12359b"
       ],
       "layout": "IPY_MODEL_899478b1ff6e44109c9a301ddfe895ea"
      }
     },
     "7ca176b9d2644ed39975b65ea4bfa5af": {
      "model_module": "@jupyter-widgets/controls",
      "model_module_version": "1.5.0",
      "model_name": "DescriptionStyleModel",
      "state": {
       "description_width": ""
      }
     },
     "84468bb82c7941208ca86b9b03ba2fec": {
      "model_module": "@jupyter-widgets/controls",
      "model_module_version": "1.5.0",
      "model_name": "HTMLModel",
      "state": {
       "layout": "IPY_MODEL_14f0c752f20c4beca0f4a46985977cc8",
       "style": "IPY_MODEL_701d830a8ade4e81ae3a8bdcbd0904ad",
       "value": "100% 25/25 [00:20&lt;00:00,  1.23it/s]"
      }
     },
     "899478b1ff6e44109c9a301ddfe895ea": {
      "model_module": "@jupyter-widgets/base",
      "model_module_version": "1.2.0",
      "model_name": "LayoutModel",
      "state": {}
     },
     "8a8da28f210843dab402d4bb09cb379c": {
      "model_module": "@jupyter-widgets/controls",
      "model_module_version": "1.5.0",
      "model_name": "ProgressStyleModel",
      "state": {
       "description_width": ""
      }
     },
     "8c4bcf7f78154ff3ad7084ec41d4e4ab": {
      "model_module": "@jupyter-widgets/controls",
      "model_module_version": "1.5.0",
      "model_name": "HBoxModel",
      "state": {
       "children": [
        "IPY_MODEL_9254b8179dc8404e8923e3c926b6a56b",
        "IPY_MODEL_56ac6d1c6a08488abfeec3857219ee44"
       ],
       "layout": "IPY_MODEL_14f0d5ebe02648e98c9ca04a9a44c2e5"
      }
     },
     "9254b8179dc8404e8923e3c926b6a56b": {
      "model_module": "@jupyter-widgets/controls",
      "model_module_version": "1.5.0",
      "model_name": "IntProgressModel",
      "state": {
       "bar_style": "danger",
       "description": "Running ",
       "layout": "IPY_MODEL_214586f58970406780910b3f25afc5c6",
       "max": 459,
       "style": "IPY_MODEL_df9ec6ba54f64379838aa6856d809eda"
      }
     },
     "92adacdd145c462f93e258935bb856ed": {
      "model_module": "@jupyter-widgets/controls",
      "model_module_version": "1.5.0",
      "model_name": "DescriptionStyleModel",
      "state": {
       "description_width": ""
      }
     },
     "98a470c638664183a3f288653b35548c": {
      "model_module": "@jupyter-widgets/base",
      "model_module_version": "1.2.0",
      "model_name": "LayoutModel",
      "state": {}
     },
     "9eba9dec127d4bf8b39f1147412863f7": {
      "model_module": "@jupyter-widgets/base",
      "model_module_version": "1.2.0",
      "model_name": "LayoutModel",
      "state": {}
     },
     "a2e5c6a80c054425a69f2b40c2dfa6f0": {
      "model_module": "@jupyter-widgets/controls",
      "model_module_version": "1.5.0",
      "model_name": "IntProgressModel",
      "state": {
       "bar_style": "success",
       "description": "Merged",
       "layout": "IPY_MODEL_c57e28e8779848798d7a6340093eb6e1",
       "max": 25,
       "style": "IPY_MODEL_d6b36605ce0e4fa18c6d7d0645bae53b",
       "value": 25
      }
     },
     "a31de2660b5043f3b2ec9706d8094c65": {
      "model_module": "@jupyter-widgets/base",
      "model_module_version": "1.2.0",
      "model_name": "LayoutModel",
      "state": {}
     },
     "a63df445130349cbb2cea689617199f7": {
      "model_module": "@jupyter-widgets/controls",
      "model_module_version": "1.5.0",
      "model_name": "DescriptionStyleModel",
      "state": {
       "description_width": ""
      }
     },
     "ae82316da0b84751a3e9220cf2b49fad": {
      "model_module": "@jupyter-widgets/controls",
      "model_module_version": "1.5.0",
      "model_name": "DescriptionStyleModel",
      "state": {
       "description_width": ""
      }
     },
     "b0b4575cf1be49b9ae4e1693a3737492": {
      "model_module": "@jupyter-widgets/base",
      "model_module_version": "1.2.0",
      "model_name": "LayoutModel",
      "state": {}
     },
     "b27be82363eb499f8caaa77c8729555c": {
      "model_module": "@jupyter-widgets/base",
      "model_module_version": "1.2.0",
      "model_name": "LayoutModel",
      "state": {}
     },
     "b2c325f2ba63467d81ece396341294bb": {
      "model_module": "@jupyter-widgets/controls",
      "model_module_version": "1.5.0",
      "model_name": "HBoxModel",
      "state": {
       "children": [
        "IPY_MODEL_d483f4aaeb474b8da294127ae63f9e18",
        "IPY_MODEL_84468bb82c7941208ca86b9b03ba2fec"
       ],
       "layout": "IPY_MODEL_6780722a134943e08780826acf09056d"
      }
     },
     "b3689f6ba6fa450daf9ccc1ddc5ab04c": {
      "model_module": "@jupyter-widgets/controls",
      "model_module_version": "1.5.0",
      "model_name": "IntProgressModel",
      "state": {
       "bar_style": "success",
       "layout": "IPY_MODEL_12f52a44cb8c4659b83152be7e432f5c",
       "max": 459,
       "style": "IPY_MODEL_8a8da28f210843dab402d4bb09cb379c",
       "value": 459
      }
     },
     "b38a069f948946929a9d9a0fc2e6c0a0": {
      "model_module": "@jupyter-widgets/controls",
      "model_module_version": "1.5.0",
      "model_name": "DescriptionStyleModel",
      "state": {
       "description_width": ""
      }
     },
     "b64a5d9999864b6cb7817d7f2e92f640": {
      "model_module": "@jupyter-widgets/controls",
      "model_module_version": "1.5.0",
      "model_name": "ProgressStyleModel",
      "state": {
       "description_width": "initial"
      }
     },
     "bcd975f070ca4f9aaad5350f91884b0c": {
      "model_module": "@jupyter-widgets/base",
      "model_module_version": "1.2.0",
      "model_name": "LayoutModel",
      "state": {}
     },
     "c56189f93338477e9314cdf8d09410dc": {
      "model_module": "@jupyter-widgets/controls",
      "model_module_version": "1.5.0",
      "model_name": "HBoxModel",
      "state": {
       "children": [
        "IPY_MODEL_a2e5c6a80c054425a69f2b40c2dfa6f0",
        "IPY_MODEL_d6fb53c08d924ce6bb18c1a8cd9bbb10"
       ],
       "layout": "IPY_MODEL_db12a835040e48a2a3a9e6aabb127ab4"
      }
     },
     "c57e28e8779848798d7a6340093eb6e1": {
      "model_module": "@jupyter-widgets/base",
      "model_module_version": "1.2.0",
      "model_name": "LayoutModel",
      "state": {
       "flex": "2"
      }
     },
     "d3f11d45471e446aae15c215ed47efac": {
      "model_module": "@jupyter-widgets/controls",
      "model_module_version": "1.5.0",
      "model_name": "HBoxModel",
      "state": {
       "children": [
        "IPY_MODEL_3aaecde049474243832102fb6fb928d9",
        "IPY_MODEL_eacdb34f73e24069864cebef049678b1"
       ],
       "layout": "IPY_MODEL_2ea4ff5466d943618d987ef455412c87"
      }
     },
     "d4545bf8d38f429aac39e4d16c0b8abf": {
      "model_module": "@jupyter-widgets/controls",
      "model_module_version": "1.5.0",
      "model_name": "HTMLModel",
      "state": {
       "layout": "IPY_MODEL_b0b4575cf1be49b9ae4e1693a3737492",
       "style": "IPY_MODEL_7ca176b9d2644ed39975b65ea4bfa5af",
       "value": "100% 459/459 [00:05&lt;00:00, 78.75it/s]"
      }
     },
     "d483f4aaeb474b8da294127ae63f9e18": {
      "model_module": "@jupyter-widgets/controls",
      "model_module_version": "1.5.0",
      "model_name": "IntProgressModel",
      "state": {
       "bar_style": "success",
       "description": "Finished",
       "layout": "IPY_MODEL_3570aa2d82864677a8d51121dd226e15",
       "max": 25,
       "style": "IPY_MODEL_38c4286609664ec593d90f33a35abda1",
       "value": 25
      }
     },
     "d6b36605ce0e4fa18c6d7d0645bae53b": {
      "model_module": "@jupyter-widgets/controls",
      "model_module_version": "1.5.0",
      "model_name": "ProgressStyleModel",
      "state": {
       "description_width": "initial"
      }
     },
     "d6fb53c08d924ce6bb18c1a8cd9bbb10": {
      "model_module": "@jupyter-widgets/controls",
      "model_module_version": "1.5.0",
      "model_name": "HTMLModel",
      "state": {
       "layout": "IPY_MODEL_f15e50cd121f408cae3289f0b44158f9",
       "style": "IPY_MODEL_e0780190edf24e2abfe253917d7c20ef",
       "value": "100% 25/25 [00:00&lt;00:00, 37.64it/s]"
      }
     },
     "db12a835040e48a2a3a9e6aabb127ab4": {
      "model_module": "@jupyter-widgets/base",
      "model_module_version": "1.2.0",
      "model_name": "LayoutModel",
      "state": {
       "display": "inline-flex",
       "flex_flow": "row wrap",
       "width": "100%"
      }
     },
     "df9ec6ba54f64379838aa6856d809eda": {
      "model_module": "@jupyter-widgets/controls",
      "model_module_version": "1.5.0",
      "model_name": "ProgressStyleModel",
      "state": {
       "description_width": "initial"
      }
     },
     "e0780190edf24e2abfe253917d7c20ef": {
      "model_module": "@jupyter-widgets/controls",
      "model_module_version": "1.5.0",
      "model_name": "DescriptionStyleModel",
      "state": {
       "description_width": ""
      }
     },
     "ea0a52c0022141dbb1462552fb4570c3": {
      "model_module": "@jupyter-widgets/base",
      "model_module_version": "1.2.0",
      "model_name": "LayoutModel",
      "state": {}
     },
     "eacdb34f73e24069864cebef049678b1": {
      "model_module": "@jupyter-widgets/controls",
      "model_module_version": "1.5.0",
      "model_name": "HTMLModel",
      "state": {
       "layout": "IPY_MODEL_3464bc5f08b945bba932b813f01a7947",
       "style": "IPY_MODEL_92adacdd145c462f93e258935bb856ed",
       "value": "100% 459/459 [01:48&lt;00:00,  4.25it/s]"
      }
     },
     "ec3194438fcd412fbd329d5f0246cd55": {
      "model_module": "@jupyter-widgets/controls",
      "model_module_version": "1.5.0",
      "model_name": "ProgressStyleModel",
      "state": {
       "description_width": "initial"
      }
     },
     "f15e50cd121f408cae3289f0b44158f9": {
      "model_module": "@jupyter-widgets/base",
      "model_module_version": "1.2.0",
      "model_name": "LayoutModel",
      "state": {}
     },
     "fc2d85ed8f9d4664b8772be16abd28d2": {
      "model_module": "@jupyter-widgets/base",
      "model_module_version": "1.2.0",
      "model_name": "LayoutModel",
      "state": {}
     },
     "fcac6cce410548c5995ec7b123a2b0b0": {
      "model_module": "@jupyter-widgets/controls",
      "model_module_version": "1.5.0",
      "model_name": "IntProgressModel",
      "state": {
       "bar_style": "success",
       "layout": "IPY_MODEL_98a470c638664183a3f288653b35548c",
       "max": 25,
       "style": "IPY_MODEL_199fd37689c543628f5c1e4fbbb92ccf",
       "value": 25
      }
     }
    },
    "version_major": 2,
    "version_minor": 0
   }
  }
 },
 "nbformat": 4,
 "nbformat_minor": 4
}
