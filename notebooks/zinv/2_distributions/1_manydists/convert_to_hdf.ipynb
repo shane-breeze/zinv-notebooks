{
 "cells": [
  {
   "cell_type": "code",
   "execution_count": 1,
   "metadata": {},
   "outputs": [],
   "source": [
    "import zquery\n",
    "import numpy as np\n",
    "import pandas as pd\n",
    "import glob"
   ]
  },
  {
   "cell_type": "code",
   "execution_count": 2,
   "metadata": {},
   "outputs": [],
   "source": [
    "def convert(path, trees=[], outdir=\"\"):\n",
    "    import os\n",
    "    import pandas as pd\n",
    "    for tree in trees:\n",
    "        new_path = os.path.join(\n",
    "            outdir, os.path.basename(path),\n",
    "        )\n",
    "        pd.read_hdf(path, tree).to_hdf(\n",
    "            new_path, tree,\n",
    "            format='fixed', append=False,\n",
    "            complib='zlib', complevel=9,\n",
    "        )"
   ]
  },
  {
   "cell_type": "code",
   "execution_count": 3,
   "metadata": {},
   "outputs": [],
   "source": [
    "paths = sorted(glob.glob(\"/vols/cms/sdb15/Analysis/ZinvWidth/databases/full/2020/02_Feb/10_SingleTable_FixObjectWeights/new_partitions/data/*.h5\"))"
   ]
  },
  {
   "cell_type": "code",
   "execution_count": 4,
   "metadata": {},
   "outputs": [],
   "source": [
    "cfg = {\n",
    "    \"convert\": {\n",
    "        \"func\": \"zquery.analysis_functions:convert\",\n",
    "        \"kwargs\": {\n",
    "            \"trees\": [\"Events\"],\n",
    "            \"outdir\": \"/vols/cms/sdb15/Analysis/ZinvWidth/databases/full/2020/02_Feb/10_SingleTable_FixObjectWeights/fixed_tables/data/\",\n",
    "            \"kwargs\": {\n",
    "                \"format\": \"fixed\", \"append\": False,\n",
    "                \"complib\": \"zlib\", \"complevel\": 9,\n",
    "            }\n",
    "        },\n",
    "    }\n",
    "}"
   ]
  },
  {
   "cell_type": "code",
   "execution_count": null,
   "metadata": {},
   "outputs": [
    {
     "name": "stderr",
     "output_type": "stream",
     "text": [
      "2020-02-16 14:09:28,797 - pysge.area - INFO - Creating paths in /vols/build/cms/sdb15/phd/ZinvWidth/zinv-notebooks/notebooks/zinv/2_distributions/1_manydists/_ccsp_temp/tpd_20200216_140928_ut5zqire\n"
     ]
    },
    {
     "data": {
      "application/vnd.jupyter.widget-view+json": {
       "model_id": "92772413abfa404d909ceaa774a80490",
       "version_major": 2,
       "version_minor": 0
      },
      "text/plain": [
       "HBox(children=(FloatProgress(value=0.0, layout=Layout(flex='2'), max=500.0), HTML(value='')), layout=Layout(di…"
      ]
     },
     "metadata": {},
     "output_type": "display_data"
    },
    {
     "name": "stderr",
     "output_type": "stream",
     "text": [
      "2020-02-16 14:09:33,731 - pysge.submitter - INFO - Submitted 8429988.1-500:1\n"
     ]
    },
    {
     "name": "stdout",
     "output_type": "stream",
     "text": [
      "\n"
     ]
    },
    {
     "data": {
      "application/vnd.jupyter.widget-view+json": {
       "model_id": "f4158dbe2e11414ca194b24db1475913",
       "version_major": 2,
       "version_minor": 0
      },
      "text/plain": [
       "HBox(children=(FloatProgress(value=0.0, description='Running ', layout=Layout(flex='2'), max=500.0, style=Prog…"
      ]
     },
     "metadata": {},
     "output_type": "display_data"
    },
    {
     "data": {
      "application/vnd.jupyter.widget-view+json": {
       "model_id": "9064585218cb4a8db039f4cc9b1b97d9",
       "version_major": 2,
       "version_minor": 0
      },
      "text/plain": [
       "HBox(children=(FloatProgress(value=0.0, description='Finished', layout=Layout(flex='2'), max=500.0, style=Prog…"
      ]
     },
     "metadata": {},
     "output_type": "display_data"
    }
   ],
   "source": [
    "zquery.process_tables(\n",
    "    cfg,\n",
    "    [\"convert\"],\n",
    "    paths,\n",
    "    njobs=500,\n",
    "    pysge_func='sge_submit',\n",
    "    pysge_args=(\"fixed\", \"_ccsp_temp\"),\n",
    "    pysge_kwargs={\"options\": \"-q hep.q -l h_rt=3:0:0 -l h_vmem=12G\"},\n",
    ")"
   ]
  },
  {
   "cell_type": "code",
   "execution_count": null,
   "metadata": {},
   "outputs": [],
   "source": []
  }
 ],
 "metadata": {
  "kernelspec": {
   "display_name": "Python 3",
   "language": "python",
   "name": "python3"
  },
  "language_info": {
   "codemirror_mode": {
    "name": "ipython",
    "version": 3
   },
   "file_extension": ".py",
   "mimetype": "text/x-python",
   "name": "python",
   "nbconvert_exporter": "python",
   "pygments_lexer": "ipython3",
   "version": "3.8.1"
  },
  "widgets": {
   "application/vnd.jupyter.widget-state+json": {
    "state": {},
    "version_major": 2,
    "version_minor": 0
   }
  }
 },
 "nbformat": 4,
 "nbformat_minor": 4
}
