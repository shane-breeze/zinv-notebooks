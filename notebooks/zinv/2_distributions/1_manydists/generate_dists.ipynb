{
 "cells": [
  {
   "cell_type": "code",
   "execution_count": 1,
   "metadata": {},
   "outputs": [],
   "source": [
    "import zquery\n",
    "import zquery.analysis_functions\n",
    "import numpy as np\n",
    "import pandas as pd\n",
    "import glob\n",
    "import yaml\n",
    "import functools"
   ]
  },
  {
   "cell_type": "code",
   "execution_count": 2,
   "metadata": {},
   "outputs": [],
   "source": [
    "%load_ext line_profiler\n",
    "%load_ext memory_profiler"
   ]
  },
  {
   "cell_type": "code",
   "execution_count": 3,
   "metadata": {},
   "outputs": [],
   "source": [
    "with open(\"configs/mc.yaml\", 'r') as f:\n",
    "    cfg = yaml.safe_load(f)\n",
    "    \n",
    "with open(\"configs/mc_test.yaml\", 'r') as f:\n",
    "    cfg_test = yaml.safe_load(f)"
   ]
  },
  {
   "cell_type": "code",
   "execution_count": 4,
   "metadata": {},
   "outputs": [],
   "source": [
    "paths = sorted(glob.glob(\"/vols/cms/sdb15/Analysis/ZinvWidth/databases/full/2020/02_Feb/10_SingleTable_FixObjectWeights/new_partitions/mc/*.h5\"))\n",
    "paths = paths[:5]"
   ]
  },
  {
   "cell_type": "code",
   "execution_count": 5,
   "metadata": {},
   "outputs": [
    {
     "data": {
      "application/vnd.jupyter.widget-view+json": {
       "model_id": "6bfce13dffa84559b6959dcae5aa7bb3",
       "version_major": 2,
       "version_minor": 0
      },
      "text/plain": [
       "HBox(children=(FloatProgress(value=0.0, description='Finished', layout=Layout(flex='2'), max=5.0, style=Progre…"
      ]
     },
     "metadata": {},
     "output_type": "display_data"
    },
    {
     "name": "stdout",
     "output_type": "stream",
     "text": [
      "\n"
     ]
    },
    {
     "data": {
      "text/plain": [
       "Timer unit: 1e-06 s\n",
       "\n",
       "Total time: 59.9949 s\n",
       "File: /vols/build/cms/sdb15/phd/ZinvWidth/zinv-notebooks/externals/zquery/zquery/analysis_functions.py\n",
       "Function: histogram at line 366\n",
       "\n",
       "Line #      Hits         Time  Per Hit   % Time  Line Contents\n",
       "==============================================================\n",
       "   366                                           def histogram(path, **kwargs):\n",
       "   367         5       8819.0   1763.8      0.0      df_hist = pd.DataFrame()\n",
       "   368        10   26795713.0 2679571.3     44.7      for df in pd.read_hdf(path, **kwargs[\"input\"]):\n",
       "   369         5         24.0      4.8      0.0          if \"lambdas\" in kwargs:\n",
       "   370        15         60.0      4.0      0.0              for key, func in kwargs[\"lambdas\"].items():\n",
       "   371        10    1997984.0 199798.4      3.3                  df[key] = eval(f'lambda {func}')(df)\n",
       "   372                                           \n",
       "   373         5          6.0      1.2      0.0          if \"evals\" in kwargs:\n",
       "   374         5    1344756.0 268951.2      2.2              df.eval(\"\\n\".join(kwargs[\"evals\"]), inplace=True)\n",
       "   375                                           \n",
       "   376        65         96.0      1.5      0.0          for cfg in kwargs[\"cfgs\"]:\n",
       "   377       180        388.0      2.2      0.0              for keymap in cfg[\"eval_keys\"]:\n",
       "   378       120        116.0      1.0      0.0                  if \"lambdas\" in cfg:\n",
       "   379       360        635.0      1.8      0.0                      for key, func in cfg[\"lambdas\"].items():\n",
       "   380       240     631587.0   2631.6      1.1                          df[key] = eval('lambda {}'.format(func.format(**keymap)))(df)\n",
       "   381       120        121.0      1.0      0.0                  if \"evals\" in cfg:\n",
       "   382       120    9706348.0  80886.2     16.2                      df.eval(\"\\n\".join(cfg[\"evals\"]).format(**keymap), inplace=True)\n",
       "   383       120        347.0      2.9      0.0                  if \"query\" in cfg:\n",
       "   384       120   16775653.0 139797.1     28.0                      tdf = df.query(cfg[\"query\"].format(**keymap))\n",
       "   385       120     198824.0   1656.9      0.3                      tdf = tdf.loc[:,cfg[\"columns\"]]\n",
       "   386       120     980043.0   8167.0      1.6                      tdf = tdf.groupby(cfg[\"groupby\"]).agg(cfg[\"agg\"])\n",
       "   387       120    1553404.0  12945.0      2.6                      df_hist = _df_merge(df_hist, tdf)\n",
       "   388                                                           else:\n",
       "   389                                                               tdf = df.loc[:,cfg[\"columns\"]]\n",
       "   390                                                               tdf = tdf.groupby(cfg[\"groupby\"]).agg(cfg[\"agg\"])\n",
       "   391                                                               df_hist = _df_merge(df_hist, tdf)\n",
       "   392         5          6.0      1.2      0.0      return df_hist"
      ]
     },
     "metadata": {},
     "output_type": "display_data"
    }
   ],
   "source": [
    "%lprun -f zquery.analysis_functions.histogram zquery.process_tables(cfg, [\"histogram\"], paths)"
   ]
  },
  {
   "cell_type": "code",
   "execution_count": 6,
   "metadata": {},
   "outputs": [
    {
     "data": {
      "application/vnd.jupyter.widget-view+json": {
       "model_id": "7554c3e520d34b2d89d1a4ab3716682a",
       "version_major": 2,
       "version_minor": 0
      },
      "text/plain": [
       "HBox(children=(FloatProgress(value=0.0, description='Finished', layout=Layout(flex='2'), max=5.0, style=Progre…"
      ]
     },
     "metadata": {},
     "output_type": "display_data"
    },
    {
     "name": "stdout",
     "output_type": "stream",
     "text": [
      "\n"
     ]
    },
    {
     "data": {
      "text/plain": [
       "Timer unit: 1e-06 s\n",
       "\n",
       "Total time: 62.3265 s\n",
       "File: /vols/build/cms/sdb15/phd/ZinvWidth/zinv-notebooks/externals/zquery/zquery/analysis_functions.py\n",
       "Function: histogram at line 366\n",
       "\n",
       "Line #      Hits         Time  Per Hit   % Time  Line Contents\n",
       "==============================================================\n",
       "   366                                           def histogram(path, **kwargs):\n",
       "   367         5       5042.0   1008.4      0.0      df_hist = pd.DataFrame()\n",
       "   368        10   26881458.0 2688145.8     43.1      for df in pd.read_hdf(path, **kwargs[\"input\"]):\n",
       "   369         5         23.0      4.6      0.0          if \"lambdas\" in kwargs:\n",
       "   370        15         55.0      3.7      0.0              for key, func in kwargs[\"lambdas\"].items():\n",
       "   371        10    1944053.0 194405.3      3.1                  df[key] = eval(f'lambda {func}')(df)\n",
       "   372                                           \n",
       "   373         5          7.0      1.4      0.0          if \"evals\" in kwargs:\n",
       "   374         5    1133478.0 226695.6      1.8              df.eval(\"\\n\".join(kwargs[\"evals\"]), inplace=True)\n",
       "   375                                           \n",
       "   376        65         81.0      1.2      0.0          for cfg in kwargs[\"cfgs\"]:\n",
       "   377       180        320.0      1.8      0.0              for keymap in cfg[\"eval_keys\"]:\n",
       "   378       120        122.0      1.0      0.0                  if \"lambdas\" in cfg:\n",
       "   379       360        582.0      1.6      0.0                      for key, func in cfg[\"lambdas\"].items():\n",
       "   380       240     607911.0   2533.0      1.0                          df[key] = eval('lambda {}'.format(func.format(**keymap)))(df)\n",
       "   381       120        123.0      1.0      0.0                  if \"evals\" in cfg:\n",
       "   382       120   10759785.0  89664.9     17.3                      df.eval(\"\\n\".join(cfg[\"evals\"]).format(**keymap), inplace=True)\n",
       "   383       120        295.0      2.5      0.0                  if \"query\" in cfg:\n",
       "   384                                                               tdf = df.query(cfg[\"query\"].format(**keymap))\n",
       "   385                                                               tdf = tdf.loc[:,cfg[\"columns\"]]\n",
       "   386                                                               tdf = tdf.groupby(cfg[\"groupby\"]).agg(cfg[\"agg\"])\n",
       "   387                                                               df_hist = _df_merge(df_hist, tdf)\n",
       "   388                                                           else:\n",
       "   389       120    6425058.0  53542.2     10.3                      tdf = df.loc[:,cfg[\"columns\"]]\n",
       "   390       120   10236973.0  85308.1     16.4                      tdf = tdf.groupby(cfg[\"groupby\"]).agg(cfg[\"agg\"])\n",
       "   391       120    4331132.0  36092.8      6.9                      df_hist = _df_merge(df_hist, tdf)\n",
       "   392         5          5.0      1.0      0.0      return df_hist"
      ]
     },
     "metadata": {},
     "output_type": "display_data"
    }
   ],
   "source": [
    "%lprun -f zquery.analysis_functions.histogram zquery.process_tables(cfg_test, [\"histogram\"], paths)"
   ]
  },
  {
   "cell_type": "code",
   "execution_count": 7,
   "metadata": {},
   "outputs": [
    {
     "data": {
      "application/vnd.jupyter.widget-view+json": {
       "model_id": "241f22d01f984dafbcfa44b563afc767",
       "version_major": 2,
       "version_minor": 0
      },
      "text/plain": [
       "HBox(children=(FloatProgress(value=0.0, description='Finished', layout=Layout(flex='2'), max=5.0, style=Progre…"
      ]
     },
     "metadata": {},
     "output_type": "display_data"
    },
    {
     "data": {
      "text/plain": [
       "Filename: /vols/build/cms/sdb15/phd/ZinvWidth/zinv-notebooks/externals/zquery/zquery/analysis_functions.py\n",
       "\n",
       "Line #    Mem usage    Increment   Line Contents\n",
       "================================================\n",
       "   366    225.9 MiB    218.5 MiB   def histogram(path, **kwargs):\n",
       "   367    225.9 MiB      0.0 MiB       df_hist = pd.DataFrame()\n",
       "   368   1842.5 MiB   1368.7 MiB       for df in pd.read_hdf(path, **kwargs[\"input\"]):\n",
       "   369   1588.1 MiB      0.0 MiB           if \"lambdas\" in kwargs:\n",
       "   370   1714.2 MiB      0.0 MiB               for key, func in kwargs[\"lambdas\"].items():\n",
       "   371   1714.2 MiB    126.9 MiB                   df[key] = eval(f'lambda {func}')(df)\n",
       "   372                             \n",
       "   373   1714.2 MiB      0.0 MiB           if \"evals\" in kwargs:\n",
       "   374   1767.6 MiB     53.4 MiB               df.eval(\"\\n\".join(kwargs[\"evals\"]), inplace=True)\n",
       "   375                             \n",
       "   376   1842.5 MiB      0.0 MiB           for cfg in kwargs[\"cfgs\"]:\n",
       "   377   1842.5 MiB      0.0 MiB               for keymap in cfg[\"eval_keys\"]:\n",
       "   378   1842.5 MiB      0.0 MiB                   if \"lambdas\" in cfg:\n",
       "   379   1842.5 MiB      0.0 MiB                       for key, func in cfg[\"lambdas\"].items():\n",
       "   380   1842.5 MiB      0.0 MiB                           df[key] = eval('lambda {}'.format(func.format(**keymap)))(df)\n",
       "   381   1842.5 MiB      0.0 MiB                   if \"evals\" in cfg:\n",
       "   382   1842.5 MiB      0.0 MiB                       df.eval(\"\\n\".join(cfg[\"evals\"]).format(**keymap), inplace=True)\n",
       "   383   1842.5 MiB      0.0 MiB                   if \"query\" in cfg:\n",
       "   384   1842.5 MiB     74.9 MiB                       tdf = df.query(cfg[\"query\"].format(**keymap))\n",
       "   385   1842.5 MiB      0.0 MiB                       tdf = tdf.loc[:,cfg[\"columns\"]]\n",
       "   386   1842.5 MiB      0.0 MiB                       tdf = tdf.groupby(cfg[\"groupby\"]).agg(cfg[\"agg\"])\n",
       "   387   1842.5 MiB      0.0 MiB                       df_hist = _df_merge(df_hist, tdf)\n",
       "   388                                             else:\n",
       "   389                                                 tdf = df.loc[:,cfg[\"columns\"]]\n",
       "   390                                                 tdf = tdf.groupby(cfg[\"groupby\"]).agg(cfg[\"agg\"])\n",
       "   391                                                 df_hist = _df_merge(df_hist, tdf)\n",
       "   392   1842.5 MiB      0.0 MiB       return df_hist"
      ]
     },
     "metadata": {},
     "output_type": "display_data"
    },
    {
     "name": "stdout",
     "output_type": "stream",
     "text": [
      "\n",
      "\n"
     ]
    }
   ],
   "source": [
    "%mprun -f zquery.analysis_functions.histogram zquery.process_tables(cfg, [\"histogram\"], paths)"
   ]
  },
  {
   "cell_type": "code",
   "execution_count": 8,
   "metadata": {},
   "outputs": [
    {
     "data": {
      "application/vnd.jupyter.widget-view+json": {
       "model_id": "c9783bbed71248b9ad3e86273f1d61bb",
       "version_major": 2,
       "version_minor": 0
      },
      "text/plain": [
       "HBox(children=(FloatProgress(value=0.0, description='Finished', layout=Layout(flex='2'), max=5.0, style=Progre…"
      ]
     },
     "metadata": {},
     "output_type": "display_data"
    },
    {
     "data": {
      "text/plain": [
       "Filename: /vols/build/cms/sdb15/phd/ZinvWidth/zinv-notebooks/externals/zquery/zquery/analysis_functions.py\n",
       "\n",
       "Line #    Mem usage    Increment   Line Contents\n",
       "================================================\n",
       "   366    258.7 MiB    223.7 MiB   def histogram(path, **kwargs):\n",
       "   367    258.7 MiB      0.0 MiB       df_hist = pd.DataFrame()\n",
       "   368   1845.6 MiB   1363.2 MiB       for df in pd.read_hdf(path, **kwargs[\"input\"]):\n",
       "   369   1609.4 MiB      0.0 MiB           if \"lambdas\" in kwargs:\n",
       "   370   1721.1 MiB      0.0 MiB               for key, func in kwargs[\"lambdas\"].items():\n",
       "   371   1721.1 MiB    126.2 MiB                   df[key] = eval(f'lambda {func}')(df)\n",
       "   372                             \n",
       "   373   1721.1 MiB      0.0 MiB           if \"evals\" in kwargs:\n",
       "   374   1771.9 MiB     51.6 MiB               df.eval(\"\\n\".join(kwargs[\"evals\"]), inplace=True)\n",
       "   375                             \n",
       "   376   1845.6 MiB      0.0 MiB           for cfg in kwargs[\"cfgs\"]:\n",
       "   377   1845.6 MiB      0.0 MiB               for keymap in cfg[\"eval_keys\"]:\n",
       "   378   1845.6 MiB      0.0 MiB                   if \"lambdas\" in cfg:\n",
       "   379   1845.6 MiB      0.0 MiB                       for key, func in cfg[\"lambdas\"].items():\n",
       "   380   1845.6 MiB      0.0 MiB                           df[key] = eval('lambda {}'.format(func.format(**keymap)))(df)\n",
       "   381   1845.6 MiB      0.0 MiB                   if \"evals\" in cfg:\n",
       "   382   1845.6 MiB      0.8 MiB                       df.eval(\"\\n\".join(cfg[\"evals\"]).format(**keymap), inplace=True)\n",
       "   383   1845.6 MiB      0.0 MiB                   if \"query\" in cfg:\n",
       "   384                                                 tdf = df.query(cfg[\"query\"].format(**keymap))\n",
       "   385                                                 tdf = tdf.loc[:,cfg[\"columns\"]]\n",
       "   386                                                 tdf = tdf.groupby(cfg[\"groupby\"]).agg(cfg[\"agg\"])\n",
       "   387                                                 df_hist = _df_merge(df_hist, tdf)\n",
       "   388                                             else:\n",
       "   389   1845.6 MiB     73.0 MiB                       tdf = df.loc[:,cfg[\"columns\"]]\n",
       "   390   1845.6 MiB      0.0 MiB                       tdf = tdf.groupby(cfg[\"groupby\"]).agg(cfg[\"agg\"])\n",
       "   391   1845.6 MiB      0.0 MiB                       df_hist = _df_merge(df_hist, tdf)\n",
       "   392   1845.6 MiB      0.0 MiB       return df_hist"
      ]
     },
     "metadata": {},
     "output_type": "display_data"
    },
    {
     "name": "stdout",
     "output_type": "stream",
     "text": [
      "\n",
      "\n"
     ]
    }
   ],
   "source": [
    "%mprun -f zquery.analysis_functions.histogram zquery.process_tables(cfg_test, [\"histogram\"], paths)"
   ]
  },
  {
   "cell_type": "code",
   "execution_count": 1,
   "metadata": {},
   "outputs": [
    {
     "ename": "NameError",
     "evalue": "name 'functools' is not defined",
     "output_type": "error",
     "traceback": [
      "\u001b[0;31m---------------------------------------------------------------------------\u001b[0m",
      "\u001b[0;31mNameError\u001b[0m                                 Traceback (most recent call last)",
      "\u001b[0;32m<ipython-input-1-dfedeaa34bb3>\u001b[0m in \u001b[0;36m<module>\u001b[0;34m\u001b[0m\n\u001b[0;32m----> 1\u001b[0;31m \u001b[0mresult\u001b[0m \u001b[0;34m=\u001b[0m \u001b[0mfunctools\u001b[0m\u001b[0;34m.\u001b[0m\u001b[0mreduce\u001b[0m\u001b[0;34m(\u001b[0m\u001b[0;32mlambda\u001b[0m \u001b[0mx\u001b[0m\u001b[0;34m,\u001b[0m\u001b[0my\u001b[0m\u001b[0;34m:\u001b[0m \u001b[0mzquery\u001b[0m\u001b[0;34m.\u001b[0m\u001b[0manalysis_functions\u001b[0m\u001b[0;34m.\u001b[0m\u001b[0m_df_merge\u001b[0m\u001b[0;34m(\u001b[0m\u001b[0mx\u001b[0m\u001b[0;34m,\u001b[0m\u001b[0my\u001b[0m\u001b[0;34m)\u001b[0m\u001b[0;34m,\u001b[0m \u001b[0;34m[\u001b[0m\u001b[0mr\u001b[0m \u001b[0;32mfor\u001b[0m \u001b[0mrs\u001b[0m \u001b[0;32min\u001b[0m \u001b[0mresults\u001b[0m \u001b[0;32mfor\u001b[0m \u001b[0mr\u001b[0m \u001b[0;32min\u001b[0m \u001b[0mrs\u001b[0m\u001b[0;34m]\u001b[0m\u001b[0;34m)\u001b[0m\u001b[0;34m\u001b[0m\u001b[0;34m\u001b[0m\u001b[0m\n\u001b[0m\u001b[1;32m      2\u001b[0m result.to_hdf(\n\u001b[1;32m      3\u001b[0m     \u001b[0;34m\"data/dists.h5\"\u001b[0m\u001b[0;34m,\u001b[0m \u001b[0;34m\"MCAggEvents\"\u001b[0m\u001b[0;34m,\u001b[0m\u001b[0;34m\u001b[0m\u001b[0;34m\u001b[0m\u001b[0m\n\u001b[1;32m      4\u001b[0m     \u001b[0mformat\u001b[0m\u001b[0;34m=\u001b[0m\u001b[0;34m'table'\u001b[0m\u001b[0;34m,\u001b[0m \u001b[0mappend\u001b[0m\u001b[0;34m=\u001b[0m\u001b[0;32mFalse\u001b[0m\u001b[0;34m,\u001b[0m\u001b[0;34m\u001b[0m\u001b[0;34m\u001b[0m\u001b[0m\n\u001b[1;32m      5\u001b[0m     \u001b[0mcomplib\u001b[0m\u001b[0;34m=\u001b[0m\u001b[0;34m'zlib'\u001b[0m\u001b[0;34m,\u001b[0m \u001b[0mcomplevel\u001b[0m\u001b[0;34m=\u001b[0m\u001b[0;36m9\u001b[0m\u001b[0;34m,\u001b[0m\u001b[0;34m\u001b[0m\u001b[0;34m\u001b[0m\u001b[0m\n",
      "\u001b[0;31mNameError\u001b[0m: name 'functools' is not defined"
     ]
    }
   ],
   "source": [
    "result = functools.reduce(lambda x,y: zquery.analysis_functions._df_merge(x,y), [r for rs in results for r in rs])\n",
    "result.to_hdf(\n",
    "    \"data/dists.h5\", \"MCAggEvents\", \n",
    "    format='table', append=False,\n",
    "    complib='zlib', complevel=9,\n",
    ")"
   ]
  },
  {
   "cell_type": "code",
   "execution_count": null,
   "metadata": {},
   "outputs": [],
   "source": []
  }
 ],
 "metadata": {
  "kernelspec": {
   "display_name": "Python 3",
   "language": "python",
   "name": "python3"
  },
  "language_info": {
   "codemirror_mode": {
    "name": "ipython",
    "version": 3
   },
   "file_extension": ".py",
   "mimetype": "text/x-python",
   "name": "python",
   "nbconvert_exporter": "python",
   "pygments_lexer": "ipython3",
   "version": "3.8.1"
  },
  "widgets": {
   "application/vnd.jupyter.widget-state+json": {
    "state": {},
    "version_major": 2,
    "version_minor": 0
   }
  }
 },
 "nbformat": 4,
 "nbformat_minor": 4
}
