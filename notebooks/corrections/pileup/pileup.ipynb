{
 "cells": [
  {
   "cell_type": "code",
   "execution_count": 11,
   "metadata": {},
   "outputs": [],
   "source": [
    "import numpy as np\n",
    "import pandas as pd\n",
    "import matplotlib.pyplot as plt\n",
    "import seaborn as sns\n",
    "import uproot\n",
    "import dftools"
   ]
  },
  {
   "cell_type": "code",
   "execution_count": 3,
   "metadata": {},
   "outputs": [],
   "source": [
    "plt.style.use(\"cms\")"
   ]
  },
  {
   "cell_type": "code",
   "execution_count": 4,
   "metadata": {},
   "outputs": [],
   "source": [
    "f = uproot.open(\"data_pileup.root\")\n",
    "hist_data_nominal, bins = f[\"pileup_nominal\"].numpy()\n",
    "hist_data_up, _ = f[\"pileup_up\"].numpy()\n",
    "hist_data_down, _ = f[\"pileup_down\"].numpy()"
   ]
  },
  {
   "cell_type": "code",
   "execution_count": 5,
   "metadata": {},
   "outputs": [],
   "source": [
    "f = uproot.open(\"mc_pileup.root\")\n",
    "hist_mc, _ = f[\"pileup\"].numpy()"
   ]
  },
  {
   "cell_type": "code",
   "execution_count": 6,
   "metadata": {},
   "outputs": [],
   "source": [
    "hist_ratio_nominal = np.divide(hist_data_nominal/hist_data_nominal.sum(), hist_mc/hist_mc.sum(), out=np.zeros_like(hist_mc), where=(hist_mc!=0))\n",
    "hist_ratio_up = np.divide(hist_data_up/hist_data_nominal.sum(), hist_mc/hist_mc.sum(), out=np.zeros_like(hist_mc), where=(hist_mc!=0))\n",
    "hist_ratio_down = np.divide(hist_data_down/hist_data_nominal.sum(), hist_mc/hist_mc.sum(), out=np.zeros_like(hist_mc), where=(hist_mc!=0))"
   ]
  },
  {
   "cell_type": "code",
   "execution_count": 7,
   "metadata": {},
   "outputs": [],
   "source": [
    "hist_relunc_up = np.divide(hist_ratio_up, hist_ratio_nominal, out=np.zeros_like(hist_ratio_nominal), where=(hist_ratio_nominal!=0))\n",
    "hist_relunc_down = np.divide(hist_ratio_down, hist_ratio_nominal, out=np.zeros_like(hist_ratio_nominal), where=(hist_ratio_nominal!=0))"
   ]
  },
  {
   "cell_type": "code",
   "execution_count": 22,
   "metadata": {},
   "outputs": [
    {
     "data": {
      "image/png": "[encoded data removed]",
      "text/plain": [
       "<Figure size 300x400 with 2 Axes>"
      ]
     },
     "metadata": {
      "needs_background": "light"
     },
     "output_type": "display_data"
    }
   ],
   "source": [
    "fig, ax = plt.subplots(\n",
    "    figsize=(3, 4), dpi=100,\n",
    "    nrows=2, ncols=1, sharex=True, sharey=False,\n",
    "    gridspec_kw=dict(height_ratios=[2,1], wspace=0.1, hspace=0.1),\n",
    ")\n",
    "\n",
    "norm = hist_data_nominal.sum()\n",
    "ax[0].hist(\n",
    "    bins[:-1], bins=bins, weights=hist_data_nominal/norm,\n",
    "    histtype='step', color=\"#1f78b4\", label=\"Data\",\n",
    ")\n",
    "ax[0].set_xlim(bins.min(), 70)\n",
    "\n",
    "ax[0].fill_between(\n",
    "    bins,\n",
    "    np.array(list(hist_data_up)+[hist_data_up[-1]])/norm,\n",
    "    np.array(list(hist_data_down)+[hist_data_down[-1]])/norm,\n",
    "    step='post', color='#1f78b4', alpha=0.3,\n",
    ")\n",
    "\n",
    "ax[0].hist(\n",
    "    bins[:-1], bins=bins, weights=hist_mc/hist_mc.sum(),\n",
    "    histtype='step', color=\"#e31a1c\", label=\"MC\",\n",
    ")\n",
    "ax[0].set_ylabel(\"Normalised number of events\")\n",
    "dftools.draw.cms_label(ax[0], \"\")\n",
    "\n",
    "ax[1].hist(\n",
    "    bins[:-1], bins=bins, weights=hist_ratio_nominal,\n",
    "    histtype='step', color='#1f78b4'\n",
    ")\n",
    "ax[1].fill_between(\n",
    "    bins, list(hist_ratio_up)+[hist_ratio_up[-1]], list(hist_ratio_down)+[hist_ratio_down[-1]],\n",
    "    step='post', color='#1f78b4', alpha=0.3,\n",
    ")\n",
    "\n",
    "ax[1].hist(\n",
    "    bins[:-1], bins=bins, weights=np.divide(hist_mc, hist_mc, out=np.ones_like(hist_mc), where=(hist_mc!=0)),\n",
    "    histtype='step', color=\"#e31a1c\",\n",
    ")\n",
    "ax[1].set_ylabel(\"Scale-factor\")\n",
    "\n",
    "#ax[2].hist(\n",
    "#    bins[:-1], bins=bins, weights=np.divide(hist_ratio_nominal, hist_ratio_nominal, out=np.ones_like(hist_ratio_nominal), where=(hist_ratio_nominal!=0)),\n",
    "#    histtype='step', color='#1f78b4',\n",
    "#)\n",
    "#ax[2].fill_between(\n",
    "#    bins, list(hist_relunc_up)+[hist_relunc_up[-1]], list(hist_relunc_down)+[hist_relunc_down[-1]],\n",
    "#    step='post', color='#1f78b4', alpha=0.3,\n",
    "#)\n",
    "#ax[2].set_ylim(0., 2.)\n",
    "#ax[2].set_ylabel(\"Rel. unc.\")\n",
    "#\n",
    "ax[1].set_xlabel(r'Mean number of interactions')\n",
    "\n",
    "ax[0].legend(*ax[0].get_legend_handles_labels(), loc=1)\n",
    "\n",
    "fig.align_ylabels(ax)\n",
    "fig.savefig(\"pileup.pdf\", format='pdf', bbox_inches='tight')\n",
    "pass"
   ]
  },
  {
   "cell_type": "code",
   "execution_count": 27,
   "metadata": {},
   "outputs": [
    {
     "data": {
      "text/plain": [
       "22.65548216226952"
      ]
     },
     "execution_count": 27,
     "metadata": {},
     "output_type": "execute_result"
    }
   ],
   "source": [
    "average = (bins[:-1]*hist_data_nominal).sum()/hist_data_nominal.sum()\n",
    "average"
   ]
  },
  {
   "cell_type": "code",
   "execution_count": 29,
   "metadata": {},
   "outputs": [
    {
     "data": {
      "text/plain": [
       "21.0"
      ]
     },
     "execution_count": 29,
     "metadata": {},
     "output_type": "execute_result"
    }
   ],
   "source": [
    "bins[hist_data_nominal.argmax()]"
   ]
  },
  {
   "cell_type": "code",
   "execution_count": null,
   "metadata": {},
   "outputs": [],
   "source": []
  }
 ],
 "metadata": {
  "kernelspec": {
   "display_name": "Python 3",
   "language": "python",
   "name": "python3"
  },
  "language_info": {
   "codemirror_mode": {
    "name": "ipython",
    "version": 3
   },
   "file_extension": ".py",
   "mimetype": "text/x-python",
   "name": "python",
   "nbconvert_exporter": "python",
   "pygments_lexer": "ipython3",
   "version": "3.7.3"
  },
  "widgets": {
   "application/vnd.jupyter.widget-state+json": {
    "state": {},
    "version_major": 2,
    "version_minor": 0
   }
  }
 },
 "nbformat": 4,
 "nbformat_minor": 4
}
