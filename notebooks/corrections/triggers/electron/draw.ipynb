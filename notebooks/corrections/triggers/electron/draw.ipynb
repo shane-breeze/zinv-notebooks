{
 "cells": [
  {
   "cell_type": "code",
   "execution_count": 3,
   "metadata": {},
   "outputs": [
    {
     "name": "stdout",
     "output_type": "stream",
     "text": [
      "Welcome to JupyROOT 6.18/00\n"
     ]
    }
   ],
   "source": [
    "import numpy as np\n",
    "import pandas as pd\n",
    "import matplotlib.pyplot as plt\n",
    "import seaborn as sns\n",
    "import dftools"
   ]
  },
  {
   "cell_type": "code",
   "execution_count": 10,
   "metadata": {},
   "outputs": [],
   "source": [
    "plt.style.use(\"cms\")\n",
    "plt.rcParams.update({\"font.size\": 10})"
   ]
  },
  {
   "cell_type": "code",
   "execution_count": 11,
   "metadata": {},
   "outputs": [
    {
     "data": {
      "text/html": [
       "<div>\n",
       "<style scoped>\n",
       "    .dataframe tbody tr th:only-of-type {\n",
       "        vertical-align: middle;\n",
       "    }\n",
       "\n",
       "    .dataframe tbody tr th {\n",
       "        vertical-align: top;\n",
       "    }\n",
       "\n",
       "    .dataframe thead th {\n",
       "        text-align: right;\n",
       "    }\n",
       "</style>\n",
       "<table border=\"1\" class=\"dataframe\">\n",
       "  <thead>\n",
       "    <tr style=\"text-align: right;\">\n",
       "      <th></th>\n",
       "      <th>pt_low</th>\n",
       "      <th>pt_high</th>\n",
       "      <th>eta_low</th>\n",
       "      <th>eta_high</th>\n",
       "      <th>correction</th>\n",
       "      <th>unc_up</th>\n",
       "      <th>unc_down</th>\n",
       "    </tr>\n",
       "  </thead>\n",
       "  <tbody>\n",
       "    <tr>\n",
       "      <th>0</th>\n",
       "      <td>20.0</td>\n",
       "      <td>25.0</td>\n",
       "      <td>0.0</td>\n",
       "      <td>0.8000</td>\n",
       "      <td>0.411053</td>\n",
       "      <td>1.364248e-03</td>\n",
       "      <td>1.364248e-03</td>\n",
       "    </tr>\n",
       "    <tr>\n",
       "      <th>1</th>\n",
       "      <td>25.0</td>\n",
       "      <td>30.0</td>\n",
       "      <td>0.0</td>\n",
       "      <td>0.8000</td>\n",
       "      <td>0.653261</td>\n",
       "      <td>8.439484e-09</td>\n",
       "      <td>8.439484e-09</td>\n",
       "    </tr>\n",
       "    <tr>\n",
       "      <th>2</th>\n",
       "      <td>30.0</td>\n",
       "      <td>35.0</td>\n",
       "      <td>0.0</td>\n",
       "      <td>0.8000</td>\n",
       "      <td>0.800633</td>\n",
       "      <td>7.432803e-10</td>\n",
       "      <td>7.432803e-10</td>\n",
       "    </tr>\n",
       "    <tr>\n",
       "      <th>3</th>\n",
       "      <td>35.0</td>\n",
       "      <td>40.0</td>\n",
       "      <td>0.0</td>\n",
       "      <td>0.8000</td>\n",
       "      <td>0.910912</td>\n",
       "      <td>2.300676e-09</td>\n",
       "      <td>2.300676e-09</td>\n",
       "    </tr>\n",
       "    <tr>\n",
       "      <th>4</th>\n",
       "      <td>40.0</td>\n",
       "      <td>50.0</td>\n",
       "      <td>0.0</td>\n",
       "      <td>0.8000</td>\n",
       "      <td>0.921318</td>\n",
       "      <td>4.888292e-07</td>\n",
       "      <td>4.888292e-07</td>\n",
       "    </tr>\n",
       "    <tr>\n",
       "      <th>5</th>\n",
       "      <td>50.0</td>\n",
       "      <td>100.0</td>\n",
       "      <td>0.0</td>\n",
       "      <td>0.8000</td>\n",
       "      <td>0.941927</td>\n",
       "      <td>2.737591e-04</td>\n",
       "      <td>2.737591e-04</td>\n",
       "    </tr>\n",
       "    <tr>\n",
       "      <th>6</th>\n",
       "      <td>100.0</td>\n",
       "      <td>200.0</td>\n",
       "      <td>0.0</td>\n",
       "      <td>0.8000</td>\n",
       "      <td>0.968013</td>\n",
       "      <td>1.022868e-03</td>\n",
       "      <td>1.022868e-03</td>\n",
       "    </tr>\n",
       "    <tr>\n",
       "      <th>7</th>\n",
       "      <td>20.0</td>\n",
       "      <td>25.0</td>\n",
       "      <td>0.8</td>\n",
       "      <td>1.4442</td>\n",
       "      <td>0.373527</td>\n",
       "      <td>1.632556e-03</td>\n",
       "      <td>1.632556e-03</td>\n",
       "    </tr>\n",
       "    <tr>\n",
       "      <th>8</th>\n",
       "      <td>25.0</td>\n",
       "      <td>30.0</td>\n",
       "      <td>0.8</td>\n",
       "      <td>1.4442</td>\n",
       "      <td>0.656688</td>\n",
       "      <td>1.107737e-03</td>\n",
       "      <td>1.107737e-03</td>\n",
       "    </tr>\n",
       "    <tr>\n",
       "      <th>9</th>\n",
       "      <td>30.0</td>\n",
       "      <td>35.0</td>\n",
       "      <td>0.8</td>\n",
       "      <td>1.4442</td>\n",
       "      <td>0.845151</td>\n",
       "      <td>6.104323e-04</td>\n",
       "      <td>6.104323e-04</td>\n",
       "    </tr>\n",
       "  </tbody>\n",
       "</table>\n",
       "</div>"
      ],
      "text/plain": [
       "   pt_low  pt_high  eta_low  eta_high  correction        unc_up      unc_down\n",
       "0    20.0     25.0      0.0    0.8000    0.411053  1.364248e-03  1.364248e-03\n",
       "1    25.0     30.0      0.0    0.8000    0.653261  8.439484e-09  8.439484e-09\n",
       "2    30.0     35.0      0.0    0.8000    0.800633  7.432803e-10  7.432803e-10\n",
       "3    35.0     40.0      0.0    0.8000    0.910912  2.300676e-09  2.300676e-09\n",
       "4    40.0     50.0      0.0    0.8000    0.921318  4.888292e-07  4.888292e-07\n",
       "5    50.0    100.0      0.0    0.8000    0.941927  2.737591e-04  2.737591e-04\n",
       "6   100.0    200.0      0.0    0.8000    0.968013  1.022868e-03  1.022868e-03\n",
       "7    20.0     25.0      0.8    1.4442    0.373527  1.632556e-03  1.632556e-03\n",
       "8    25.0     30.0      0.8    1.4442    0.656688  1.107737e-03  1.107737e-03\n",
       "9    30.0     35.0      0.8    1.4442    0.845151  6.104323e-04  6.104323e-04"
      ]
     },
     "execution_count": 11,
     "metadata": {},
     "output_type": "execute_result"
    }
   ],
   "source": [
    "df = pd.read_csv(\"electron_trigger_v2.txt\", sep='\\s+')\n",
    "df.head(10)"
   ]
  },
  {
   "cell_type": "code",
   "execution_count": 12,
   "metadata": {},
   "outputs": [],
   "source": [
    "pt_low, pt_high, eta_low, eta_high = map(lambda x: x.unique(), [df[\"pt_low\"], df[\"pt_high\"], df[\"eta_low\"], df[\"eta_high\"]])\n",
    "pt_bins = np.array(list(pt_low)+[pt_high[-1]])\n",
    "eta_bins = np.array(list(eta_low)+[eta_high[-1]])"
   ]
  },
  {
   "cell_type": "code",
   "execution_count": 13,
   "metadata": {},
   "outputs": [],
   "source": [
    "#pd.pivot_table(df, index=\"pt_low\", columns=\"eta_low\", values=\"correction\")"
   ]
  },
  {
   "cell_type": "code",
   "execution_count": 16,
   "metadata": {},
   "outputs": [
    {
     "data": {
      "image/png": "[encoded data removed]",
      "text/plain": [
       "<Figure size 400x300 with 2 Axes>"
      ]
     },
     "metadata": {
      "needs_background": "light"
     },
     "output_type": "display_data"
    }
   ],
   "source": [
    "fig, ax = plt.subplots(figsize=(4, 3), dpi=100)\n",
    "\n",
    "dftools.draw.cms_label(ax, \"\") #, 'Preliminary')\n",
    "\n",
    "xbins = pt_bins\n",
    "ybins = eta_bins\n",
    "ax.set_xscale('log')\n",
    "ax.set_xlim(xbins.min(), xbins.max())\n",
    "ax.set_ylim(ybins.min(), ybins.max())\n",
    "ax.set_xlabel(r'$p_{\\mathrm{T}}$ (GeV)')\n",
    "ax.set_ylabel(r'$|\\eta_{\\mathrm{SC}}|$')\n",
    "\n",
    "hist, _, _, im = ax.hist2d(\n",
    "    df[\"pt_low\"], df[\"eta_low\"],\n",
    "    bins = (xbins, ybins),\n",
    "    weights = df[\"correction\"],\n",
    ")\n",
    "\n",
    "from matplotlib.ticker import ScalarFormatter\n",
    "ax.xaxis.set_major_formatter(ScalarFormatter())\n",
    "ax.set_xticks([20, 25, 30, 35, 40, 50, 60, 100, 200])\n",
    "ax.set_yticks(ybins)\n",
    "\n",
    "for i in range(len(xbins)-1):\n",
    "    for j in range(len(ybins)-1):\n",
    "        if i not in [1, 3]:\n",
    "            ax.text(\n",
    "                np.sqrt(xbins[i]*xbins[i+1]), (ybins[j]+ybins[j+1])/2.,\n",
    "                \"{:.2f}\".format(hist[i,j]),\n",
    "                ha='center', va='center', color=\"white\",\n",
    "                fontsize=10,\n",
    "            )\n",
    "        \n",
    "im.set_clim(None, 1.)\n",
    "cbar = fig.colorbar(im, ax=ax)\n",
    "#cbar.set_label(r'$\\mathtt{Ele27\\_WPTight\\_Gsf}$ Efficiency')\n",
    "cbar.set_label(r'Trigger efficiency')\n",
    "fig.savefig(\"electron_trigger_efficiency.pdf\", format='pdf', bbox_inches='tight')"
   ]
  },
  {
   "cell_type": "code",
   "execution_count": null,
   "metadata": {},
   "outputs": [],
   "source": []
  },
  {
   "cell_type": "code",
   "execution_count": null,
   "metadata": {},
   "outputs": [],
   "source": []
  }
 ],
 "metadata": {
  "kernelspec": {
   "display_name": "Python 3",
   "language": "python",
   "name": "python3"
  },
  "language_info": {
   "codemirror_mode": {
    "name": "ipython",
    "version": 3
   },
   "file_extension": ".py",
   "mimetype": "text/x-python",
   "name": "python",
   "nbconvert_exporter": "python",
   "pygments_lexer": "ipython3",
   "version": "3.7.3"
  },
  "widgets": {
   "application/vnd.jupyter.widget-state+json": {
    "state": {},
    "version_major": 2,
    "version_minor": 0
   }
  }
 },
 "nbformat": 4,
 "nbformat_minor": 4
}
