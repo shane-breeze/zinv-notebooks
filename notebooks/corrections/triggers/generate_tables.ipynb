{
 "cells": [
  {
   "cell_type": "code",
   "execution_count": 1,
   "metadata": {},
   "outputs": [],
   "source": [
    "import glob\n",
    "import oyaml as yaml\n",
    "import numpy as np\n",
    "import pandas as pd"
   ]
  },
  {
   "cell_type": "code",
   "execution_count": 2,
   "metadata": {},
   "outputs": [
    {
     "name": "stdout",
     "output_type": "stream",
     "text": [
      "Welcome to JupyROOT 6.18/00\n",
      "Help on function analyse in module zinv.modules.analyse:\n",
      "\n",
      "analyse(dataset_cfg, sequence_cfg, event_selection_cfg, physics_object_cfg, trigger_cfg, hdf_cfg, name='zinv', outdir='output', tempdir='_ccsp_temp', mode='multiprocessing', batch_opts='-q hep.q', ncores=0, nblocks_per_dataset=-1, nblocks_per_process=-1, nfiles_per_dataset=-1, nfiles_per_process=1, blocksize=1000000, cachesize=8, quiet=False, sample=None)\n",
      "\n"
     ]
    }
   ],
   "source": [
    "import zinv\n",
    "help(zinv.modules.analyse)"
   ]
  },
  {
   "cell_type": "code",
   "execution_count": 3,
   "metadata": {},
   "outputs": [
    {
     "name": "stdout",
     "output_type": "stream",
     "text": [
      "Help on function resume in module zinv.modules.resume:\n",
      "\n",
      "resume(path, batch_opts='-q hep.q', sleep=5, request_resubmission_options=True)\n",
      "\n"
     ]
    }
   ],
   "source": [
    "help(zinv.modules.resume)"
   ]
  },
  {
   "cell_type": "code",
   "execution_count": 4,
   "metadata": {},
   "outputs": [],
   "source": [
    "#zinv.modules.analyse(\n",
    "#    \"configs/nominal/datasets.yaml\",\n",
    "#    \"configs/nominal/module_sequence.yaml\",\n",
    "#    \"configs/nominal/event_selection.yaml\",\n",
    "#    \"configs/nominal/object_selection.yaml\",\n",
    "#    \"configs/nominal/trigger_selection.yaml\",\n",
    "#    \"configs/nominal/hdf_output.yaml\",\n",
    "#    outdir=\"/vols/cms/sdb15/ZinvWidth/tables/results_v2/\",\n",
    "#    tempdir=\"/vols/cms/sdb15/ZinvWidth/tables/_ccsp_temp/\",\n",
    "#    mode=\"sge\",\n",
    "#    batch_opts=\"-q hep.q -l h_rt=3:0:0 -l h_vmem=12G\",\n",
    "#    #mode=\"multiprocessing\",\n",
    "#    #ncores=0,\n",
    "#    nblocks_per_process=4,\n",
    "#    blocksize=1_000_000,\n",
    "#    sample=\"data\",\n",
    "#)\n",
    "\n",
    "#zinv.modules.resume(\n",
    "#    \"/vols/cms/sdb15/ZinvWidth/tables/_ccsp_temp/tpd_20190813_231556_deu_fsr3\",\n",
    "#    batch_opts=\"-q hep.q -l h_rt=3:0:0 -l h_vmem=24G\",\n",
    "#)"
   ]
  },
  {
   "cell_type": "markdown",
   "metadata": {},
   "source": [
    "## MET Skims"
   ]
  },
  {
   "cell_type": "code",
   "execution_count": 5,
   "metadata": {},
   "outputs": [
    {
     "name": "stdout",
     "output_type": "stream",
     "text": [
      "Help on function skim in module zdb.modules.skim:\n",
      "\n",
      "skim(config, mode='multiprocessing', ncores=0, nfiles=-1, batch_opts='', output=None)\n",
      "\n"
     ]
    }
   ],
   "source": [
    "import zdb\n",
    "help(zdb.modules.skim)"
   ]
  },
  {
   "cell_type": "code",
   "execution_count": 6,
   "metadata": {},
   "outputs": [
    {
     "name": "stdout",
     "output_type": "stream",
     "text": [
      "selection: \"(IsCertified) & (IsMETTriggered | IsSingleMuonTriggered | IsSingleElectronTriggered) & (Flag_goodVertices) & (Flag_globalSuperTightHalo2016Filter) & (Flag_HBHENoiseFilter) & (Flag_HBHENoiseIsoFilter) & (Flag_EcalDeadCellTriggerPrimitiveFilter) & (Flag_BadPFMuonFilter) & (Flag_BadGlobalMuon) & (Flag_CloneGlobalMuon) & (Flag_eeBadScFilter) & (MET_dCaloMET<0.6) & (nJetSelection>0) & (nJetSelection==nJetVeto) & (LeadJetSelection_pt>200.) & (LeadJetSelection_chHEF>0.1) & (LeadJetSelection_chHEF<0.95) & (nPhotonVeto==0) & (nBJetVeto==0)\"\n",
      "tables:\n",
      "    \"central\": \"Events\"\n",
      "files:\n",
      "    - \"/vols/cms/sdb15/Analysis/ZinvWidth/databases/201906_Jun/14_sortpt/Data/result_00000.h5\"\n",
      "    - \"/vols/cms/sdb15/Analysis/ZinvWidth/databases/201906_Jun/14_sortpt/Data/result_00001.h5\"\n",
      "    - \"/vols/cms/sdb15/Analysis/ZinvWidth/databases/201906_Jun/14_sortpt/Data/result_00002.h5\"\n",
      "    - \"/vols/cms/sdb15/Analysis/ZinvWidth/databases/201906_Jun/14_sortpt/Data/result_00003.h5\"\n",
      "    - \"/vols/cms/sdb15/Analysis/ZinvWidth/databases/201906_Jun/14_sortpt/Data/result_00004.h5\"\n",
      "    - \"/vols/cms/sdb15/Analysis/ZinvWidth/databases/201906_Jun/14_sortpt/Data/result_00005.h5\"\n",
      "cat: write error: Broken pipe\n"
     ]
    }
   ],
   "source": [
    "!cat configs/met_skim/cfg_data.yaml | head -n 10"
   ]
  },
  {
   "cell_type": "code",
   "execution_count": 7,
   "metadata": {},
   "outputs": [],
   "source": [
    "met_triggers = [\n",
    "    \"HLT_PFMETNoMu90_PFMHTNoMu90_IDTight\",\n",
    "    \"HLT_PFMETNoMu100_PFMHTNoMu100_IDTight\",\n",
    "    \"HLT_PFMETNoMu110_PFMHTNoMu110_IDTight\",\n",
    "    \"HLT_PFMETNoMu120_PFMHTNoMu120_IDTight\",\n",
    "    \"(HLT_PFMET170_NotCleaned & (run<276282))\",\n",
    "    \"(HLT_PFMET170_BeamHaloCleaned & (run<276282))\",\n",
    "    \"HLT_PFMET170_HBHECleaned\",\n",
    "    \"HLT_PFMET170_HBHE_BeamHaloCleaned\",\n",
    "]\n",
    "\n",
    "muon_triggers = [\n",
    "    \"HLT_IsoMu24\",\n",
    "    \"HLT_IsoTkMu24\",\n",
    "]\n",
    "\n",
    "selection = [\n",
    "    \"IsCertified\",\n",
    "    \"(\" + \" | \".join(muon_triggers) + \")\",\n",
    "    \"Flag_goodVertices\",\n",
    "    \"Flag_globalSuperTightHalo2016Filter\",\n",
    "    \"Flag_HBHENoiseFilter\",\n",
    "    \"Flag_HBHENoiseIsoFilter\",\n",
    "    \"Flag_EcalDeadCellTriggerPrimitiveFilter\",\n",
    "    \"Flag_BadPFMuonFilter\",\n",
    "    \"MET_dCaloMET<0.6\",\n",
    "    \"nJetSelection>0\",\n",
    "    \"nJetSelection==nJetVeto\",\n",
    "    \"LeadJetSelection_pt>200.\",\n",
    "    \"LeadJetSelection_chHEF>0.1\",\n",
    "    \"LeadJetSelection_neHEF<0.8\",\n",
    "    \"nPhotonVeto==0\",\n",
    "    \"nBJetVeto==0\",\n",
    "] \n",
    "\n",
    "cfg = {\n",
    "    \"selection\": \"(\" + \") & (\".join(selection) + \")\",\n",
    "    \"tables\": {\"central\": \"Events\"},\n",
    "    \"files\": sorted(p for p in glob.glob(\"/vols/cms/sdb15/ZinvWidth/tables/results_v2/*.h5\")),\n",
    "}\n",
    "with open(\"configs/met_skim/data.yaml\", \"w\") as f:\n",
    "    yaml.dump(cfg, f, indent=4)"
   ]
  },
  {
   "cell_type": "code",
   "execution_count": 8,
   "metadata": {},
   "outputs": [
    {
     "name": "stdout",
     "output_type": "stream",
     "text": [
      "selection: (IsCertified) & ((HLT_IsoMu24 | HLT_IsoTkMu24)) & (Flag_goodVertices) &\n",
      "    (Flag_globalSuperTightHalo2016Filter) & (Flag_HBHENoiseFilter) & (Flag_HBHENoiseIsoFilter)\n",
      "    & (Flag_EcalDeadCellTriggerPrimitiveFilter) & (Flag_BadPFMuonFilter) & (MET_dCaloMET<0.6)\n",
      "    & (nJetSelection>0) & (nJetSelection==nJetVeto) & (LeadJetSelection_pt>200.) &\n",
      "    (LeadJetSelection_chHEF>0.1) & (LeadJetSelection_neHEF<0.8) & (nPhotonVeto==0)\n",
      "    & (nBJetVeto==0)\n",
      "tables:\n",
      "    central: Events\n",
      "files:\n",
      "- /vols/cms/sdb15/ZinvWidth/tables/results_v2/result_00000.h5\n",
      "cat: write error: Broken pipe\n"
     ]
    }
   ],
   "source": [
    "!cat configs/met_skim/data.yaml | head -n 10"
   ]
  },
  {
   "cell_type": "code",
   "execution_count": 9,
   "metadata": {},
   "outputs": [
    {
     "name": "stdout",
     "output_type": "stream",
     "text": [
      "Help on function skim in module zdb.modules.skim:\n",
      "\n",
      "skim(config, mode='multiprocessing', ncores=0, nfiles=-1, batch_opts='', output=None)\n",
      "\n"
     ]
    }
   ],
   "source": [
    "help(zdb.modules.skim)"
   ]
  },
  {
   "cell_type": "code",
   "execution_count": 10,
   "metadata": {},
   "outputs": [],
   "source": [
    "!mkdir -p results/met_skims"
   ]
  },
  {
   "cell_type": "code",
   "execution_count": 11,
   "metadata": {},
   "outputs": [
    {
     "name": "stderr",
     "output_type": "stream",
     "text": [
      "2019-08-14 10:32:35,557 - pysge.area - INFO - Creating paths in /vols/build/cms/sdb15/ZinvWidth/zinv-notebooks/notebooks/corrections/triggers/_ccsp_temp/tpd_20190814_103235_n4etndo7\n"
     ]
    },
    {
     "data": {
      "application/vnd.jupyter.widget-view+json": {
       "model_id": "0b4a513739b14af49aa4fb8775dadd33",
       "version_major": 2,
       "version_minor": 0
      },
      "text/plain": [
       "HBox(children=(IntProgress(value=0, max=400), HTML(value='')))"
      ]
     },
     "metadata": {},
     "output_type": "display_data"
    },
    {
     "name": "stderr",
     "output_type": "stream",
     "text": [
      "2019-08-14 10:32:39,688 - pysge.submitter - ERROR - Malformed qsub submission string: ''\n"
     ]
    },
    {
     "name": "stdout",
     "output_type": "stream",
     "text": [
      "\n"
     ]
    },
    {
     "ename": "AttributeError",
     "evalue": "'NoneType' object has no attribute 'group'",
     "output_type": "error",
     "traceback": [
      "\u001b[0;31m---------------------------------------------------------------------------\u001b[0m",
      "\u001b[0;31mAttributeError\u001b[0m                            Traceback (most recent call last)",
      "\u001b[0;32m<ipython-input-11-dd03fe6f5339>\u001b[0m in \u001b[0;36m<module>\u001b[0;34m\u001b[0m\n\u001b[1;32m      6\u001b[0m     \u001b[0mncores\u001b[0m\u001b[0;34m=\u001b[0m\u001b[0;36m400\u001b[0m\u001b[0;34m,\u001b[0m\u001b[0;34m\u001b[0m\u001b[0;34m\u001b[0m\u001b[0m\n\u001b[1;32m      7\u001b[0m     \u001b[0mbatch_opts\u001b[0m\u001b[0;34m=\u001b[0m\u001b[0;34m'-q hep.q'\u001b[0m\u001b[0;34m,\u001b[0m\u001b[0;34m\u001b[0m\u001b[0;34m\u001b[0m\u001b[0m\n\u001b[0;32m----> 8\u001b[0;31m     \u001b[0moutput\u001b[0m\u001b[0;34m=\u001b[0m\u001b[0;34m\"/vols/build/cms/sdb15/ZinvWidth/zinv-notebooks/notebooks/corrections/triggers/results/met_skims/result_{:05d}.h5\"\u001b[0m\u001b[0;34m,\u001b[0m\u001b[0;34m\u001b[0m\u001b[0;34m\u001b[0m\u001b[0m\n\u001b[0m\u001b[1;32m      9\u001b[0m )\n",
      "\u001b[0;32m/vols/build/cms/sdb15/ZinvWidth/zinv-notebooks/externals/zdb-analysis/zdb/modules/skim.py\u001b[0m in \u001b[0;36mskim\u001b[0;34m(config, mode, ncores, nfiles, batch_opts, output)\u001b[0m\n\u001b[1;32m     35\u001b[0m         results = pysge.sge_submit(\n\u001b[1;32m     36\u001b[0m             \u001b[0;34m\"zdb\"\u001b[0m\u001b[0;34m,\u001b[0m \u001b[0;34m\"_ccsp_temp/\"\u001b[0m\u001b[0;34m,\u001b[0m \u001b[0mtasks\u001b[0m\u001b[0;34m=\u001b[0m\u001b[0mtasks\u001b[0m\u001b[0;34m,\u001b[0m \u001b[0moptions\u001b[0m\u001b[0;34m=\u001b[0m\u001b[0mbatch_opts\u001b[0m\u001b[0;34m,\u001b[0m\u001b[0;34m\u001b[0m\u001b[0;34m\u001b[0m\u001b[0m\n\u001b[0;32m---> 37\u001b[0;31m             \u001b[0msleep\u001b[0m\u001b[0;34m=\u001b[0m\u001b[0;36m5\u001b[0m\u001b[0;34m,\u001b[0m \u001b[0mrequest_resubmission_options\u001b[0m\u001b[0;34m=\u001b[0m\u001b[0;32mTrue\u001b[0m\u001b[0;34m,\u001b[0m\u001b[0;34m\u001b[0m\u001b[0;34m\u001b[0m\u001b[0m\n\u001b[0m\u001b[1;32m     38\u001b[0m         )\n\u001b[1;32m     39\u001b[0m     \u001b[0;32melif\u001b[0m \u001b[0mmode\u001b[0m\u001b[0;34m==\u001b[0m\u001b[0;34m\"condor\"\u001b[0m\u001b[0;34m:\u001b[0m\u001b[0;34m\u001b[0m\u001b[0;34m\u001b[0m\u001b[0m\n",
      "\u001b[0;32m/vols/build/cms/sdb15/ZinvWidth/zinv-notebooks/externals/pysge/pysge/interface.py\u001b[0m in \u001b[0;36msge_submit\u001b[0;34m(name, path, tasks, options, dryrun, quiet, sleep, request_resubmission_options)\u001b[0m\n\u001b[1;32m     30\u001b[0m     \u001b[0marea\u001b[0m\u001b[0;34m.\u001b[0m\u001b[0mcreate_areas\u001b[0m\u001b[0;34m(\u001b[0m\u001b[0mtasks\u001b[0m\u001b[0;34m,\u001b[0m \u001b[0mquiet\u001b[0m\u001b[0;34m=\u001b[0m\u001b[0mquiet\u001b[0m\u001b[0;34m)\u001b[0m\u001b[0;34m\u001b[0m\u001b[0;34m\u001b[0m\u001b[0m\n\u001b[1;32m     31\u001b[0m     \u001b[0;32mtry\u001b[0m\u001b[0;34m:\u001b[0m\u001b[0;34m\u001b[0m\u001b[0;34m\u001b[0m\u001b[0m\n\u001b[0;32m---> 32\u001b[0;31m         \u001b[0msubmitter\u001b[0m\u001b[0;34m.\u001b[0m\u001b[0msubmit_tasks\u001b[0m\u001b[0;34m(\u001b[0m\u001b[0marea\u001b[0m\u001b[0;34m.\u001b[0m\u001b[0mtask_paths\u001b[0m\u001b[0;34m,\u001b[0m \u001b[0mdryrun\u001b[0m\u001b[0;34m=\u001b[0m\u001b[0mdryrun\u001b[0m\u001b[0;34m,\u001b[0m \u001b[0mquiet\u001b[0m\u001b[0;34m=\u001b[0m\u001b[0mquiet\u001b[0m\u001b[0;34m)\u001b[0m\u001b[0;34m\u001b[0m\u001b[0;34m\u001b[0m\u001b[0m\n\u001b[0m\u001b[1;32m     33\u001b[0m         \u001b[0;32mif\u001b[0m \u001b[0;32mnot\u001b[0m \u001b[0mdryrun\u001b[0m\u001b[0;34m:\u001b[0m\u001b[0;34m\u001b[0m\u001b[0;34m\u001b[0m\u001b[0m\n\u001b[1;32m     34\u001b[0m             results = monitor.monitor_jobs(\n",
      "\u001b[0;32m/vols/build/cms/sdb15/ZinvWidth/zinv-notebooks/externals/pysge/pysge/submitter.py\u001b[0m in \u001b[0;36msubmit_tasks\u001b[0;34m(self, tasks, start, dryrun, request_user_input, quiet)\u001b[0m\n\u001b[1;32m     47\u001b[0m                 \u001b[0mlogger\u001b[0m\u001b[0;34m.\u001b[0m\u001b[0merror\u001b[0m\u001b[0;34m(\u001b[0m\u001b[0;34m\"Malformed qsub submission string: {}\"\u001b[0m\u001b[0;34m.\u001b[0m\u001b[0mformat\u001b[0m\u001b[0;34m(\u001b[0m\u001b[0mrepr\u001b[0m\u001b[0;34m(\u001b[0m\u001b[0mout\u001b[0m\u001b[0;34m.\u001b[0m\u001b[0mdecode\u001b[0m\u001b[0;34m(\u001b[0m\u001b[0;34m\"utf-8\"\u001b[0m\u001b[0;34m)\u001b[0m\u001b[0;34m)\u001b[0m\u001b[0;34m)\u001b[0m\u001b[0;34m)\u001b[0m\u001b[0;34m\u001b[0m\u001b[0;34m\u001b[0m\u001b[0m\n\u001b[1;32m     48\u001b[0m                 \u001b[0;32massert\u001b[0m \u001b[0mRuntimeError\u001b[0m\u001b[0;34m\u001b[0m\u001b[0;34m\u001b[0m\u001b[0m\n\u001b[0;32m---> 49\u001b[0;31m             \u001b[0mjobid\u001b[0m \u001b[0;34m=\u001b[0m \u001b[0mint\u001b[0m\u001b[0;34m(\u001b[0m\u001b[0mmatch\u001b[0m\u001b[0;34m.\u001b[0m\u001b[0mgroup\u001b[0m\u001b[0;34m(\u001b[0m\u001b[0;34m\"jobid\"\u001b[0m\u001b[0;34m)\u001b[0m\u001b[0;34m)\u001b[0m\u001b[0;34m\u001b[0m\u001b[0;34m\u001b[0m\u001b[0m\n\u001b[0m\u001b[1;32m     50\u001b[0m             \u001b[0mstart\u001b[0m \u001b[0;34m=\u001b[0m \u001b[0mint\u001b[0m\u001b[0;34m(\u001b[0m\u001b[0mmatch\u001b[0m\u001b[0;34m.\u001b[0m\u001b[0mgroup\u001b[0m\u001b[0;34m(\u001b[0m\u001b[0;34m\"start\"\u001b[0m\u001b[0;34m)\u001b[0m\u001b[0;34m)\u001b[0m\u001b[0;34m\u001b[0m\u001b[0;34m\u001b[0m\u001b[0m\n\u001b[1;32m     51\u001b[0m             \u001b[0mstop\u001b[0m \u001b[0;34m=\u001b[0m \u001b[0mint\u001b[0m\u001b[0;34m(\u001b[0m\u001b[0mmatch\u001b[0m\u001b[0;34m.\u001b[0m\u001b[0mgroup\u001b[0m\u001b[0;34m(\u001b[0m\u001b[0;34m\"stop\"\u001b[0m\u001b[0;34m)\u001b[0m\u001b[0;34m)\u001b[0m\u001b[0;34m\u001b[0m\u001b[0;34m\u001b[0m\u001b[0m\n",
      "\u001b[0;31mAttributeError\u001b[0m: 'NoneType' object has no attribute 'group'"
     ]
    }
   ],
   "source": [
    "zdb.modules.skim(\n",
    "    \"configs/met_skim/data.yaml\",\n",
    "    #mode=\"multiprocessing\",\n",
    "    #ncores=0,\n",
    "    mode='sge',\n",
    "    ncores=400,\n",
    "    batch_opts='-q hep.q',\n",
    "    output=\"/vols/build/cms/sdb15/ZinvWidth/zinv-notebooks/notebooks/corrections/triggers/results/met_skims/result_{:05d}.h5\",\n",
    ")"
   ]
  },
  {
   "cell_type": "code",
   "execution_count": null,
   "metadata": {},
   "outputs": [],
   "source": []
  }
 ],
 "metadata": {
  "kernelspec": {
   "display_name": "Python 3",
   "language": "python",
   "name": "python3"
  },
  "language_info": {
   "codemirror_mode": {
    "name": "ipython",
    "version": 3
   },
   "file_extension": ".py",
   "mimetype": "text/x-python",
   "name": "python",
   "nbconvert_exporter": "python",
   "pygments_lexer": "ipython3",
   "version": "3.7.3"
  },
  "widgets": {
   "application/vnd.jupyter.widget-state+json": {
    "state": {
     "0b4a513739b14af49aa4fb8775dadd33": {
      "model_module": "@jupyter-widgets/controls",
      "model_module_version": "1.5.0",
      "model_name": "HBoxModel",
      "state": {
       "children": [
        "IPY_MODEL_4727ecb123764f618d42398acd37f717",
        "IPY_MODEL_2fcfd4843a524026a1070f12353722ad"
       ],
       "layout": "IPY_MODEL_216b47f3b49b4155b685448c63c4101f"
      }
     },
     "216b47f3b49b4155b685448c63c4101f": {
      "model_module": "@jupyter-widgets/base",
      "model_module_version": "1.2.0",
      "model_name": "LayoutModel",
      "state": {}
     },
     "2fcfd4843a524026a1070f12353722ad": {
      "model_module": "@jupyter-widgets/controls",
      "model_module_version": "1.5.0",
      "model_name": "HTMLModel",
      "state": {
       "layout": "IPY_MODEL_bac9a6c8a04244bf8c17515da9fd6507",
       "style": "IPY_MODEL_53b6a52736954d6c9bbb30962dec7a66",
       "value": "100% 400/400 [00:04&lt;00:00, 98.10it/s]"
      }
     },
     "4727ecb123764f618d42398acd37f717": {
      "model_module": "@jupyter-widgets/controls",
      "model_module_version": "1.5.0",
      "model_name": "IntProgressModel",
      "state": {
       "bar_style": "success",
       "layout": "IPY_MODEL_791fe709d7464cbd944f3c9df5b37c12",
       "max": 400,
       "style": "IPY_MODEL_84cae76950934edca5a48567ebb9b005",
       "value": 400
      }
     },
     "53b6a52736954d6c9bbb30962dec7a66": {
      "model_module": "@jupyter-widgets/controls",
      "model_module_version": "1.5.0",
      "model_name": "DescriptionStyleModel",
      "state": {
       "description_width": ""
      }
     },
     "791fe709d7464cbd944f3c9df5b37c12": {
      "model_module": "@jupyter-widgets/base",
      "model_module_version": "1.2.0",
      "model_name": "LayoutModel",
      "state": {}
     },
     "84cae76950934edca5a48567ebb9b005": {
      "model_module": "@jupyter-widgets/controls",
      "model_module_version": "1.5.0",
      "model_name": "ProgressStyleModel",
      "state": {
       "description_width": ""
      }
     },
     "bac9a6c8a04244bf8c17515da9fd6507": {
      "model_module": "@jupyter-widgets/base",
      "model_module_version": "1.2.0",
      "model_name": "LayoutModel",
      "state": {}
     }
    },
    "version_major": 2,
    "version_minor": 0
   }
  }
 },
 "nbformat": 4,
 "nbformat_minor": 4
}
