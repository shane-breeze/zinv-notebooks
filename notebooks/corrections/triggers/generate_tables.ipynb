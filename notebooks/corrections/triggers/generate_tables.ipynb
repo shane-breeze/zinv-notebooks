{
 "cells": [
  {
   "cell_type": "code",
   "execution_count": 1,
   "metadata": {},
   "outputs": [
    {
     "name": "stdout",
     "output_type": "stream",
     "text": [
      "Welcome to JupyROOT 6.18/00\n"
     ]
    }
   ],
   "source": [
    "import zinv.modules"
   ]
  },
  {
   "cell_type": "code",
   "execution_count": 2,
   "metadata": {},
   "outputs": [
    {
     "name": "stdout",
     "output_type": "stream",
     "text": [
      "Help on function analyse in module zinv.modules.analyse:\n",
      "\n",
      "analyse(dataset_cfg, sequence_cfg, event_selection_cfg, physics_object_cfg, trigger_cfg, hdf_cfg, name='zinv', outdir='output', tempdir='_ccsp_temp', mode='multiprocessing', batch_opts='-q hep.q', ncores=0, nblocks_per_dataset=-1, nblocks_per_process=-1, nfiles_per_dataset=-1, nfiles_per_process=1, blocksize=1000000, cachesize=8, quiet=False, sample=None)\n",
      "\n"
     ]
    }
   ],
   "source": [
    "help(zinv.modules.analyse)"
   ]
  },
  {
   "cell_type": "code",
   "execution_count": null,
   "metadata": {},
   "outputs": [
    {
     "data": {
      "application/vnd.jupyter.widget-view+json": {
       "model_id": "63f3b7b7a337480aaa2bb3cb2020fa24",
       "version_major": 2,
       "version_minor": 0
      },
      "text/plain": [
       "HBox(children=(IntProgress(value=0, max=147), HTML(value='')))"
      ]
     },
     "metadata": {},
     "output_type": "display_data"
    },
    {
     "name": "stdout",
     "output_type": "stream",
     "text": [
      "\n"
     ]
    },
    {
     "name": "stderr",
     "output_type": "stream",
     "text": [
      "2019-08-11 11:08:49,102 - pysge.area - INFO - Creating paths in /vols/cms/sdb15/ZinvWidth/tables/_ccsp_temp/tpd_20190811_110846_fl8pv2w_\n"
     ]
    },
    {
     "data": {
      "application/vnd.jupyter.widget-view+json": {
       "model_id": "ad8a4cee9532439fb713e78e2b8da698",
       "version_major": 2,
       "version_minor": 0
      },
      "text/plain": [
       "HBox(children=(IntProgress(value=0, max=4112), HTML(value='')))"
      ]
     },
     "metadata": {},
     "output_type": "display_data"
    },
    {
     "name": "stderr",
     "output_type": "stream",
     "text": [
      "2019-08-11 11:35:45,942 - pysge.submitter - INFO - Submitted 9294156.1-4112:1\n"
     ]
    },
    {
     "name": "stdout",
     "output_type": "stream",
     "text": [
      "\n"
     ]
    },
    {
     "data": {
      "application/vnd.jupyter.widget-view+json": {
       "model_id": "09cb55f57c7f422eb1e4afaf0849c67b",
       "version_major": 2,
       "version_minor": 0
      },
      "text/plain": [
       "HBox(children=(IntProgress(value=0, description='Running ', max=4112, style=ProgressStyle(description_width='i…"
      ]
     },
     "metadata": {},
     "output_type": "display_data"
    },
    {
     "data": {
      "application/vnd.jupyter.widget-view+json": {
       "model_id": "a762d8a92c834cb385bc07a2e006d5c8",
       "version_major": 2,
       "version_minor": 0
      },
      "text/plain": [
       "HBox(children=(IntProgress(value=0, description='Finished', max=4112, style=ProgressStyle(description_width='i…"
      ]
     },
     "metadata": {},
     "output_type": "display_data"
    },
    {
     "name": "stderr",
     "output_type": "stream",
     "text": [
      "2019-08-11 11:36:18,249 - pysge.monitor - INFO - Resubmitting 9294156.14: /vols/cms/sdb15/ZinvWidth/tables/_ccsp_temp/tpd_20190811_110846_fl8pv2w_/task_00013\n"
     ]
    }
   ],
   "source": [
    "zinv.modules.analyse(\n",
    "    \"configs/datasets.yaml\",\n",
    "    \"configs/module_sequence.yaml\",\n",
    "    \"configs/event_selection.yaml\",\n",
    "    \"configs/object_selection.yaml\",\n",
    "    \"configs/trigger_selection.yaml\",\n",
    "    \"configs/hdf_output.yaml\",\n",
    "    outdir=\"results\",\n",
    "    tempdir=\"/vols/cms/sdb15/ZinvWidth/tables/_ccsp_temp/\",\n",
    "    mode=\"sge\",\n",
    "    batch_opts=\"-q hep.q -l h_rt=3:0:0 -l h_vmem=24G\",\n",
    "    #mode=\"multiprocessing\",\n",
    "    #ncores=0,\n",
    "    nblocks_per_process=1,\n",
    "    blocksize=1_000_000,\n",
    ")"
   ]
  },
  {
   "cell_type": "code",
   "execution_count": null,
   "metadata": {},
   "outputs": [],
   "source": []
  }
 ],
 "metadata": {
  "kernelspec": {
   "display_name": "Python 3",
   "language": "python",
   "name": "python3"
  },
  "language_info": {
   "codemirror_mode": {
    "name": "ipython",
    "version": 3
   },
   "file_extension": ".py",
   "mimetype": "text/x-python",
   "name": "python",
   "nbconvert_exporter": "python",
   "pygments_lexer": "ipython3",
   "version": "3.7.3"
  }
 },
 "nbformat": 4,
 "nbformat_minor": 4
}
